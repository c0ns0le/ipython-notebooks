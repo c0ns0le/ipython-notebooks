{
 "metadata": {
  "name": "",
  "signature": "sha256:7a805d2ef652890358028b2d7904898a8eef2e058502cb7aa2666afe30aec516"
 },
 "nbformat": 3,
 "nbformat_minor": 0,
 "worksheets": [
  {
   "cells": [
    {
     "cell_type": "heading",
     "level": 1,
     "metadata": {},
     "source": [
      "Math Problem"
     ]
    },
    {
     "cell_type": "heading",
     "level": 2,
     "metadata": {},
     "source": [
      "1. overlap rectangle"
     ]
    },
    {
     "cell_type": "markdown",
     "metadata": {},
     "source": [
      "Just think in the other direction"
     ]
    }
   ],
   "metadata": {}
  }
 ]
}