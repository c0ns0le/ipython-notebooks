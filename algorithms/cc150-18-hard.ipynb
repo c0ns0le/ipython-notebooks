{
 "metadata": {
  "name": "",
  "signature": "sha256:30765e93751ad0772b1cc12846796eaba7830e32234638687a44bc5b58d343c1"
 },
 "nbformat": 3,
 "nbformat_minor": 0,
 "worksheets": [
  {
   "cells": [
    {
     "cell_type": "heading",
     "level": 2,
     "metadata": {},
     "source": [
      "18.1 Add two numbers without using '+' or any arithmetic operations"
     ]
    },
    {
     "cell_type": "code",
     "collapsed": false,
     "input": [
      "# why oh why do you want to do this :(\n",
      "# okay, I saw the solution... the idea is...\n",
      "# do the add and carry part separately then recurse\n",
      "def perveseAdd(a, b):\n",
      "    if b == 0:\n",
      "        return a\n",
      "    res = a^b\n",
      "    carry = (a&b) << 1\n",
      "    return perveseAdd(res, carry)"
     ],
     "language": "python",
     "metadata": {},
     "outputs": [],
     "prompt_number": 1
    },
    {
     "cell_type": "code",
     "collapsed": false,
     "input": [
      "perveseAdd(5, 9)"
     ],
     "language": "python",
     "metadata": {},
     "outputs": []
    },
    {
     "cell_type": "heading",
     "level": 2,
     "metadata": {},
     "source": [
      "18.7 Given a list of words return the longest word made of other words"
     ]
    },
    {
     "cell_type": "code",
     "collapsed": false,
     "input": [
      "\n",
      "\n",
      "def longest(words):\n",
      "    words_dict = {word: True for word in words}\n",
      "    words.sort(key=len, reverse=True)\n",
      "    for s in words:\n",
      "        if can_build_word(s, True, words_dict):\n",
      "            print(s)\n",
      "            return s\n",
      "\n",
      "def can_build_word(word, is_original, words_dict):\n",
      "    if word in words_dict and not is_original:\n",
      "        return words_dict[word]\n",
      "    for i in range(1, len(word)):\n",
      "        left = word[:i]\n",
      "        right = word[i:]\n",
      "        if left in words_dict and words_dict[left] and can_build_word(right, False, words_dict):\n",
      "            return True\n",
      "    words_dict[word] = False\n",
      "    return False\n",
      "\n",
      "print(longest([\"cat\", \"banana\", \"dog\", \"nana\", \"walk\", \"walker\", \"dogwalker\"]))\n",
      "    "
     ],
     "language": "python",
     "metadata": {},
     "outputs": [
      {
       "output_type": "stream",
       "stream": "stdout",
       "text": [
        "dogwalker\n",
        "True\n"
       ]
      }
     ],
     "prompt_number": 5
    },
    {
     "cell_type": "heading",
     "level": 2,
     "metadata": {},
     "source": [
      "18.8 given a string s and an array of smaller strings t, search s for each small string in t"
     ]
    },
    {
     "cell_type": "code",
     "collapsed": false,
     "input": [
      "# okay... what does this mean? search? does how many times a string appear in s matter?"
     ],
     "language": "python",
     "metadata": {},
     "outputs": []
    }
   ],
   "metadata": {}
  }
 ]
}