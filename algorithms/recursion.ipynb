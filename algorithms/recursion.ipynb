{
 "metadata": {
  "name": "",
  "signature": "sha256:9e85a8105b6db7ec6f8c47e4bd81c7f3333fbdfddac82dbb3d0d016079d9d7e1"
 },
 "nbformat": 3,
 "nbformat_minor": 0,
 "worksheets": [
  {
   "cells": [
    {
     "cell_type": "code",
     "collapsed": false,
     "input": [
      "# all possible strings length k from a set of n characters\n",
      "\n",
      "def gnerate_strings(length, string_set, start, result, string_list):\n",
      "    if start == length:\n",
      "        result.append(\"\".join(string_list[:]))\n",
      "        return\n",
      "    for char in string_set:\n",
      "        string_list.append(char)\n",
      "        gnerate_strings(length, string_set, start+1, result, string_list)\n",
      "        string_list.pop()\n",
      "\n",
      "def possible_strings(k, string_set):\n",
      "    result = []\n",
      "    gnerate_strings(k, string_set, 0, result, [])\n",
      "    return result\n",
      "\n",
      "possible_strings(2, {'a', 'b', 'c'})"
     ],
     "language": "python",
     "metadata": {},
     "outputs": [
      {
       "metadata": {},
       "output_type": "pyout",
       "prompt_number": 3,
       "text": [
        "['aa', 'ac', 'ab', 'ca', 'cc', 'cb', 'ba', 'bc', 'bb']"
       ]
      }
     ],
     "prompt_number": 3
    },
    {
     "cell_type": "code",
     "collapsed": false,
     "input": [],
     "language": "python",
     "metadata": {},
     "outputs": []
    }
   ],
   "metadata": {}
  }
 ]
}