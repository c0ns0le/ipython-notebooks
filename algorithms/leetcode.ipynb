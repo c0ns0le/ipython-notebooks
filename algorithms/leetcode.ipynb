{
 "metadata": {
  "name": "",
  "signature": "sha256:d8adc5eabffa8b69082d3bd73b0752a39dcbf3ad22bb7128c9498ad1f87d6c1e"
 },
 "nbformat": 3,
 "nbformat_minor": 0,
 "worksheets": [
  {
   "cells": [
    {
     "cell_type": "heading",
     "level": 1,
     "metadata": {},
     "source": [
      "1. Bits..."
     ]
    },
    {
     "cell_type": "markdown",
     "metadata": {},
     "source": [
      "I know for sure these problems are about bit maipulation but I'm being lazy here... Sigh...\n",
      "And... they passed the OJ...\n",
      "\n",
      "It's time to read hacker's delight I guess"
     ]
    },
    {
     "cell_type": "heading",
     "level": 2,
     "metadata": {},
     "source": [
      "1. Reverse bit"
     ]
    },
    {
     "cell_type": "code",
     "collapsed": false,
     "input": [
      "# https://leetcode.com/problems/reverse-bits/\n",
      "# non bit maipulation version\n",
      "\n",
      "def reverseBits(n):\n",
      "    bin_string = bin(n)[2:]\n",
      "    bin_string = ((32-len(bin_string))*'0' + bin_string)[::-1]\n",
      "    return int(bin_string, 2)"
     ],
     "language": "python",
     "metadata": {},
     "outputs": [],
     "prompt_number": 19
    },
    {
     "cell_type": "code",
     "collapsed": false,
     "input": [
      "reverseBits(1)"
     ],
     "language": "python",
     "metadata": {},
     "outputs": [
      {
       "metadata": {},
       "output_type": "pyout",
       "prompt_number": 21,
       "text": [
        "2147483648"
       ]
      }
     ],
     "prompt_number": 21
    },
    {
     "cell_type": "heading",
     "level": 2,
     "metadata": {},
     "source": [
      "2. Numbers of 1 bits"
     ]
    },
    {
     "cell_type": "code",
     "collapsed": false,
     "input": [
      "# https://leetcode.com/problems/number-of-1-bits/\n",
      "# lazy-ass version\n",
      "\n",
      "def hammingWeight(self, n):\n",
      "    return bin(n).count('1')"
     ],
     "language": "python",
     "metadata": {},
     "outputs": []
    },
    {
     "cell_type": "code",
     "collapsed": false,
     "input": [
      "bin(0x55555555)"
     ],
     "language": "python",
     "metadata": {},
     "outputs": [
      {
       "metadata": {},
       "output_type": "pyout",
       "prompt_number": 25,
       "text": [
        "'0b1010101010101010101010101010101'"
       ]
      }
     ],
     "prompt_number": 25
    },
    {
     "cell_type": "code",
     "collapsed": false,
     "input": [
      "7 >> 1"
     ],
     "language": "python",
     "metadata": {},
     "outputs": [
      {
       "metadata": {},
       "output_type": "pyout",
       "prompt_number": 26,
       "text": [
        "3"
       ]
      }
     ],
     "prompt_number": 26
    },
    {
     "cell_type": "code",
     "collapsed": false,
     "input": [
      "7 >> 1 ^ 0x55555555"
     ],
     "language": "python",
     "metadata": {},
     "outputs": [
      {
       "metadata": {},
       "output_type": "pyout",
       "prompt_number": 27,
       "text": [
        "1431655766"
       ]
      }
     ],
     "prompt_number": 27
    },
    {
     "cell_type": "code",
     "collapsed": false,
     "input": [
      "bin(7 >> 1 ^ 0x55555555)"
     ],
     "language": "python",
     "metadata": {},
     "outputs": [
      {
       "metadata": {},
       "output_type": "pyout",
       "prompt_number": 28,
       "text": [
        "'0b1010101010101010101010101010110'"
       ]
      }
     ],
     "prompt_number": 28
    },
    {
     "cell_type": "code",
     "collapsed": false,
     "input": [
      "bin(7-7 >> 1 ^ 0x55555555)"
     ],
     "language": "python",
     "metadata": {},
     "outputs": [
      {
       "metadata": {},
       "output_type": "pyout",
       "prompt_number": 29,
       "text": [
        "'0b1010101010101010101010101010101'"
       ]
      }
     ],
     "prompt_number": 29
    },
    {
     "cell_type": "heading",
     "level": 2,
     "metadata": {},
     "source": [
      "References"
     ]
    },
    {
     "cell_type": "markdown",
     "metadata": {},
     "source": [
      "1. http://graphics.stanford.edu/~seander/bithacks.html\n",
      "2. http://stackoverflow.com/questions/15233121/calculating-hamming-weight-in-o1"
     ]
    },
    {
     "cell_type": "heading",
     "level": 1,
     "metadata": {},
     "source": [
      "2. Arrays"
     ]
    },
    {
     "cell_type": "heading",
     "level": 2,
     "metadata": {},
     "source": [
      "1. Rotate array"
     ]
    },
    {
     "cell_type": "code",
     "collapsed": false,
     "input": [
      "# https://leetcode.com/problems/rotate-array/\n",
      "\n",
      "def rotate(nums, k):\n",
      "    if not nums:\n",
      "        return nums\n",
      "    k = (len(nums)-k)%len(nums)\n",
      "    nums[:len(nums)-k], nums[len(nums)-k:] = nums[k:], nums[:k]\n",
      "    return nums"
     ],
     "language": "python",
     "metadata": {},
     "outputs": [],
     "prompt_number": 38
    },
    {
     "cell_type": "code",
     "collapsed": false,
     "input": [
      "rotate([1,2], 1)\n",
      "rotate([1,2,3,4,5,6,7], 3)"
     ],
     "language": "python",
     "metadata": {},
     "outputs": [
      {
       "metadata": {},
       "output_type": "pyout",
       "prompt_number": 40,
       "text": [
        "[5, 6, 7, 1, 2, 3, 4]"
       ]
      }
     ],
     "prompt_number": 40
    },
    {
     "cell_type": "heading",
     "level": 2,
     "metadata": {},
     "source": [
      "2. Maximum subarray problem"
     ]
    },
    {
     "cell_type": "code",
     "collapsed": false,
     "input": [
      "# http://www.wikiwand.com/en/Maximum_subarray_problem\n",
      "# if list of length 0 can be returned\n",
      "\n",
      "def max_subarray(A):\n",
      "    \"\"\"\n",
      "    The idea is to use dynamic programming, the max ending \n",
      "    at a position can be either 0 or ...\n",
      "    \"\"\"\n",
      "    max_ending_here = max_so_far = 0\n",
      "    for x in A:\n",
      "        max_ending_here = max(0, max_ending_here + x)\n",
      "        max_so_far = max(max_so_far, max_ending_here)\n",
      "    return max_so_far\n",
      "\n",
      "# if list of length 0 can't be returned\n",
      "\n",
      "def max_subarray(A):\n",
      "    max_ending_here = max_so_far = A[0]\n",
      "    for x in A[1:]:\n",
      "        max_ending_here = max(x, max_ending_here + x)\n",
      "        max_so_far = max(max_so_far, max_ending_here)\n",
      "    return max_so_far"
     ],
     "language": "python",
     "metadata": {},
     "outputs": []
    },
    {
     "cell_type": "heading",
     "level": 2,
     "metadata": {},
     "source": [
      "3. Buy and sell stocks 1"
     ]
    },
    {
     "cell_type": "markdown",
     "metadata": {},
     "source": [
      "My solution is to keep track of at each position what's the minimum so far and what's the maximum\n",
      "in the later part is and then do pick the one with the largest difference."
     ]
    },
    {
     "cell_type": "code",
     "collapsed": false,
     "input": [
      "def maxProfit(prices):\n",
      "    if not prices:\n",
      "            return 0\n",
      "    length = len(prices)\n",
      "    mins, maxs = [prices[0]], [prices[-1]]\n",
      "    # so far the minimum\n",
      "    for i in range(1, length):\n",
      "        mins.append(min(mins[-1], prices[i]))\n",
      "    # the largest in the rest of the array/list\n",
      "    for i in range(length-1, 0, -1):\n",
      "        maxs.append(max(maxs[-1], prices[i]))\n",
      " \n",
      "    return max([maxs[length-1-i]-mins[i] for i in range(length)])"
     ],
     "language": "python",
     "metadata": {},
     "outputs": []
    },
    {
     "cell_type": "markdown",
     "metadata": {},
     "source": [
      "There are several other solutions. First one is keep track both the minimum element and the max_diff at the same time.  \n",
      "The third solution is quite awesome. It first calculate the differences between two consecutive elements and then transform the problem into a maximum subarray problem."
     ]
    },
    {
     "cell_type": "code",
     "collapsed": false,
     "input": [
      "def maxProfit(prices):\n",
      "    if not prices:\n",
      "        return 0\n",
      "    max_diff = 0\n",
      "    min_ele = prices[0]\n",
      "    for i in range(1, len(prices)):\n",
      "        max_diff = max(max_diff, prices[i]-min_ele)\n",
      "        min_ele = min(min_ele, prices[i])\n",
      "    return max_diff"
     ],
     "language": "python",
     "metadata": {},
     "outputs": []
    },
    {
     "cell_type": "heading",
     "level": 2,
     "metadata": {},
     "source": [
      "4. Buy and sell stocks 2"
     ]
    },
    {
     "cell_type": "markdown",
     "metadata": {},
     "source": [
      "I keep two lists, one keeping all the minimum and the other maximum.\n",
      "Then just add the corresponding differences together. Like this:"
     ]
    },
    {
     "cell_type": "code",
     "collapsed": false,
     "input": [
      "def maxProfit(prices):\n",
      "    if len(prices) < 2:\n",
      "        return 0\n",
      "    smallest, largest = [], []\n",
      "    if prices[0] < prices[1]:\n",
      "        smallest.append(prices[0])\n",
      "    for i in range(1, len(prices)-1):\n",
      "        if prices[i-1] < prices[i] >= prices[i+1]:\n",
      "            largest.append(prices[i])\n",
      "        elif prices[i-1] >= prices[i] < prices[i+1]:\n",
      "            smallest.append(prices[i])\n",
      "    if prices[-1] > prices[-2]:\n",
      "        largest.append(prices[-1])\n",
      "    if not largest:\n",
      "        return 0\n",
      "    return sum([large - small for large, small in zip(largest, smallest)])"
     ],
     "language": "python",
     "metadata": {},
     "outputs": []
    },
    {
     "cell_type": "heading",
     "level": 2,
     "metadata": {},
     "source": [
      "5. Buy and sell stocks 3"
     ]
    },
    {
     "cell_type": "code",
     "collapsed": false,
     "input": [
      "def maxProfit(prices):\n",
      "    if len(prices) <= 1:\n",
      "        return 0\n",
      "    max_diff = 0\n",
      "    min_ele = prices[0]\n",
      "    first_half_max = [max_diff]\n",
      "    for i in range(1, len(prices)):\n",
      "        max_diff = max(max_diff, prices[i]-min_ele)\n",
      "        min_ele = min(min_ele, prices[i])\n",
      "        first_half_max.append(max_diff)\n",
      "    res = first_half_max[-1]\n",
      "    largest = prices[-1]\n",
      "    max_profit = 0\n",
      "    for j in range(len(prices)-2, -1, -1):\n",
      "        max_profit = max(max_profit, largest-prices[j])\n",
      "        largest = max(largest, prices[i])\n",
      "        res = max(res, max_profit+first_half_max[j])\n",
      "    \n",
      "    return res"
     ],
     "language": "python",
     "metadata": {},
     "outputs": [],
     "prompt_number": 42
    },
    {
     "cell_type": "heading",
     "level": 2,
     "metadata": {},
     "source": [
      "6. Buy and sell stocks 4"
     ]
    },
    {
     "cell_type": "code",
     "collapsed": false,
     "input": [
      "# ughhhh, still hasn't figured out the DP solution yet.\n",
      "# I need to visulize\n",
      "# DP DP DP DP DP"
     ],
     "language": "python",
     "metadata": {},
     "outputs": []
    },
    {
     "cell_type": "code",
     "collapsed": false,
     "input": [],
     "language": "python",
     "metadata": {},
     "outputs": []
    }
   ],
   "metadata": {}
  }
 ]
}