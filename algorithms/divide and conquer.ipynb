{
 "metadata": {
  "name": "",
  "signature": "sha256:5d8b9735f8c95a3bec8f22c78fdcb0a3ebd53f2b4bff3d803251e4fc2651f4a8"
 },
 "nbformat": 3,
 "nbformat_minor": 0,
 "worksheets": [
  {
   "cells": [
    {
     "cell_type": "heading",
     "level": 2,
     "metadata": {},
     "source": [
      "Median of two sorted arrays"
     ]
    },
    {
     "cell_type": "markdown",
     "metadata": {},
     "source": [
      "- Naive implementation. The median has to be the average of the (n-1)th and nth element of the combined array. We just do the merge process."
     ]
    },
    {
     "cell_type": "code",
     "collapsed": false,
     "input": [
      "def findMedian(array1, array2):\n",
      "    n = len(array1)\n",
      "    i = j = 0\n",
      "    # corner cases\n",
      "    if array1[0] >= array2[-1]:\n",
      "        return (array1[0] + array2[-1])/2\n",
      "    if array2[0] >= array1[-1]:\n",
      "        return (array2[0] + array1[-1])/2\n",
      "    # when i+j = n-1 we've found (n-1)th element\n",
      "    while i+j < n-1:\n",
      "        if array1[i] > array2[j]:\n",
      "            j += 1\n",
      "        else:\n",
      "            i += 1\n",
      "    # then we need to find the nth element and average them\n",
      "    if array1[i] >= array2[j]:\n",
      "        return (array1[i] + min(array2[j], array1[i+1]))/2\n",
      "    else:\n",
      "        return (array2[j] + min(array1[i], array2[j+1]))/2"
     ],
     "language": "python",
     "metadata": {},
     "outputs": [],
     "prompt_number": 3
    },
    {
     "cell_type": "code",
     "collapsed": false,
     "input": [
      "findMedian([1, 12, 15, 26, 38], [2, 13, 17, 30, 45])"
     ],
     "language": "python",
     "metadata": {},
     "outputs": [
      {
       "metadata": {},
       "output_type": "pyout",
       "prompt_number": 4,
       "text": [
        "16"
       ]
      }
     ],
     "prompt_number": 4
    },
    {
     "cell_type": "code",
     "collapsed": false,
     "input": [
      "def find_median(array1, array2, start, end, length):\n",
      "    mid = (start+end)/2\n",
      "    j = length-mid-1\n",
      "    if array1[mid] >= array2[j]:\n",
      "        \n",
      "\n",
      "def findMedian_BS(array1, array2):\n",
      "    # corner cases\n",
      "    if array1[0] >= array2[-1]:\n",
      "        return (array1[0] + array2[-1])/2\n",
      "    if array2[0] >= array1[-1]:\n",
      "        return (array2[0] + array1[-1])/2\n",
      "    return find_median(array1, array2, 0, len(array1)-1, len(array1))"
     ],
     "language": "python",
     "metadata": {},
     "outputs": []
    }
   ],
   "metadata": {}
  }
 ]
}