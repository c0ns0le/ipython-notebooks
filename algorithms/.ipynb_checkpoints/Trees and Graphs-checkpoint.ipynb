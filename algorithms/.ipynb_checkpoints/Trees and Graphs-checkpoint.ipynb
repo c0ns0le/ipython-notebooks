{
 "metadata": {
  "name": "",
  "signature": "sha256:e035ad1fadef2334c141a0e0044db0161037d5e25e94915bd1c9eba024625194"
 },
 "nbformat": 3,
 "nbformat_minor": 0,
 "worksheets": [
  {
   "cells": [
    {
     "cell_type": "heading",
     "level": 1,
     "metadata": {},
     "source": [
      "Graphs and trees"
     ]
    },
    {
     "cell_type": "heading",
     "level": 2,
     "metadata": {},
     "source": [
      "1. if a binary tree is BST or not"
     ]
    },
    {
     "cell_type": "code",
     "collapsed": false,
     "input": [
      "# From CC150 Trees and graphs. 4.5\n",
      "import sys\n",
      "\n",
      "def is_BST(node, max_value, min_value):\n",
      "    \"\"\" keep updating max value and min value for a node.\n",
      "    \"\"\"\n",
      "    if not node:\n",
      "        return True\n",
      "    if node.val > max_value or node.val < min_value:\n",
      "        return False\n",
      "    return is_BST(node.left, node.val-1, min_value) and is_BST(node.right, max_value, node.val+1)\n",
      "\n",
      "def isBST(root):\n",
      "    return is_BST(root, sys.maxint, -sys.maxint)\n",
      "    "
     ],
     "language": "python",
     "metadata": {},
     "outputs": [],
     "prompt_number": 5
    },
    {
     "cell_type": "heading",
     "level": 2,
     "metadata": {},
     "source": [
      "2. Add all greater values to every node in a given BST"
     ]
    },
    {
     "cell_type": "code",
     "collapsed": false,
     "input": [],
     "language": "python",
     "metadata": {},
     "outputs": []
    },
    {
     "cell_type": "heading",
     "level": 2,
     "metadata": {},
     "source": [
      "3. Create linked list of all the nodes at each depth"
     ]
    },
    {
     "cell_type": "code",
     "collapsed": false,
     "input": [
      "# From CC 150 Trees and graphs. 4.4\n",
      "\n",
      "# method 1\n",
      "def create_linked_lists(root):\n",
      "    result = []\n",
      "    create_linked_list(root, 0, result)\n",
      "    return result\n",
      "\n",
      "def create_linked_list(node, depth, result):\n",
      "    if not node:\n",
      "        return\n",
      "    if len(result) < depth+1:\n",
      "        new_list = []\n",
      "        new_list.append(node)\n",
      "    else:\n",
      "        result[depth].append(node)\n",
      "    create_linked_list(node.left, depth+1, result)\n",
      "    create_linked_list(node.right, depth+1, result)\n",
      "\n",
      "# method 2\n",
      "\n",
      "def create_linked_lists(root):\n",
      "    result = []\n",
      "    if root is not None:\n",
      "        current = [root]\n",
      "    while current:\n",
      "        result.append(current[:])\n",
      "        parent = current\n",
      "        current = []\n",
      "        for node in parent:\n",
      "            if node.left is not None:\n",
      "                current.append(parent.left)\n",
      "            if node.right is not None:\n",
      "                current.append(parent.right)\n",
      "    return result"
     ],
     "language": "python",
     "metadata": {},
     "outputs": []
    },
    {
     "cell_type": "heading",
     "level": 2,
     "metadata": {},
     "source": [
      "4. Find the next node of a given node in a BST"
     ]
    },
    {
     "cell_type": "code",
     "collapsed": false,
     "input": [
      "# from cc150 Trees and graphs 4.6\n",
      "\n",
      "# parent pointer available\n",
      "def findNext(node):\n",
      "    if node is None:\n",
      "        return\n",
      "    if node.right is None and node.left is None:\n",
      "        return\n",
      "    if node.right is not None:\n",
      "        node = node.right\n",
      "        while node.left is not None:\n",
      "            node = node.left\n",
      "        return node\n",
      "    if node.parent.left == node:\n",
      "        return node.parent\n",
      "    if node.parent.right == node:\n",
      "        node = node.parent\n",
      "        while node.parent and node.parent.right == node:\n",
      "            node = node.parent\n",
      "        return node.parent\n",
      "\n",
      "# parent pointer not available\n",
      "# then we just *search* from the root\n",
      "# this method makes use of the value of node\n",
      "\n",
      "def findNext(root, node):\n",
      "    if node.right is not None:\n",
      "        return min_value(node.left)\n",
      "    succ - None\n",
      "    while root is not None:\n",
      "        # update succ when root has a larger value\n",
      "        if node.value < root.value:\n",
      "            succ = root\n",
      "            root = root.left\n",
      "        elif node.value > root.value:\n",
      "            root = root.next\n",
      "        else:\n",
      "            break\n",
      "    return succ\n",
      "    "
     ],
     "language": "python",
     "metadata": {},
     "outputs": []
    },
    {
     "cell_type": "heading",
     "level": 2,
     "metadata": {},
     "source": [
      "5. Find the first common ancestor of two nodes in a BT"
     ]
    },
    {
     "cell_type": "code",
     "collapsed": false,
     "input": [
      "# CC150 Trees and graphs 4.7\n",
      "\n",
      "# method 1\n",
      "def has_node(root, node):\n",
      "    if root is None:\n",
      "        return False\n",
      "    if root == node:\n",
      "        return True\n",
      "    return has_node(root.left) or has_node(root.right)\n",
      "\n",
      "def common_ancester(root, node1, node2):\n",
      "    if not has_node(root, node1) or not has_node(root, node2):\n",
      "        return None\n",
      "    return find_common_ancester(root, node1, node2)\n",
      "\n",
      "def find_common_ancester(root, node1, node2):\n",
      "    if root is None:\n",
      "        return None\n",
      "    is_p_left = has_node(root.left, node1)\n",
      "    is_q_left = has_node(root.left, node2)\n",
      "    if is_q_left != is_q_left:\n",
      "        return root\n",
      "    if is_q_left:\n",
      "        return common_ancester(root.left, node1, node2)\n",
      "    else:\n",
      "        return common_ancester(root.right, node1, node2)\n",
      "\n",
      "    \n",
      "# method 2\n",
      "\n"
     ],
     "language": "python",
     "metadata": {},
     "outputs": []
    },
    {
     "cell_type": "heading",
     "level": 2,
     "metadata": {},
     "source": [
      "6. If a binary tree is subtree of another binary tree"
     ]
    },
    {
     "cell_type": "code",
     "collapsed": false,
     "input": [
      "# method 1: compare every node\n",
      "\n",
      "# method 2:\n",
      "# in order and psot order uniquely identify a tree"
     ],
     "language": "python",
     "metadata": {},
     "outputs": []
    }
   ],
   "metadata": {}
  }
 ]
}