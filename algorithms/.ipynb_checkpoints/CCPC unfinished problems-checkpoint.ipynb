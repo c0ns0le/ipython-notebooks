{
 "metadata": {
  "name": "",
  "signature": "sha256:c551c89fc9a2cee8e250bba3b710459190dab9bafbb0e9eb3782a4f2f2c31c4a"
 },
 "nbformat": 3,
 "nbformat_minor": 0,
 "worksheets": [
  {
   "cells": [
    {
     "cell_type": "heading",
     "level": 1,
     "metadata": {},
     "source": [
      "Unsolved problems"
     ]
    },
    {
     "cell_type": "markdown",
     "metadata": {},
     "source": [
      "# Problem C: http://psc.cpsc.ucalgary.ca/practice/2015-03-11/problems/C.pdf"
     ]
    },
    {
     "cell_type": "code",
     "collapsed": false,
     "input": [
      "# calgary[0-9]\n",
      "# team[0-9]\n",
      "\n",
      "def threes():\n",
      "    pass"
     ],
     "language": "python",
     "metadata": {},
     "outputs": [],
     "prompt_number": 2
    },
    {
     "cell_type": "heading",
     "level": 2,
     "metadata": {},
     "source": [
      "Threes"
     ]
    },
    {
     "cell_type": "code",
     "collapsed": false,
     "input": [
      "# from http://psc.cpsc.ucalgary.ca/practice/2015-03-11/problems/E.pdf"
     ],
     "language": "python",
     "metadata": {},
     "outputs": [],
     "prompt_number": 3
    },
    {
     "cell_type": "code",
     "collapsed": false,
     "input": [
      "import bisect\n",
      "\n",
      "def threes(A):\n",
      "    max_sum = max(A)\n",
      "    curr_sum = 3\n",
      "    \n",
      "    curr = []\n",
      "    for i in range(len(A)):\n",
      "        if A[i] == 3:\n",
      "            #position = bisect.bisect(curr, (i, i))\n",
      "            bisect.insort(curr, (i, i))\n",
      "        if A[i] == 1:\n",
      "            if i > 0 and A[i-1] == 2:\n",
      "                bisect.insort(curr, (i-1, i))\n",
      "            if i < len(A) - 1 and A[i+1] == 2:\n",
      "                bisect.insort(curr, (i, i+1))\n",
      "    if curr:\n",
      "        max_sum = max(max_sum, curr_sum)\n",
      "    \n",
      "    for i in range(1, 25):\n",
      "        print curr\n",
      "        next_list = []\n",
      "        curr_sum *= 2\n",
      "        for i in range(len(A)):\n",
      "            if A[i] == curr_sum:\n",
      "                bisect.insort(next_list, (i, i))\n",
      "        for p in curr:\n",
      "            s = (p[1]+1, 0)\n",
      "            position = bisect.bisect(curr, s)\n",
      "            for j in range(position, len(curr)):\n",
      "                if curr[j][0] == s[0]:\n",
      "                    bisect.insort(next_list, (p[0], curr[j][1]))\n",
      "                else:\n",
      "                    break\n",
      "        if next_list:\n",
      "            max_sum = max(max_sum, curr_sum)\n",
      "            \n",
      "        curr = next_list\n",
      "    \n",
      "    print(max_sum)\n",
      "\n",
      "t_c = int(raw_input())\n",
      "for i in range(tc):\n",
      "    raw_input()\n",
      "    A = map(int, raw_input().split())\n",
      "    threes(A)\n",
      "    \n",
      "    "
     ],
     "language": "python",
     "metadata": {},
     "outputs": [
      {
       "output_type": "stream",
       "stream": "stdout",
       "text": [
        "[(0, 0), (1, 1), (2, 2), (3, 3)]\n",
        "[(0, 1), (1, 2), (2, 3)]\n",
        "[(0, 3)]\n",
        "[]\n",
        "[]\n",
        "[]\n",
        "[]\n",
        "[]\n",
        "[]\n",
        "[]\n",
        "[]\n",
        "[]\n",
        "[]\n",
        "[]\n",
        "[]\n",
        "[]\n",
        "[]\n",
        "[]\n",
        "[]\n",
        "[]\n",
        "[]\n",
        "[]\n",
        "[]\n",
        "[]\n",
        "12\n"
       ]
      }
     ],
     "prompt_number": 14
    },
    {
     "cell_type": "code",
     "collapsed": false,
     "input": [
      "# Problem C: http://psc.cpsc.ucalgary.ca/practice/2015-03-11/problems/C.pdf"
     ],
     "language": "python",
     "metadata": {},
     "outputs": [],
     "prompt_number": 9
    },
    {
     "cell_type": "code",
     "collapsed": false,
     "input": [
      "from collections import deque\n",
      "\n",
      "def solve(N, d):\n",
      "    \n",
      "    d = [int(item, 16) for item in d]\n",
      "    prev = [-2]*200000\n",
      "    digit = [0]*200000\n",
      "    \n",
      "    q = deque()\n",
      "    for i in range(len(d)):\n",
      "        if d[i] !=0 and prev[d[i]] == -2:\n",
      "            prev[d[i]%N] = -1\n",
      "            digit[d[i]%N] = d[i]\n",
      "            q.append(d[i]%N)\n",
      "    \n",
      "    while q and prev[0] == -2:\n",
      "        curr = q.popleft()\n",
      "        for i in range(len(d)):\n",
      "            next_number = ((curr*16)%N + d[i])%N\n",
      "            if prev[next_number] == -2:\n",
      "                prev[next_number] = curr\n",
      "                digit[next_number] = d[i]\n",
      "                q.append(next_number)\n",
      "    if prev[0] == -2:\n",
      "        print \"no solution\"\n",
      "    else:\n",
      "        s = hex(digit[0])[-1]\n",
      "        t = prev[0]\n",
      "        while t != -1:\n",
      "            s += hex(digit[t])[-1]\n",
      "            t = prev[t]\n",
      "        print s[::-1]\n",
      "        \n",
      "solve(33910, ['0', 'c', 'e', 'f'])        \n",
      " \n",
      "tc = int(raw_input())\n",
      "for i in range(tc):\n",
      "    N = map(int, raw_input().split())[0]\n",
      "    hex_list = raw_input().split()\n",
      "    solve(N, hex_list)"
     ],
     "language": "python",
     "metadata": {},
     "outputs": [
      {
       "output_type": "stream",
       "stream": "stdout",
       "text": [
        "c0ffee\n"
       ]
      },
      {
       "metadata": {},
       "output_type": "pyout",
       "prompt_number": 42,
       "text": [
        "'   \\ntc = int(raw_input())\\nfor i in range(tc):\\n    N = map(int, raw_input())[0]\\n    hex_list = raw_input().split()\\n    solve(N, hex_list)\\n'"
       ]
      }
     ],
     "prompt_number": 42
    },
    {
     "cell_type": "code",
     "collapsed": false,
     "input": [
      "hex(1)+hex(15)"
     ],
     "language": "python",
     "metadata": {},
     "outputs": [
      {
       "metadata": {},
       "output_type": "pyout",
       "prompt_number": 36,
       "text": [
        "'0x10xf'"
       ]
      }
     ],
     "prompt_number": 36
    },
    {
     "cell_type": "code",
     "collapsed": false,
     "input": [
      "\"abcde\"[::-1]"
     ],
     "language": "python",
     "metadata": {},
     "outputs": [
      {
       "metadata": {},
       "output_type": "pyout",
       "prompt_number": 22,
       "text": [
        "'edcba'"
       ]
      }
     ],
     "prompt_number": 22
    },
    {
     "cell_type": "code",
     "collapsed": false,
     "input": [],
     "language": "python",
     "metadata": {},
     "outputs": []
    }
   ],
   "metadata": {}
  }
 ]
}