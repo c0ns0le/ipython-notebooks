{
 "metadata": {
  "name": "",
  "signature": "sha256:7a0091f99e36d21f0204048ff3d294e79f67bb4524a8adf15d36612628f71586"
 },
 "nbformat": 3,
 "nbformat_minor": 0,
 "worksheets": [
  {
   "cells": [
    {
     "cell_type": "heading",
     "level": 2,
     "metadata": {},
     "source": [
      "Math"
     ]
    },
    {
     "cell_type": "code",
     "collapsed": false,
     "input": [
      "A: (x1, y1), B:(x2, y2), C:(x3, y3)\n",
      "# Three points are a counter-clockwise turn if ccw > 0, clockwise if\n",
      "# ccw < 0, and collinear if ccw = 0 because ccw is a determinant that\n",
      "# gives twice the signed  area of the triangle formed by p1, p2 and p3.           \n",
      "def ccw(p1, p2, p3):\n",
      "    return (p2.x - p1.x)*(p3.y - p1.y) - (p2.y - p1.y)*(p3.x - p1.x)"
     ],
     "language": "python",
     "metadata": {},
     "outputs": []
    },
    {
     "cell_type": "heading",
     "level": 3,
     "metadata": {},
     "source": [
      "Drawing in one line"
     ]
    },
    {
     "cell_type": "code",
     "collapsed": false,
     "input": [
      "\"\"\"\n",
      "Sample input:\n",
      "1\n",
      "0 0 1 1\n",
      "2\n",
      "0 0 1 0\n",
      "1 1 1 0\n",
      "2\n",
      "0 0 1 0\n",
      "2 2 2 3\n",
      "9\n",
      "0 0 1 0\n",
      "0 0 0 1\n",
      "1 0 1 1\n",
      "0 1 1 1\n",
      "0 0 1 1\n",
      "0 0 -5 -5\n",
      "-5 -5 5 -5\n",
      "5 -5 5 5\n",
      "5 5 1 1\n",
      "0\n",
      "Sample output:\n",
      "Possible\n",
      "Possible\n",
      "Impossible\n",
      "Possible\n",
      "\"\"\""
     ],
     "language": "python",
     "metadata": {},
     "outputs": []
    },
    {
     "cell_type": "code",
     "collapsed": false,
     "input": [
      "from collections import defaultdict\n",
      "\n",
      "def DFS(graoh, point, visited):\n",
      "    for neigh in graph[point]:\n",
      "        if neigh not in visited:\n",
      "            visited.add(neigh)\n",
      "            DFS(graph, neigh, visited)\n",
      "\n",
      "def solve(lines):\n",
      "    graph = defaultdict(list)\n",
      "    for line in lines:\n",
      "        graph[line[0]].append(line[1])\n",
      "        graph[line[1]].append(line[0])\n",
      "    visited = set()\n",
      "    start = lines[0][0]\n",
      "    visited.add(start)\n",
      "    DFS(graph, start, visited)\n",
      "    if len(visited) != len(graph.keys()):\n",
      "        return False\n",
      "    odds = sum[1 for item in graph if len(graph[item])%2 != 0]\n",
      "    if odds != 0 and odds != 2:\n",
      "        return False\n",
      "    return True\n",
      "    \n",
      "line_number = int(raw_input())\n",
      "while line_number != 0:\n",
      "    lines = []\n",
      "    for i in range(line_number):\n",
      "        a, b, c, d = map(int, raw_input().split())\n",
      "        lines.append([(a,b), (c,d)])\n",
      "    res = solve(lines)\n",
      "    if res:\n",
      "        print \"Possible\"\n",
      "    else:\n",
      "        print \"Impossible\"\n",
      "    line_number = int(raw_input())"
     ],
     "language": "python",
     "metadata": {},
     "outputs": []
    },
    {
     "cell_type": "heading",
     "level": 2,
     "metadata": {},
     "source": [
      "dijkstra's algorithms"
     ]
    },
    {
     "cell_type": "code",
     "collapsed": false,
     "input": [
      "from collections import defaultdict\n",
      "\"\"\"\n",
      "Naive implementation of dijkstra.\n",
      "\"\"\"\n",
      "\n",
      "G = {'s': {'u':10, 'x':5},\n",
      "'u': {'v':1, 'x':2},\n",
      "'v': {'y':4},\n",
      "'x':{'u':3,'v':9,'y':2},\n",
      "'y':{'s':7,'v':6}}\n",
      "\n",
      "def dijkstra(graph, source):\n",
      "    inf = float('inf')\n",
      "    dist = defaultdict(lambda: inf)\n",
      "    prev = defaultdict(None)\n",
      "    dist[source] = 0\n",
      "    Q = set(graph.keys())\n",
      "    while Q:\n",
      "        v = min(Q)\n",
      "        Q.remove(v)\n",
      "        \n",
      "        for n in graph[v]:\n",
      "            alt = dist[v] + graph[v][n]\n",
      "            if alt < dist[n]:\n",
      "                dist[n] = alt\n",
      "                prev[n] = v\n",
      "    return dist, prev\n",
      "        "
     ],
     "language": "python",
     "metadata": {},
     "outputs": [],
     "prompt_number": 7
    },
    {
     "cell_type": "code",
     "collapsed": false,
     "input": [
      "dijkstra(G, 's')"
     ],
     "language": "python",
     "metadata": {},
     "outputs": [
      {
       "metadata": {},
       "output_type": "pyout",
       "prompt_number": 8,
       "text": [
        "(defaultdict(<function <lambda> at 0x1122a28c0>, {'y': 7, 'x': 5, 's': 0, 'u': 8, 'v': 11}),\n",
        " defaultdict(None, {'y': 'x', 'x': 's', 'u': 'x', 'v': 'u'}))"
       ]
      }
     ],
     "prompt_number": 8
    },
    {
     "cell_type": "heading",
     "level": 2,
     "metadata": {},
     "source": [
      "Bellman-Ford Algorithm"
     ]
    },
    {
     "cell_type": "code",
     "collapsed": false,
     "input": [
      "float('inf')"
     ],
     "language": "python",
     "metadata": {},
     "outputs": [
      {
       "metadata": {},
       "output_type": "pyout",
       "prompt_number": 10,
       "text": [
        "inf"
       ]
      }
     ],
     "prompt_number": 10
    },
    {
     "cell_type": "code",
     "collapsed": false,
     "input": [
      "def initialize(graph, source):\n",
      "    d = {} # Stands for destination\n",
      "    p = {} # Stands for predecessor\n",
      "    for node in graph:\n",
      "        d[node] = float('Inf') # We start admiting that the rest of nodes are very very far\n",
      "        p[node] = None\n",
      "    d[source] = 0 # For the source we know how to reach\n",
      "    return d, p\n",
      " \n",
      "def relax(node, neighbour, graph, d, p):\n",
      "    # If the distance between the node and the neighbour is lower than the one I have now\n",
      "    if d[neighbour] > d[node] + graph[node][neighbour]:\n",
      "        # Record this lower distance\n",
      "        d[neighbour]  = d[node] + graph[node][neighbour]\n",
      "        p[neighbour] = node\n",
      " \n",
      "def bellman_ford(graph, source):\n",
      "    d, p = initialize(graph, source)\n",
      "    for i in range(len(graph)-1): #Run this until is converges\n",
      "        for u in graph:\n",
      "            for v in graph[u]: #For each neighbour of u\n",
      "                relax(u, v, graph, d, p) #Lets relax it\n",
      " \n",
      "    # Step 3: check for negative-weight cycles\n",
      "    for u in graph:\n",
      "        for v in graph[u]:\n",
      "            assert d[v] <= d[u] + graph[u][v]\n",
      " \n",
      "    return d, p\n",
      " \n",
      " \n",
      "def test():\n",
      "    graph = {\n",
      "        'a': {'b': -1, 'c':  4},\n",
      "        'b': {'c':  3, 'd':  2, 'e':  2},\n",
      "        'c': {},\n",
      "        'd': {'b':  1, 'c':  5},\n",
      "        'e': {'d': -3}\n",
      "        }\n",
      " \n",
      "    d, p = bellman_ford(graph, 'a')\n",
      "    print d, p\n",
      "\n",
      "test()"
     ],
     "language": "python",
     "metadata": {},
     "outputs": [
      {
       "output_type": "stream",
       "stream": "stdout",
       "text": [
        "{'a': 0, 'c': 2, 'b': -1, 'e': 1, 'd': -2} {'a': None, 'c': 'b', 'b': 'a', 'e': 'b', 'd': 'e'}\n"
       ]
      }
     ],
     "prompt_number": 12
    },
    {
     "cell_type": "code",
     "collapsed": false,
     "input": [],
     "language": "python",
     "metadata": {},
     "outputs": []
    }
   ],
   "metadata": {}
  }
 ]
}