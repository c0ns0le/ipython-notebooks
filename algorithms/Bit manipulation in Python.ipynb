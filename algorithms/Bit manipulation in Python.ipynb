{
 "metadata": {
  "name": "",
  "signature": "sha256:489be23cd0cd7ea8ba1832bd7e0f3fba1357c23f7a64f076d8999864bde495d9"
 },
 "nbformat": 3,
 "nbformat_minor": 0,
 "worksheets": [
  {
   "cells": [
    {
     "cell_type": "markdown",
     "metadata": {},
     "source": [
      "It basically works the same way as C style bit manipulation.\n",
      "\n",
      "One thing though, the integer in Python doesn't have a fixed length."
     ]
    },
    {
     "cell_type": "code",
     "collapsed": false,
     "input": [
      "1 << 2"
     ],
     "language": "python",
     "metadata": {},
     "outputs": [
      {
       "metadata": {},
       "output_type": "pyout",
       "prompt_number": 2,
       "text": [
        "4"
       ]
      }
     ],
     "prompt_number": 2
    },
    {
     "cell_type": "code",
     "collapsed": false,
     "input": [
      "~0"
     ],
     "language": "python",
     "metadata": {},
     "outputs": [
      {
       "metadata": {},
       "output_type": "pyout",
       "prompt_number": 9,
       "text": [
        "-1"
       ]
      }
     ],
     "prompt_number": 9
    },
    {
     "cell_type": "code",
     "collapsed": false,
     "input": [
      "~-1"
     ],
     "language": "python",
     "metadata": {},
     "outputs": [
      {
       "metadata": {},
       "output_type": "pyout",
       "prompt_number": 10,
       "text": [
        "0"
       ]
      }
     ],
     "prompt_number": 10
    },
    {
     "cell_type": "code",
     "collapsed": false,
     "input": [
      "# integer to binary\n",
      "\n",
      "def bin(s):\n",
      "    return str(s) if s<=1 else bin(s>>1) + str(s&1)"
     ],
     "language": "python",
     "metadata": {},
     "outputs": [],
     "prompt_number": 4
    },
    {
     "cell_type": "code",
     "collapsed": false,
     "input": [
      "bin(33)"
     ],
     "language": "python",
     "metadata": {},
     "outputs": [
      {
       "metadata": {},
       "output_type": "pyout",
       "prompt_number": 5,
       "text": [
        "'100001'"
       ]
      }
     ],
     "prompt_number": 5
    },
    {
     "cell_type": "code",
     "collapsed": false,
     "input": [
      "                "
     ],
     "language": "python",
     "metadata": {},
     "outputs": [],
     "prompt_number": 6
    },
    {
     "cell_type": "code",
     "collapsed": false,
     "input": [
      "bitLenCount(3432)"
     ],
     "language": "python",
     "metadata": {},
     "outputs": [
      {
       "metadata": {},
       "output_type": "pyout",
       "prompt_number": 7,
       "text": [
        "(12, 6)"
       ]
      }
     ],
     "prompt_number": 7
    },
    {
     "cell_type": "code",
     "collapsed": false,
     "input": [
      "bin(3432)"
     ],
     "language": "python",
     "metadata": {},
     "outputs": [
      {
       "metadata": {},
       "output_type": "pyout",
       "prompt_number": 8,
       "text": [
        "'110101101000'"
       ]
      }
     ],
     "prompt_number": 8
    },
    {
     "cell_type": "code",
     "collapsed": false,
     "input": [
      "def bitCount(int_type):\n",
      "    count = 0\n",
      "    while(int_type):\n",
      "        # get rid of the least significent 1\n",
      "        int_type &= int_type - 1\n",
      "        count += 1\n",
      "    return(count)"
     ],
     "language": "python",
     "metadata": {},
     "outputs": []
    },
    {
     "cell_type": "code",
     "collapsed": false,
     "input": [
      "# the parity of bits in an integer\n",
      "\n",
      "def parityOf(int_type):\n",
      "    \"\"\"\n",
      "    returns 0 if even, -1 if odd\n",
      "    \"\"\"\n",
      "    parity = 0\n",
      "    while (int_type):\n",
      "        parity = ~parity\n",
      "        int_type = int_type & (int_type - 1)\n",
      "    return(parity)"
     ],
     "language": "python",
     "metadata": {},
     "outputs": []
    },
    {
     "cell_type": "code",
     "collapsed": false,
     "input": [
      "# lowest set bit\n",
      "\n",
      "#    00111000     # 56\n",
      "#    11001000     # twos complement, -56\n",
      "# &= 00001000\n",
      "\n",
      "def lowestSet(int_type):\n",
      "    low = (int_type & -int_type)\n",
      "    lowBit = -1\n",
      "    while (low):\n",
      "        low >>= 1\n",
      "        lowBit += 1\n",
      "    return(lowBit)"
     ],
     "language": "python",
     "metadata": {},
     "outputs": []
    },
    {
     "cell_type": "markdown",
     "metadata": {},
     "source": [
      "Single bit operations"
     ]
    },
    {
     "cell_type": "code",
     "collapsed": false,
     "input": [
      "# testBit() returns a nonzero result, 2**offset, if the bit at 'offset' is one.\n",
      "\n",
      "def testBit(int_type, offset):\n",
      "    mask = 1 << offset\n",
      "    return(int_type & mask)\n",
      "\n",
      "# setBit() returns an integer with the bit at 'offset' set to 1.\n",
      "\n",
      "def setBit(int_type, offset):\n",
      "    mask = 1 << offset\n",
      "    return(int_type | mask)\n",
      "\n",
      "# clearBit() returns an integer with the bit at 'offset' cleared.\n",
      "\n",
      "def clearBit(int_type, offset):\n",
      "    mask = ~(1 << offset)\n",
      "    return(int_type & mask)\n",
      "\n",
      "# toggleBit() returns an integer with the bit at 'offset' inverted, 0 -> 1 and 1 -> 0.\n",
      "\n",
      "def toggleBit(int_type, offset):\n",
      "    mask = 1 << offset\n",
      "    return(int_type ^ mask)"
     ],
     "language": "python",
     "metadata": {},
     "outputs": []
    },
    {
     "cell_type": "heading",
     "level": 2,
     "metadata": {},
     "source": [
      "References"
     ]
    },
    {
     "cell_type": "markdown",
     "metadata": {},
     "source": [
      "1. https://wiki.python.org/moin/BitManipulation"
     ]
    }
   ],
   "metadata": {}
  }
 ]
}