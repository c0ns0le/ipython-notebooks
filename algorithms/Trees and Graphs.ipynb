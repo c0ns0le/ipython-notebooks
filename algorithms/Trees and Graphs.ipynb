{
 "metadata": {
  "name": "",
  "signature": "sha256:8568fb3ce44051cfff852c1674232a22f7e83fb5285b43ec62561edd3053ae3b"
 },
 "nbformat": 3,
 "nbformat_minor": 0,
 "worksheets": [
  {
   "cells": [
    {
     "cell_type": "heading",
     "level": 1,
     "metadata": {},
     "source": [
      "Graphs and trees"
     ]
    },
    {
     "cell_type": "markdown",
     "metadata": {},
     "source": [
      "The definition of a node in a tree in this notebook is given as follows"
     ]
    },
    {
     "cell_type": "code",
     "collapsed": false,
     "input": [
      "# The class for node in this notebook\n",
      "\n",
      "class Node:\n",
      "    def __init__(self, x):\n",
      "        self.value = x\n",
      "        self.left = None\n",
      "        self.right = None"
     ],
     "language": "python",
     "metadata": {},
     "outputs": [],
     "prompt_number": 1
    },
    {
     "cell_type": "heading",
     "level": 2,
     "metadata": {},
     "source": [
      "1. if a binary tree is BST or not"
     ]
    },
    {
     "cell_type": "code",
     "collapsed": false,
     "input": [
      "# From CC150 Trees and graphs. 4.5\n",
      "\n",
      "def is_BST(node, max_value, min_value):\n",
      "    \"\"\" keep updating max value and min value for a node.\n",
      "    \"\"\"\n",
      "    if not node:\n",
      "        return True\n",
      "    if node.val > max_value or node.val < min_value:\n",
      "        return False\n",
      "    return is_BST(node.left, node.val-1, min_value) and is_BST(node.right, max_value, node.val+1)\n",
      "\n",
      "def isBST(root):\n",
      "    return is_BST(root, float('inf'), -float('inf'))\n",
      "    "
     ],
     "language": "python",
     "metadata": {},
     "outputs": [],
     "prompt_number": 5
    },
    {
     "cell_type": "heading",
     "level": 2,
     "metadata": {},
     "source": [
      "2. Add all greater values to every node in a given BST"
     ]
    },
    {
     "cell_type": "code",
     "collapsed": false,
     "input": [],
     "language": "python",
     "metadata": {},
     "outputs": []
    },
    {
     "cell_type": "heading",
     "level": 2,
     "metadata": {},
     "source": [
      "3. Create linked list of all the nodes at each depth"
     ]
    },
    {
     "cell_type": "code",
     "collapsed": false,
     "input": [
      "# From CC 150 Trees and graphs. 4.4\n",
      "\n",
      "# method 1\n",
      "def create_linked_lists(root):\n",
      "    result = []\n",
      "    create_linked_list(root, 0, result)\n",
      "    return result\n",
      "\n",
      "def create_linked_list(node, depth, result):\n",
      "    if not node:\n",
      "        return\n",
      "    if len(result) < depth+1:\n",
      "        new_list = []\n",
      "        new_list.append(node)\n",
      "    else:\n",
      "        result[depth].append(node)\n",
      "    create_linked_list(node.left, depth+1, result)\n",
      "    create_linked_list(node.right, depth+1, result)\n",
      "\n",
      "# method 2\n",
      "\n",
      "def create_linked_lists(root):\n",
      "    result = []\n",
      "    if root is not None:\n",
      "        current = [root]\n",
      "    while current:\n",
      "        result.append(current[:])\n",
      "        parent = current\n",
      "        current = []\n",
      "        for node in parent:\n",
      "            if node.left is not None:\n",
      "                current.append(parent.left)\n",
      "            if node.right is not None:\n",
      "                current.append(parent.right)\n",
      "    return result"
     ],
     "language": "python",
     "metadata": {},
     "outputs": []
    },
    {
     "cell_type": "heading",
     "level": 2,
     "metadata": {},
     "source": [
      "4. Find the next node of a given node in a BST"
     ]
    },
    {
     "cell_type": "code",
     "collapsed": false,
     "input": [
      "# from cc150 Trees and graphs 4.6\n",
      "\n",
      "# parent pointer available\n",
      "def findNext(node):\n",
      "    if node is None:\n",
      "        return\n",
      "    if node.right is None and node.left is None:\n",
      "        return\n",
      "    if node.right is not None:\n",
      "        node = node.right\n",
      "        while node.left is not None:\n",
      "            node = node.left\n",
      "        return node\n",
      "    if node.parent.left == node:\n",
      "        return node.parent\n",
      "    if node.parent.right == node:\n",
      "        node = node.parent\n",
      "        while node.parent and node.parent.right == node:\n",
      "            node = node.parent\n",
      "        return node.parent\n",
      "\n",
      "# parent pointer not available\n",
      "# then we just *search* from the root\n",
      "# this method makes use of the value of node\n",
      "\n",
      "def findNext(root, node):\n",
      "    if node.right is not None:\n",
      "        return min_value(node.left)\n",
      "    succ - None\n",
      "    while root is not None:\n",
      "        # update succ when root has a larger value\n",
      "        if node.value < root.value:\n",
      "            succ = root\n",
      "            root = root.left\n",
      "        elif node.value > root.value:\n",
      "            root = root.next\n",
      "        else:\n",
      "            break\n",
      "    return succ\n",
      "    "
     ],
     "language": "python",
     "metadata": {},
     "outputs": []
    },
    {
     "cell_type": "heading",
     "level": 2,
     "metadata": {},
     "source": [
      "5. Find the first common ancestor of two nodes in a BT"
     ]
    },
    {
     "cell_type": "code",
     "collapsed": false,
     "input": [
      "# CC150 Trees and graphs 4.7\n",
      "\n",
      "# method 1\n",
      "def has_node(root, node):\n",
      "    if root is None:\n",
      "        return False\n",
      "    if root == node:\n",
      "        return True\n",
      "    return has_node(root.left) or has_node(root.right)\n",
      "\n",
      "def common_ancester(root, node1, node2):\n",
      "    if not has_node(root, node1) or not has_node(root, node2):\n",
      "        return None\n",
      "    return find_common_ancester(root, node1, node2)\n",
      "\n",
      "def find_common_ancester(root, node1, node2):\n",
      "    if root is None:\n",
      "        return None\n",
      "    is_p_left = has_node(root.left, node1)\n",
      "    is_q_left = has_node(root.left, node2)\n",
      "    if is_q_left != is_q_left:\n",
      "        return root\n",
      "    if is_q_left:\n",
      "        return common_ancester(root.left, node1, node2)\n",
      "    else:\n",
      "        return common_ancester(root.right, node1, node2)\n",
      "\n",
      "    \n",
      "# method 2\n",
      "\n"
     ],
     "language": "python",
     "metadata": {},
     "outputs": []
    },
    {
     "cell_type": "heading",
     "level": 2,
     "metadata": {},
     "source": [
      "6. If a binary tree is subtree of another binary tree"
     ]
    },
    {
     "cell_type": "code",
     "collapsed": false,
     "input": [
      "# method 1: compare every node\n",
      "## CC150\n",
      "\n",
      "def is_same_tree(node1, node2):\n",
      "    if node1 is None and node2 is None:\n",
      "        return True\n",
      "    if node1 is None or node2 is None:\n",
      "        return False\n",
      "    if node1.value == node2.value and is_same_tree(node1.left, node2.left) and is_same_tree(node1.right, node2.right):\n",
      "        return True\n",
      "    return False\n",
      "\n",
      "def sub_tree(root1, root2):\n",
      "    if root1 is None:\n",
      "        return False\n",
      "    if root1.value == root2.value:\n",
      "        if is_same_tree(root1, root2):\n",
      "            return True\n",
      "    return sub_tree(root1.left, root2) or sub_tree(root1.right, root2)\n",
      "\n",
      "def isSubtree(root1, root2):\n",
      "    if root2 is None:\n",
      "        return True\n",
      "    return sub_tree(root1, root2)\n",
      "# method 2:\n",
      "# in order and psot order uniquely identify a tree"
     ],
     "language": "python",
     "metadata": {},
     "outputs": []
    },
    {
     "cell_type": "heading",
     "level": 2,
     "metadata": {},
     "source": [
      "Get the height of a tree without recursion"
     ]
    },
    {
     "cell_type": "code",
     "collapsed": false,
     "input": [
      "# \n",
      "\n",
      "from collections import deque\n",
      "\n",
      "def getHeight(root):\n",
      "    height = 0\n",
      "    if root is None:\n",
      "        return height\n",
      "    q = deque()\n",
      "    q.append(root)\n",
      "    while 1:\n",
      "        q_size = len(q)\n",
      "        if q_size == 0:\n",
      "            return height\n",
      "        else:\n",
      "            height += 1\n",
      "        while q_size > 0:\n",
      "            node = q.popleft()\n",
      "            if node.left:\n",
      "                q.append(node.left)\n",
      "            if node.right:\n",
      "                q.append(node.right)\n",
      "            q_size -= 1\n",
      "            "
     ],
     "language": "python",
     "metadata": {},
     "outputs": []
    },
    {
     "cell_type": "heading",
     "level": 2,
     "metadata": {},
     "source": [
      "Covert a tree to its sum tree"
     ]
    },
    {
     "cell_type": "code",
     "collapsed": false,
     "input": [
      "def toSumTree(node):\n",
      "    if node is None:\n",
      "        return 0\n",
      "    old_value = node.value\n",
      "    node.value = toSumTree(node.left) + toSumTree(node.right)\n",
      "    return old_value + node.value"
     ],
     "language": "python",
     "metadata": {},
     "outputs": []
    },
    {
     "cell_type": "heading",
     "level": 2,
     "metadata": {},
     "source": [
      "BST search and insertion"
     ]
    },
    {
     "cell_type": "code",
     "collapsed": false,
     "input": [
      "# insertion in BST\n",
      "\n",
      "# insetion in BST\n",
      "\n",
      "# deletion in BST"
     ],
     "language": "python",
     "metadata": {},
     "outputs": []
    },
    {
     "cell_type": "heading",
     "level": 2,
     "metadata": {},
     "source": [
      "Interval tree"
     ]
    },
    {
     "cell_type": "markdown",
     "metadata": {},
     "source": [
      "In interval tree every node has an interval (low, high). They also have a maximum value as extra information"
     ]
    },
    {
     "cell_type": "code",
     "collapsed": false,
     "input": [
      "# search for an overlapping interval\n",
      "def overlap(x, y):\n",
      "    return x.low <= y.high and x.high >= y.low\n",
      "\n",
      "def overlapping(root, x):\n",
      "    if overlap(root, x):\n",
      "        return root\n",
      "    if root.left and root.left.max_val > x.low:\n",
      "        return overlapping(root.left, x)\n",
      "    if root.right:\n",
      "        return overlapping(root.right, x) "
     ],
     "language": "python",
     "metadata": {},
     "outputs": []
    }
   ],
   "metadata": {}
  }
 ]
}