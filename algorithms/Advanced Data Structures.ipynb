{
 "metadata": {
  "name": "",
  "signature": "sha256:21db328b422c0f692cab6d43da4280d49cb489654e061a69197d59abb8838d1a"
 },
 "nbformat": 3,
 "nbformat_minor": 0,
 "worksheets": [
  {
   "cells": [
    {
     "cell_type": "heading",
     "level": 2,
     "metadata": {},
     "source": [
      "Trie"
     ]
    },
    {
     "cell_type": "markdown",
     "metadata": {},
     "source": [
      "Trie is a data structure that can be used to search for strings\n",
      "\n",
      "If you only need to insert and query string, a hash table is probably enough but if you want to do more complex\n",
      "\n",
      "tasks, for example, prefix related stuff then trie is gonna be useful.\n",
      "\n",
      "http://www.geeksforgeeks.org/trie-insert-and-search/"
     ]
    },
    {
     "cell_type": "markdown",
     "metadata": {},
     "source": [
      "Create a trie in Python\n",
      "\n",
      "You can use a dictionary to do that: http://stackoverflow.com/questions/11015320/how-to-create-a-trie-in-python"
     ]
    },
    {
     "cell_type": "heading",
     "level": 2,
     "metadata": {},
     "source": [
      "Suffix Tree"
     ]
    },
    {
     "cell_type": "markdown",
     "metadata": {},
     "source": [
      "suffix tree is useful in pattern matching when you need to match various input string with one large fixed string. Could be a good idea"
     ]
    },
    {
     "cell_type": "markdown",
     "metadata": {},
     "source": [
      "- By using suffix, a linear solution of longest palindromic substring can be achieved  http://www.wikiwand.com/en/Longest_palindromic_substring\n",
      "\n",
      "- It can be used to find the longest repeating substring in a string, see: https://www.wikiwand.com/en/Longest_repeated_substring_problem\n",
      "- It can be used to find the longest common substring of two strings, see: https://www.wikiwand.com/en/Longest_common_substring_problem. The other solution is DP, with a higher complexity"
     ]
    },
    {
     "cell_type": "heading",
     "level": 2,
     "metadata": {},
     "source": [
      "KMP string matching algorithm"
     ]
    },
    {
     "cell_type": "markdown",
     "metadata": {},
     "source": [
      "This algorithm has two phases. \n",
      "First, generate an array to be used.\n",
      "Second, make use of the array"
     ]
    },
    {
     "cell_type": "heading",
     "level": 3,
     "metadata": {},
     "source": [
      "Step 1. generate the prefix array"
     ]
    },
    {
     "cell_type": "markdown",
     "metadata": {},
     "source": [
      "COCACOLA\n",
      "\n",
      "00101200"
     ]
    },
    {
     "cell_type": "code",
     "collapsed": false,
     "input": [
      "def generateArray(pattern):\n",
      "    length = len(pattern)\n",
      "    prefix = [-1]*length\n",
      "    a = -1\n",
      "    for b in range(1, length):\n",
      "        print \"a, b\", a, b, prefix\n",
      "        while a >= 0 and pattern[a+1] != pattern[b]:\n",
      "            a = prefix[a]\n",
      "        if pattern[a+1] == pattern[b]:\n",
      "            a = a + 1\n",
      "        prefix[b] = a + 1\n",
      "    return prefix"
     ],
     "language": "python",
     "metadata": {},
     "outputs": [],
     "prompt_number": 21
    },
    {
     "cell_type": "code",
     "collapsed": false,
     "input": [
      "prefix = generateArray('cocacola')"
     ],
     "language": "python",
     "metadata": {},
     "outputs": [
      {
       "output_type": "stream",
       "stream": "stdout",
       "text": [
        "a, b -1 1 [-1, -1, -1, -1, -1, -1, -1, -1]\n",
        "a, b -1 2 [-1, 0, -1, -1, -1, -1, -1, -1]\n",
        "a, b 0 3 [-1, 0, 1, -1, -1, -1, -1, -1]\n",
        "a, b -1 4 [-1, 0, 1, 0, -1, -1, -1, -1]\n",
        "a, b 0 5 [-1, 0, 1, 0, 1, -1, -1, -1]\n",
        "a, b 1 6 [-1, 0, 1, 0, 1, 2, -1, -1]\n",
        "a, b -1 7 [-1, 0, 1, 0, 1, 2, 0, -1]\n"
       ]
      }
     ],
     "prompt_number": 24
    },
    {
     "cell_type": "heading",
     "level": 3,
     "metadata": {},
     "source": [
      "Step 2: matching"
     ]
    },
    {
     "cell_type": "code",
     "collapsed": false,
     "input": [
      "def match(pattern, text, prefix):\n",
      "    i = j = k = 0\n",
      "    n = len(text)\n",
      "    m = len(pattern)\n",
      "    while n-k > m:\n",
      "        while j <= m -1 and text[i] == pattern[j]:\n",
      "            i = i + 1\n",
      "            j = j + 1\n",
      "        if j > m-1:\n",
      "            print k\n",
      "        if prefix[j] > 0:\n",
      "            k = i - prefix[j]\n",
      "        else:\n",
      "            if i == k:\n",
      "                i += 1\n",
      "            k = i\n",
      "        if i > 0:\n",
      "            j = prefix[j] + 1"
     ],
     "language": "python",
     "metadata": {},
     "outputs": [],
     "prompt_number": 29
    },
    {
     "cell_type": "code",
     "collapsed": false,
     "input": [
      "match(\"cocacola\", \"tcozacocacolacococacola\", prefix)"
     ],
     "language": "python",
     "metadata": {},
     "outputs": [
      {
       "ename": "KeyboardInterrupt",
       "evalue": "",
       "output_type": "pyerr",
       "traceback": [
        "\u001b[0;31m---------------------------------------------------------------------------\u001b[0m\n\u001b[0;31mKeyboardInterrupt\u001b[0m                         Traceback (most recent call last)",
        "\u001b[0;32m<ipython-input-31-71259996ac00>\u001b[0m in \u001b[0;36m<module>\u001b[0;34m()\u001b[0m\n\u001b[0;32m----> 1\u001b[0;31m \u001b[0mmatch\u001b[0m\u001b[0;34m(\u001b[0m\u001b[0;34m\"cocacola\"\u001b[0m\u001b[0;34m,\u001b[0m \u001b[0;34m\"tcozacocacolacococacola\"\u001b[0m\u001b[0;34m,\u001b[0m \u001b[0mprefix\u001b[0m\u001b[0;34m)\u001b[0m\u001b[0;34m\u001b[0m\u001b[0m\n\u001b[0m",
        "\u001b[0;32m<ipython-input-29-7ec6794995a5>\u001b[0m in \u001b[0;36mmatch\u001b[0;34m(pattern, text, prefix)\u001b[0m\n\u001b[1;32m     10\u001b[0m             \u001b[0;32mprint\u001b[0m \u001b[0mk\u001b[0m\u001b[0;34m\u001b[0m\u001b[0m\n\u001b[1;32m     11\u001b[0m         \u001b[0;32mif\u001b[0m \u001b[0mprefix\u001b[0m\u001b[0;34m[\u001b[0m\u001b[0mj\u001b[0m\u001b[0;34m]\u001b[0m \u001b[0;34m>\u001b[0m \u001b[0;36m0\u001b[0m\u001b[0;34m:\u001b[0m\u001b[0;34m\u001b[0m\u001b[0m\n\u001b[0;32m---> 12\u001b[0;31m             \u001b[0mk\u001b[0m \u001b[0;34m=\u001b[0m \u001b[0mi\u001b[0m \u001b[0;34m-\u001b[0m \u001b[0mprefix\u001b[0m\u001b[0;34m[\u001b[0m\u001b[0mj\u001b[0m\u001b[0;34m]\u001b[0m\u001b[0;34m\u001b[0m\u001b[0m\n\u001b[0m\u001b[1;32m     13\u001b[0m         \u001b[0;32melse\u001b[0m\u001b[0;34m:\u001b[0m\u001b[0;34m\u001b[0m\u001b[0m\n\u001b[1;32m     14\u001b[0m             \u001b[0;32mif\u001b[0m \u001b[0mi\u001b[0m \u001b[0;34m==\u001b[0m \u001b[0mk\u001b[0m\u001b[0;34m:\u001b[0m\u001b[0;34m\u001b[0m\u001b[0m\n",
        "\u001b[0;31mKeyboardInterrupt\u001b[0m: "
       ]
      }
     ],
     "prompt_number": 31
    }
   ],
   "metadata": {}
  }
 ]
}