{
 "metadata": {
  "name": "",
  "signature": "sha256:efb37693d020d6f5d1774272ffae5353643ce6541e0e14c60708fddcbabb1ed5"
 },
 "nbformat": 3,
 "nbformat_minor": 0,
 "worksheets": [
  {
   "cells": [
    {
     "cell_type": "heading",
     "level": 2,
     "metadata": {},
     "source": [
      "Trie"
     ]
    },
    {
     "cell_type": "markdown",
     "metadata": {},
     "source": [
      "Trie is a data structure that can be used to search for strings\n",
      "\n",
      "If you only need to insert and query string, a hash table is probably enough but if you want to do more complex\n",
      "\n",
      "tasks, for example, prefix related stuff then trie is gonna be useful.\n",
      "\n",
      "http://www.geeksforgeeks.org/trie-insert-and-search/"
     ]
    },
    {
     "cell_type": "heading",
     "level": 2,
     "metadata": {},
     "source": [
      "Suffix Tree"
     ]
    },
    {
     "cell_type": "markdown",
     "metadata": {},
     "source": [
      "suffix tree is useful in pattern matching when you need to match various input string with one large fixed string. Could be a good idea"
     ]
    },
    {
     "cell_type": "markdown",
     "metadata": {},
     "source": [
      "By using suffix, a linear solution of longest palindromic substring can be achieved  http://www.wikiwand.com/en/Longest_palindromic_substring"
     ]
    }
   ],
   "metadata": {}
  }
 ]
}