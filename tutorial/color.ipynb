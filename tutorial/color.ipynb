{
 "metadata": {
  "name": "",
  "signature": "sha256:667a76df71af3e6eae062c340460be3375b6db62ca83c4bff9f92ebc96bcb6d3"
 },
 "nbformat": 3,
 "nbformat_minor": 0,
 "worksheets": [
  {
   "cells": [
    {
     "cell_type": "code",
     "collapsed": false,
     "input": [
      "def brightness(r, g, b):\n",
      "    \"\"\"calculate the brightness of a pixel from r, g, b values.\n",
      "    \"\"\"\n",
      "    return 0.299*r + 0.587*g + 0.114*b\n",
      "\n",
      "def brightness(r, g, b):\n",
      "    \"\"\"calculate the brightness of a pixel from r, g, b values.\n",
      "    \"\"\"\n",
      "    return int(0.299*r + 0.587*g + 0.114*b)\n",
      "\n"
     ],
     "language": "python",
     "metadata": {},
     "outputs": []
    }
   ],
   "metadata": {}
  }
 ]
}