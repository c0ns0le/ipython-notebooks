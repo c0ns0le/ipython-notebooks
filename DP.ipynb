{
 "metadata": {
  "name": "",
  "signature": "sha256:db71567b6ea30baa4024614b6186657f4b23c3a59fa9cb3d881382705c9e6452"
 },
 "nbformat": 3,
 "nbformat_minor": 0,
 "worksheets": [
  {
   "cells": [
    {
     "cell_type": "heading",
     "level": 1,
     "metadata": {},
     "source": [
      "Dynamic Programming problems"
     ]
    },
    {
     "cell_type": "heading",
     "level": 2,
     "metadata": {},
     "source": [
      "Cutting a Rod"
     ]
    },
    {
     "cell_type": "markdown",
     "metadata": {},
     "source": [
      "Source: http://www.geeksforgeeks.org/dynamic-programming-set-13-cutting-a-rod/\n",
      "\n",
      "cutRod(n) = max(price[i] + cutRod(n-i-1))\n",
      "cutRod(1) = price[0]\n",
      "\n",
      "cutRod[2] = max(price[0] + cutRod(1), price[1])"
     ]
    },
    {
     "cell_type": "code",
     "collapsed": false,
     "input": [
      "def cutRod(prices, n):\n",
      "    dp = [0]*(n+1)\n",
      "    dp[0] = 0\n",
      "    for i in range(n+1):\n",
      "        max_val = 0\n",
      "        for j in range(i):\n",
      "            max_val = max(max_val, prices[j] + dp[i-j-1])\n",
      "        dp[i] = max_val\n",
      "    return dp[-1]\n",
      "\n",
      "prices = [1, 5, 8, 9, 10, 17, 17, 20]\n",
      "\n",
      "print cutRod(prices, 8)\n",
      "            \n",
      "    "
     ],
     "language": "python",
     "metadata": {},
     "outputs": [
      {
       "output_type": "stream",
       "stream": "stdout",
       "text": [
        "22\n"
       ]
      }
     ],
     "prompt_number": 18
    },
    {
     "cell_type": "heading",
     "level": 2,
     "metadata": {},
     "source": [
      "Optimal strategy for a game"
     ]
    },
    {
     "cell_type": "markdown",
     "metadata": {},
     "source": [
      "Source: http://www.geeksforgeeks.org/dynamic-programming-set-31-optimal-strategy-for-a-game/\n",
      "\n",
      "5, 3, 7, 10\n",
      "\n",
      "8, 15, 3, 7"
     ]
    },
    {
     "cell_type": "code",
     "collapsed": false,
     "input": [
      "def optimalGame(coins):\n",
      "    n = len(coins)\n",
      "    dp = [[0]*n for _ in range(n)]\n",
      "    for dist in range(n):\n",
      "        for i in range(n-dist):\n",
      "            j = i + dist\n",
      "            if dist == 0:\n",
      "                dp[i][j] = coins[i]\n",
      "            elif dist == 1:\n",
      "                dp[i][j] = max(coins[i], coins[j])\n",
      "            else:\n",
      "                left_max = coins[i] + min(dp[i+2][j], dp[i+1][j-1])\n",
      "                right_max = coins[j] + min(dp[i+1][j-1], dp[i][j-2])\n",
      "                dp[i][j] = max(right_max, left_max)\n",
      "    return dp[0][n-1]\n",
      "\n",
      "coins = [5, 3, 7, 10]\n",
      "coins = [8, 15, 3, 7]\n",
      "\n",
      "print optimalGame(coins)\n",
      "            "
     ],
     "language": "python",
     "metadata": {},
     "outputs": [
      {
       "output_type": "stream",
       "stream": "stdout",
       "text": [
        "22\n"
       ]
      }
     ],
     "prompt_number": 19
    },
    {
     "cell_type": "heading",
     "level": 2,
     "metadata": {},
     "source": [
      "Subset sum problems"
     ]
    },
    {
     "cell_type": "heading",
     "level": 2,
     "metadata": {},
     "source": [
      "Readings"
     ]
    },
    {
     "cell_type": "markdown",
     "metadata": {},
     "source": [
      "1. http://www.ics.uci.edu/~goodrich/teach/cs161/notes/dynamicp.pdf"
     ]
    },
    {
     "cell_type": "code",
     "collapsed": false,
     "input": [],
     "language": "python",
     "metadata": {},
     "outputs": [],
     "prompt_number": 19
    }
   ],
   "metadata": {}
  }
 ]
}