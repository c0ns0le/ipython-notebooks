{
 "metadata": {
  "name": "",
  "signature": "sha256:da6936ce7fe76bbf0d18ff75c217244995d23db5c5edbc686d9bb432bca5a3de"
 },
 "nbformat": 3,
 "nbformat_minor": 0,
 "worksheets": [
  {
   "cells": [
    {
     "cell_type": "code",
     "collapsed": false,
     "input": [
      "import newspaper "
     ],
     "language": "python",
     "metadata": {},
     "outputs": [],
     "prompt_number": 1
    },
    {
     "cell_type": "code",
     "collapsed": false,
     "input": [
      "cnn_china = newspaper.build(\"http://cnn.com\")"
     ],
     "language": "python",
     "metadata": {},
     "outputs": [],
     "prompt_number": 2
    },
    {
     "cell_type": "code",
     "collapsed": false,
     "input": [
      "for article in cnn_china.articles:\n",
      "    if \"china\" in article.url:\n",
      "        print(article.url)"
     ],
     "language": "python",
     "metadata": {},
     "outputs": [
      {
       "output_type": "stream",
       "stream": "stdout",
       "text": [
        "http://cnn.com/2015/05/28/asia/china-space-mckenzie/index.html\n",
        "http://cnn.com/2015/05/26/politics/south-china-sea-navy-surveillance-plane-jim-sciutto/index.html\n",
        "http://cnn.com/2015/04/21/asia/china-dinosaur-eggs-found/index.html\n",
        "http://cnn.com/2015/05/29/opinions/opinion-china-space-business/index.html\n",
        "http://cnn.com/videos/us/2015/05/28/inside-china-space-program-mckenzie-erin.cnn/video/playlists/most-popular-domestic/\n",
        "http://cnn.com/2015/05/31/travel/china-railways-photography/index.html\n",
        "http://cnn.com/2015/05/31/investing/stocks-market-bubble-bonds-china-startups/index.html\n",
        "http://cnn.com/2015/05/31/travel/gallery/china-railways-photography/index.html\n",
        "http://cnn.com/2015/05/19/asia/gallery/china-nail-houses/index.html\n",
        "http://cnn.com/2015/05/11/asia/china-france-company-holiday/index.html\n",
        "http://cnn.com/videos/world/2015/06/01/china-sea-defense-zone-stevens-lklv.cnn/video/playlists/top-news-videos/\n"
       ]
      }
     ],
     "prompt_number": 3
    },
    {
     "cell_type": "code",
     "collapsed": false,
     "input": [],
     "language": "python",
     "metadata": {},
     "outputs": []
    }
   ],
   "metadata": {}
  }
 ]
}