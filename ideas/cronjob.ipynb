{
 "metadata": {
  "name": "",
  "signature": "sha256:46e0c7da1cda5dc9ecc1e808ad43255b3df702f44bd2e671936302b7f25cdcca"
 },
 "nbformat": 3,
 "nbformat_minor": 0,
 "worksheets": [
  {
   "cells": [
    {
     "cell_type": "code",
     "collapsed": false,
     "input": [
      "#! /usr/bin/python\n",
      "from freetv import freetv\n",
      "from subprocess import call\n",
      "import os\n",
      "\n",
      "home_dir = os.path.expanduser('~')\n",
      "\n",
      "shows = [\"modern family\", \"fresh off the boat\", \"broad city\", \"jane the virgin\", \"pretty little liars\"]\n",
      "\n",
      "pft = freetv.ProjectFreeTV()\n",
      "\n",
      "for show_name in shows:\n",
      "    show_dir = home_dir + \"/Movies/\"+show_name.replace(\" \", \"_\") + \"/\"\n",
      "    if not os.path.isdir(show_dir):\n",
      "        os.makedirs(show_dir)\n",
      "        \n",
      "    show = pft.get_show(show_name)\n",
      "\n",
      "    show.build_show()\n",
      "\n",
      "    last_season_links = show.get_online_links_for_season(show.seasons)\n",
      "    \n",
      "    downloadable_links = []\n",
      "    for key, val in last_season_links.items():\n",
      "        downloadable_links.append(show.get_downloadable_links_from_online_links(val))\n",
      "    \n",
      "    final_links = []\n",
      "    \n",
      "    for links in downloadable_links:\n",
      "        for link in links:\n",
      "            if \"vidspot\" in link:\n",
      "                final_links.append(link)\n",
      "                break\n",
      "\n",
      "    [call(\"youtube-dl \" + link + \" -o '\" + show_dir + \"%(title)s-%(id)s.%(ext)s'\", shell = True) for link in final_links]\n",
      "            \n",
      "\n",
      "\n"
     ],
     "language": "python",
     "metadata": {},
     "outputs": [
      {
       "output_type": "stream",
       "stream": "stdout",
       "text": [
        "youtube-dl http://www.vidspot.net/n736mm4c6ewq -o '/Users/Jing/Movies/modern_family/%(title)s-%(id)s.%(ext)s'\n",
        "youtube-dl http://www.vidspot.net/4j3264n39s3c -o '/Users/Jing/Movies/modern_family/%(title)s-%(id)s.%(ext)s'\n",
        "youtube-dl http://www.vidspot.net/c7c6eqjrnacy -o '/Users/Jing/Movies/modern_family/%(title)s-%(id)s.%(ext)s'\n",
        "youtube-dl http://www.vidspot.net/h3z2dc200b28 -o '/Users/Jing/Movies/modern_family/%(title)s-%(id)s.%(ext)s'\n",
        "youtube-dl http://www.vidspot.net/jque89jepi1t -o '/Users/Jing/Movies/modern_family/%(title)s-%(id)s.%(ext)s'\n",
        "youtube-dl http://www.vidspot.net/r6jxe2fzwkaw -o '/Users/Jing/Movies/modern_family/%(title)s-%(id)s.%(ext)s'\n",
        "youtube-dl http://www.vidspot.net/jzuhx43clwy7 -o '/Users/Jing/Movies/modern_family/%(title)s-%(id)s.%(ext)s'\n",
        "youtube-dl http://www.vidspot.net/lywii9e35dua -o '/Users/Jing/Movies/modern_family/%(title)s-%(id)s.%(ext)s'\n",
        "youtube-dl http://www.vidspot.net/iq4kqyvgd7zy -o '/Users/Jing/Movies/modern_family/%(title)s-%(id)s.%(ext)s'\n",
        "youtube-dl http://www.vidspot.net/tsdsvx0p7xwb -o '/Users/Jing/Movies/modern_family/%(title)s-%(id)s.%(ext)s'\n",
        "youtube-dl http://www.vidspot.net/u5lffxcqgxmq -o '/Users/Jing/Movies/modern_family/%(title)s-%(id)s.%(ext)s'\n",
        "youtube-dl http://www.vidspot.net/16pptcs7cmm8 -o '/Users/Jing/Movies/modern_family/%(title)s-%(id)s.%(ext)s'\n",
        "youtube-dl http://www.vidspot.net/0vedosxwvqr0 -o '/Users/Jing/Movies/modern_family/%(title)s-%(id)s.%(ext)s'\n",
        "youtube-dl http://www.vidspot.net/2k9wvhm37jhq -o '/Users/Jing/Movies/fresh_off_the_boat/%(title)s-%(id)s.%(ext)s'"
       ]
      },
      {
       "output_type": "stream",
       "stream": "stdout",
       "text": [
        "\n",
        "youtube-dl http://www.vidspot.net/97czlogrrrab -o '/Users/Jing/Movies/fresh_off_the_boat/%(title)s-%(id)s.%(ext)s'\n",
        "youtube-dl http://www.vidspot.net/ce3c6433okjg -o '/Users/Jing/Movies/broad_city/%(title)s-%(id)s.%(ext)s'"
       ]
      },
      {
       "output_type": "stream",
       "stream": "stdout",
       "text": [
        "\n",
        "youtube-dl http://www.vidspot.net/oedaokrp1qz8 -o '/Users/Jing/Movies/broad_city/%(title)s-%(id)s.%(ext)s'\n",
        "youtube-dl http://www.vidspot.net/62gbwsb3f5u9 -o '/Users/Jing/Movies/broad_city/%(title)s-%(id)s.%(ext)s'\n",
        "youtube-dl http://www.vidspot.net/977jt7mz95r6 -o '/Users/Jing/Movies/broad_city/%(title)s-%(id)s.%(ext)s'\n",
        "youtube-dl http://www.vidspot.net/c5fru89bskyw -o '/Users/Jing/Movies/jane_the_virgin/%(title)s-%(id)s.%(ext)s'"
       ]
      },
      {
       "output_type": "stream",
       "stream": "stdout",
       "text": [
        "\n",
        "youtube-dl http://www.vidspot.net/sp3arztn6yuu -o '/Users/Jing/Movies/jane_the_virgin/%(title)s-%(id)s.%(ext)s'\n",
        "youtube-dl http://www.vidspot.net/xs0gyfu8hwj7 -o '/Users/Jing/Movies/jane_the_virgin/%(title)s-%(id)s.%(ext)s'\n",
        "youtube-dl http://www.vidspot.net/xpsa79jvunzx -o '/Users/Jing/Movies/jane_the_virgin/%(title)s-%(id)s.%(ext)s'\n",
        "youtube-dl http://www.vidspot.net/x8vy34vapiya -o '/Users/Jing/Movies/jane_the_virgin/%(title)s-%(id)s.%(ext)s'\n",
        "youtube-dl http://www.vidspot.net/lcnkhxlsie12 -o '/Users/Jing/Movies/jane_the_virgin/%(title)s-%(id)s.%(ext)s'\n",
        "youtube-dl http://www.vidspot.net/qx996fiszbge -o '/Users/Jing/Movies/jane_the_virgin/%(title)s-%(id)s.%(ext)s'\n",
        "youtube-dl http://www.vidspot.net/2kehiyy2c4im -o '/Users/Jing/Movies/jane_the_virgin/%(title)s-%(id)s.%(ext)s'\n",
        "youtube-dl http://www.vidspot.net/1aj66thgkl8a -o '/Users/Jing/Movies/jane_the_virgin/%(title)s-%(id)s.%(ext)s'\n",
        "youtube-dl http://www.vidspot.net/1tadkj7zgp51 -o '/Users/Jing/Movies/jane_the_virgin/%(title)s-%(id)s.%(ext)s'\n",
        "youtube-dl http://www.vidspot.net/xaeyppfn7z0c -o '/Users/Jing/Movies/jane_the_virgin/%(title)s-%(id)s.%(ext)s'\n",
        "youtube-dl http://www.vidspot.net/avkxa4xa5a2a -o '/Users/Jing/Movies/jane_the_virgin/%(title)s-%(id)s.%(ext)s'\n",
        "youtube-dl http://www.vidspot.net/coy3g0halnkr -o '/Users/Jing/Movies/jane_the_virgin/%(title)s-%(id)s.%(ext)s'\n",
        "youtube-dl http://www.vidspot.net/hnrwq4kc1nxf -o '/Users/Jing/Movies/pretty_little_liars/%(title)s-%(id)s.%(ext)s'"
       ]
      },
      {
       "output_type": "stream",
       "stream": "stdout",
       "text": [
        "\n",
        "youtube-dl http://www.vidspot.net/98v63yq7tihw -o '/Users/Jing/Movies/pretty_little_liars/%(title)s-%(id)s.%(ext)s'\n",
        "youtube-dl http://www.vidspot.net/0t8jokvihl3u -o '/Users/Jing/Movies/pretty_little_liars/%(title)s-%(id)s.%(ext)s'\n",
        "youtube-dl http://www.vidspot.net/x91daq5k6xk2 -o '/Users/Jing/Movies/pretty_little_liars/%(title)s-%(id)s.%(ext)s'\n",
        "youtube-dl http://www.vidspot.net/gnfbi9qb20sz -o '/Users/Jing/Movies/pretty_little_liars/%(title)s-%(id)s.%(ext)s'\n",
        "youtube-dl http://www.vidspot.net/s6c4kuolcfuz -o '/Users/Jing/Movies/pretty_little_liars/%(title)s-%(id)s.%(ext)s'\n",
        "youtube-dl http://www.vidspot.net/k10kz4t0vb3z -o '/Users/Jing/Movies/pretty_little_liars/%(title)s-%(id)s.%(ext)s'\n",
        "youtube-dl http://www.vidspot.net/3lfm2s87hqmx -o '/Users/Jing/Movies/pretty_little_liars/%(title)s-%(id)s.%(ext)s'\n",
        "youtube-dl http://www.vidspot.net/lty4femokl8g -o '/Users/Jing/Movies/pretty_little_liars/%(title)s-%(id)s.%(ext)s'\n",
        "youtube-dl http://www.vidspot.net/gc4ah3tuvp7d -o '/Users/Jing/Movies/pretty_little_liars/%(title)s-%(id)s.%(ext)s'\n",
        "youtube-dl http://www.vidspot.net/mqqnsps9dj3r -o '/Users/Jing/Movies/pretty_little_liars/%(title)s-%(id)s.%(ext)s'\n",
        "youtube-dl http://www.vidspot.net/4yxokuc57czh -o '/Users/Jing/Movies/pretty_little_liars/%(title)s-%(id)s.%(ext)s'\n",
        "youtube-dl http://www.vidspot.net/t4m4yfoqgw9q -o '/Users/Jing/Movies/pretty_little_liars/%(title)s-%(id)s.%(ext)s'\n",
        "youtube-dl http://www.vidspot.net/z84mzq9l8f8l -o '/Users/Jing/Movies/pretty_little_liars/%(title)s-%(id)s.%(ext)s'\n",
        "youtube-dl http://www.vidspot.net/mezn8dwq0kee -o '/Users/Jing/Movies/pretty_little_liars/%(title)s-%(id)s.%(ext)s'\n",
        "youtube-dl http://www.vidspot.net/8l2dkzja486q -o '/Users/Jing/Movies/pretty_little_liars/%(title)s-%(id)s.%(ext)s'\n",
        "youtube-dl http://www.vidspot.net/x92y30p3vu7t -o '/Users/Jing/Movies/pretty_little_liars/%(title)s-%(id)s.%(ext)s'\n",
        "youtube-dl http://www.vidspot.net/7j89m5baak1u -o '/Users/Jing/Movies/pretty_little_liars/%(title)s-%(id)s.%(ext)s'\n"
       ]
      }
     ],
     "prompt_number": 3
    },
    {
     "cell_type": "code",
     "collapsed": false,
     "input": [],
     "language": "python",
     "metadata": {},
     "outputs": [],
     "prompt_number": 0
    },
    {
     "cell_type": "code",
     "collapsed": false,
     "input": [],
     "language": "python",
     "metadata": {},
     "outputs": []
    }
   ],
   "metadata": {}
  }
 ]
}