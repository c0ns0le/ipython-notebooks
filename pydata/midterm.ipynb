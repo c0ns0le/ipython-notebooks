{
 "metadata": {
  "name": "",
  "signature": "sha256:256afd3923ca95ac7ee554d4adbdeb5d079f485b35546ddeab89f6890a93aed3"
 },
 "nbformat": 3,
 "nbformat_minor": 0,
 "worksheets": [
  {
   "cells": [
    {
     "cell_type": "code",
     "collapsed": false,
     "input": [
      "import pandas as pd\n",
      "import matplotlib.pyplot as plt\n",
      "%matplotlib inline"
     ],
     "language": "python",
     "metadata": {},
     "outputs": [],
     "prompt_number": 5
    },
    {
     "cell_type": "code",
     "collapsed": false,
     "input": [
      "df = pd.read_csv(\"midterm_all.csv\")"
     ],
     "language": "python",
     "metadata": {},
     "outputs": [],
     "prompt_number": 3
    },
    {
     "cell_type": "code",
     "collapsed": false,
     "input": [
      "grades = df.icol(4)\n",
      "grades = grades[grades != 0]"
     ],
     "language": "python",
     "metadata": {},
     "outputs": [],
     "prompt_number": 13
    },
    {
     "cell_type": "code",
     "collapsed": false,
     "input": [
      "grades.max()"
     ],
     "language": "python",
     "metadata": {},
     "outputs": [
      {
       "metadata": {},
       "output_type": "pyout",
       "prompt_number": 18,
       "text": [
        "98.299999999999997"
       ]
      }
     ],
     "prompt_number": 18
    },
    {
     "cell_type": "code",
     "collapsed": false,
     "input": [
      "grades.min()"
     ],
     "language": "python",
     "metadata": {},
     "outputs": [
      {
       "metadata": {},
       "output_type": "pyout",
       "prompt_number": 19,
       "text": [
        "15.0"
       ]
      }
     ],
     "prompt_number": 19
    },
    {
     "cell_type": "code",
     "collapsed": false,
     "input": [
      "grades.mean()"
     ],
     "language": "python",
     "metadata": {},
     "outputs": [
      {
       "metadata": {},
       "output_type": "pyout",
       "prompt_number": 16,
       "text": [
        "68.630534351145045"
       ]
      }
     ],
     "prompt_number": 16
    },
    {
     "cell_type": "code",
     "collapsed": false,
     "input": [
      "grades.median()"
     ],
     "language": "python",
     "metadata": {},
     "outputs": [
      {
       "metadata": {},
       "output_type": "pyout",
       "prompt_number": 17,
       "text": [
        "72.5"
       ]
      }
     ],
     "prompt_number": 17
    },
    {
     "cell_type": "code",
     "collapsed": false,
     "input": [
      "plt.hist(grades, bins = 50)"
     ],
     "language": "python",
     "metadata": {},
     "outputs": [
      {
       "metadata": {},
       "output_type": "pyout",
       "prompt_number": 14,
       "text": [
        "(array([  1.,   0.,   0.,   0.,   0.,   0.,   0.,   1.,   0.,   3.,   4.,\n",
        "          0.,   0.,   0.,   0.,   0.,   3.,   1.,   2.,   4.,   0.,   1.,\n",
        "          6.,   2.,   3.,   6.,   2.,   4.,   6.,   1.,   5.,   6.,   0.,\n",
        "          3.,  11.,   2.,   3.,   6.,   4.,   3.,   8.,   4.,   3.,   6.,\n",
        "          3.,   5.,   5.,   0.,   2.,   2.]),\n",
        " array([ 15.   ,  16.666,  18.332,  19.998,  21.664,  23.33 ,  24.996,\n",
        "         26.662,  28.328,  29.994,  31.66 ,  33.326,  34.992,  36.658,\n",
        "         38.324,  39.99 ,  41.656,  43.322,  44.988,  46.654,  48.32 ,\n",
        "         49.986,  51.652,  53.318,  54.984,  56.65 ,  58.316,  59.982,\n",
        "         61.648,  63.314,  64.98 ,  66.646,  68.312,  69.978,  71.644,\n",
        "         73.31 ,  74.976,  76.642,  78.308,  79.974,  81.64 ,  83.306,\n",
        "         84.972,  86.638,  88.304,  89.97 ,  91.636,  93.302,  94.968,\n",
        "         96.634,  98.3  ]),\n",
        " <a list of 50 Patch objects>)"
       ]
      },
      {
       "metadata": {},
       "output_type": "display_data",
       "png": "[encoded data removed]",
       "text": [
        "<matplotlib.figure.Figure at 0x113fb3c50>"
       ]
      }
     ],
     "prompt_number": 14
    },
    {
     "cell_type": "code",
     "collapsed": false,
     "input": [],
     "language": "python",
     "metadata": {},
     "outputs": []
    }
   ],
   "metadata": {}
  }
 ]
}