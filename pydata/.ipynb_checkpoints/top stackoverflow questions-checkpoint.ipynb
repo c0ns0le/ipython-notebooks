{
 "metadata": {
  "name": "",
  "signature": "sha256:192496d0a717c2e7fe4b79dc83bcba8281d50d43ec5b51ab9b4687762be4646f"
 },
 "nbformat": 3,
 "nbformat_minor": 0,
 "worksheets": [
  {
   "cells": [
    {
     "cell_type": "code",
     "collapsed": false,
     "input": [
      "# data from stackoverflow\n",
      "import codecs\n",
      "from lxml import etree\n",
      "from collections import defaultdict"
     ],
     "language": "python",
     "metadata": {},
     "outputs": [],
     "prompt_number": 7
    },
    {
     "cell_type": "code",
     "collapsed": false,
     "input": [
      "site_to_url = {\n",
      "\"apple\": u\"http://apple.stackexchange.com/\",\n",
      "\"unix\": u\"http://unix.stackexchange.com/\",\n",
      "\"stackoverflow\": u\"http://stackoverflow.com/\"\n",
      "}\n",
      "\n",
      "site_to_folder = {\n",
      "\"apple\": \"apple.stackexchange.com\",\n",
      "\"unix\": \"unix.stackexchange.com\",\n",
      "\"stackoverflow\": \"stackoverflow\"\n",
      "}"
     ],
     "language": "python",
     "metadata": {},
     "outputs": [],
     "prompt_number": 8
    },
    {
     "cell_type": "code",
     "collapsed": false,
     "input": [
      "def fast_iter(context, func, *args, **kwargs):\n",
      "    \"\"\"\n",
      "    http://lxml.de/parsing.html#modifying-the-tree\n",
      "    Based on Liza Daly's fast_iter\n",
      "    http://www.ibm.com/developerworks/xml/library/x-hiperfparse/\n",
      "    See also http://effbot.org/zone/element-iterparse.htm\n",
      "    \"\"\"\n",
      "    questions = defaultdict(list)\n",
      "    counter = defaultdict(lambda: 1)\n",
      "    for event, elem in context:\n",
      "        func(elem, questions, counter, *args, **kwargs)\n",
      "        # It's safe to call clear() here because no descendants will be\n",
      "        # accessed\n",
      "        elem.clear()\n",
      "        # Also eliminate now-empty references from the root node to elem\n",
      "        for ancestor in elem.xpath('ancestor-or-self::*'):\n",
      "            while ancestor.getprevious() is not None:\n",
      "                del ancestor.getparent()[0]\n",
      "    del context\n",
      "    return questions"
     ],
     "language": "python",
     "metadata": {},
     "outputs": [],
     "prompt_number": 4
    },
    {
     "cell_type": "code",
     "collapsed": false,
     "input": [
      "def process_element(elem, questions, counter, site, votes):\n",
      "    if elem.get('PostTypeId') == '1' and int(elem.get('Score')) >= votes:\n",
      "        line = unicode(counter) + u\". [\" + unicode(elem.get('Title')) + u\"](\" + site_to_url[site]\n",
      "        line += u\"questions/\" + elem.get(\"Id\") + u\") (\" + elem.get('Score') + u' upvotes)  \\n'\n",
      "        questions.append([int(elem.get('Score')), line])\n",
      "        counter += 1"
     ],
     "language": "python",
     "metadata": {},
     "outputs": [],
     "prompt_number": 4
    },
    {
     "cell_type": "code",
     "collapsed": false,
     "input": [
      "def process_element_by_tags(elem, questions, counter, site, tags, votes):\n",
      "    \"\"\"\n",
      "    get the questions in the tag list\n",
      "    \"\"\"\n",
      "    for tag in tags:\n",
      "        if elem.get('PostTypeId') == '1' and tag in elem.get('Tags') and int(elem.get('Score')) >= votes:\n",
      "            line = u\"[\" + unicode(elem.get('Title')) + u\"](\" + site_to_url[site]\n",
      "            line += u\"questions/\" + elem.get(\"Id\") + u\") (\" + elem.get('Score') + u' upvotes)  \\n'\n",
      "            questions[tag].append([int(elem.get('Score')), line])\n",
      "            counter[tag] += 1"
     ],
     "language": "python",
     "metadata": {},
     "outputs": [],
     "prompt_number": 21
    },
    {
     "cell_type": "code",
     "collapsed": false,
     "input": [
      "def get_popular_questions(site, name, votes):\n",
      "    context = etree.iterparse(site_to_folder[site] + \"/Posts.xml\", tag='row' )\n",
      "    with codecs.open(site + \"_\" + name + \".md\", \"w+\", encoding='utf-8') as good_apple_question:\n",
      "        good_apple_question.write(\"\".join(fast_iter(context, process_element, site, votes)))"
     ],
     "language": "python",
     "metadata": {},
     "outputs": [],
     "prompt_number": 15
    },
    {
     "cell_type": "code",
     "collapsed": false,
     "input": [
      "def sort_quetions_by_votes(questions):\n",
      "    \"\"\"\n",
      "    sort the value of the dictionary\n",
      "    questions is a dictioanry with key being tag and a list of [vote, string]\n",
      "    \"\"\"\n",
      "    for key in questions:\n",
      "        if questions[key]:\n",
      "            questions[key] = sorted(questions[key], reverse=True)\n",
      "            questions[key] = [unicode(str(i+1)) + u'. ' + item[1] for i, item in enumerate(questions[key])]\n",
      "    return questions"
     ],
     "language": "python",
     "metadata": {},
     "outputs": [],
     "prompt_number": 22
    },
    {
     "cell_type": "code",
     "collapsed": false,
     "input": [
      "def get_popular_questions_by_tags(site, tags, votes):\n",
      "    \"\"\"\n",
      "    get the popluar questions with a vote over a threshold \n",
      "    \"\"\"\n",
      "    context = etree.iterparse(site_to_folder[site] + \"/Posts.xml\", tag='row' )\n",
      "    questions = fast_iter(context, process_element_by_tags, site, tags, votes)\n",
      "    questions = sort_quetions_by_votes(questions)\n",
      "    for tag in questions:\n",
      "        with codecs.open(site + \"_\" + tag + \".md\", \"w+\", encoding='utf-8') as good_questions:\n",
      "            good_questions.write(\"\".join(questions[tag]))"
     ],
     "language": "python",
     "metadata": {},
     "outputs": [],
     "prompt_number": 17
    },
    {
     "cell_type": "code",
     "collapsed": false,
     "input": [
      "# get_popular_questions(\"apple\")\n",
      "get_popular_questions(\"unix\")"
     ],
     "language": "python",
     "metadata": {},
     "outputs": [],
     "prompt_number": 88
    },
    {
     "cell_type": "code",
     "collapsed": false,
     "input": [
      "get_popular_questions_by_tag(\"stackoverflow\", \"algorithm\", \"algorithm\", 35)"
     ],
     "language": "python",
     "metadata": {},
     "outputs": [],
     "prompt_number": 23
    },
    {
     "cell_type": "code",
     "collapsed": false,
     "input": [
      "get_popular_questions(\"stackoverflow\", \"popular\", 800)"
     ],
     "language": "python",
     "metadata": {},
     "outputs": [],
     "prompt_number": 17
    },
    {
     "cell_type": "code",
     "collapsed": false,
     "input": [
      "get_popular_questions_by_tags(\"stackoverflow\", [\"python\", \"node.js\", \"angularjs\", \"express\", \"javascript\", \"python3\", \"swift\"], 35)"
     ],
     "language": "python",
     "metadata": {},
     "outputs": [],
     "prompt_number": 23
    },
    {
     "cell_type": "code",
     "collapsed": false,
     "input": [
      "!atom stackoverflow_swift.md"
     ],
     "language": "python",
     "metadata": {},
     "outputs": [],
     "prompt_number": 20
    }
   ],
   "metadata": {}
  }
 ]
}