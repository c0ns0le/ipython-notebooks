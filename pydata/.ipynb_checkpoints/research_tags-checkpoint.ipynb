{
 "metadata": {
  "name": "",
  "signature": "sha256:181e8939c188ca3f3dffbbf91177ef5e471e5b4d79de88512f02f3df444f3aee"
 },
 "nbformat": 3,
 "nbformat_minor": 0,
 "worksheets": [
  {
   "cells": [
    {
     "cell_type": "code",
     "collapsed": false,
     "input": [
      "# data from stackoverflow\n",
      "import codecs\n",
      "from lxml import etree\n",
      "from collections import defaultdict"
     ],
     "language": "python",
     "metadata": {},
     "outputs": [],
     "prompt_number": 6
    },
    {
     "cell_type": "code",
     "collapsed": false,
     "input": [
      "libraries = [\"commons-dbcp\", \"commons-io\", \"commons-lang\", \"commons-lang3\", \"jdom1\", \"jdom2\", \"log4j1\", \n",
      "             \"log4j2\", \"struts1\", \"struts2\", \"commons-logging\", \"logback-core\", \"logback-classic\", \n",
      "             \"logback-access\", \"slf4j\", \"commons-cli\", \"h2\", \"commons-beanutils\", \"jackson-core\", \"maven-plugin-api\", \n",
      "             \"mockito-all\", \"commons-configuration\", \"jsoup\", \"joda-time\", \"commons-codec\", \"apache-ant\", \"maven-model\", \n",
      "             \"gson\", \"commons-fileupload\", \"nekohtml\", \"commons-collections\", \"plexus-utils\", \"groovy-all\", \"apache-derby\", \n",
      "             \"apache-ant\", \"xercesImpl\", \"junit\"]"
     ],
     "language": "python",
     "metadata": {},
     "outputs": []
    },
    {
     "cell_type": "code",
     "collapsed": false,
     "input": [
      "site_to_url = {\n",
      "\"apple\": u\"http://apple.stackexchange.com/\",\n",
      "\"unix\": u\"http://unix.stackexchange.com/\",\n",
      "\"stackoverflow\": u\"http://stackoverflow.com/\"\n",
      "}\n",
      "\n",
      "site_to_folder = {\n",
      "\"apple\": \"apple.stackexchange.com\",\n",
      "\"unix\": \"unix.stackexchange.com\",\n",
      "\"stackoverflow\": \"stackoverflow\"\n",
      "}"
     ],
     "language": "python",
     "metadata": {},
     "outputs": [],
     "prompt_number": 7
    },
    {
     "cell_type": "code",
     "collapsed": false,
     "input": [
      "def fast_iter(context, func, *args, **kwargs):\n",
      "    \"\"\"\n",
      "    http://lxml.de/parsing.html#modifying-the-tree\n",
      "    Based on Liza Daly's fast_iter\n",
      "    http://www.ibm.com/developerworks/xml/library/x-hiperfparse/\n",
      "    See also http://effbot.org/zone/element-iterparse.htm\n",
      "    \"\"\"\n",
      "    questions = defaultdict(dict)\n",
      "    counter = defaultdict(lambda: 1)\n",
      "    for event, elem in context:\n",
      "        func(elem, questions, counter, *args, **kwargs)\n",
      "        # It's safe to call clear() here because no descendants will be\n",
      "        # accessed\n",
      "        elem.clear()\n",
      "        # Also eliminate now-empty references from the root node to elem\n",
      "        for ancestor in elem.xpath('ancestor-or-self::*'):\n",
      "            while ancestor.getprevious() is not None:\n",
      "                del ancestor.getparent()[0]\n",
      "    del context\n",
      "    return questions"
     ],
     "language": "python",
     "metadata": {},
     "outputs": [],
     "prompt_number": 9
    },
    {
     "cell_type": "code",
     "collapsed": false,
     "input": [
      "def process_element(elem, questions, counter, site, votes):\n",
      "    if elem.get('PostTypeId') == '1' and int(elem.get('Score')) >= votes:\n",
      "        line = unicode(counter) + u\". [\" + unicode(elem.get('Title')) + u\"](\" + site_to_url[site]\n",
      "        line += u\"questions/\" + elem.get(\"Id\") + u\") (\" + elem.get('Score') + u' upvotes)  \\n'\n",
      "        questions.append([int(elem.get('Score')), line])\n",
      "        counter += 1"
     ],
     "language": "python",
     "metadata": {},
     "outputs": [],
     "prompt_number": 4
    },
    {
     "cell_type": "code",
     "collapsed": false,
     "input": [
      "def process_element_by_tags(elem, questions, counter, site, tags, votes):\n",
      "    \"\"\"\n",
      "    get the questions in the tag list\n",
      "    \"\"\"\n",
      "    question_type = elem.get('PostTypeId')\n",
      "    if question_type == '1':\n",
      "        question_title = elem.get('Title')\n",
      "        question_body = elem.get('Body')\n",
      "        text = question_title + \" \" + question_body\n",
      "        question_tags = set(elem.get('Tags')[1:-1].split(\"><\"))\n",
      "        question_score = int(elem.get('Score'))\n",
      "    \n",
      "        for tag in tags:\n",
      "            if tag in question_tags:\n",
      "                line = u\"[\" + unicode(question_title) + u\"](\" + site_to_url[site]\n",
      "                line += u\"questions/\" + question_type + u\") (\" + unicode(question_score) + u' upvotes)  \\n'\n",
      "                if deprecation_related(text):\n",
      "                    if \"deprecation\" not in questions[tag]:\n",
      "                        questions[tag][\"deprecation\"] = [[question_score, line]]\n",
      "                    else:\n",
      "                        questions[tag][\"deprecation\"].append([question_score, line])\n",
      "                if BI_related(text):\n",
      "                    if \"bi\" not in questions[tag]:\n",
      "                        questions[tag][\"bi\"] = [[question_score, line]]\n",
      "                    else:\n",
      "                        questions[tag][\"bi\"].append([question_score, line])"
     ],
     "language": "python",
     "metadata": {},
     "outputs": [],
     "prompt_number": 31
    },
    {
     "cell_type": "code",
     "collapsed": false,
     "input": [
      "def sort_quetions_by_votes(questions):\n",
      "    \"\"\"\n",
      "    sort the value of the dictionary\n",
      "    questions is a dictioanry with key being tag and a list of [vote, string]\n",
      "    \"\"\"\n",
      "    for key in questions:\n",
      "        if questions[key]:\n",
      "            questions[key][\"deprecation\"] = sorted(questions[key]['deprecation'], reverse=True)\n",
      "            questions[key][\"deprecation\"] = [unicode(str(i+1)) + u'. ' + item[1] for i, item in enumerate(questions[key][\"deprecation\"])]\n",
      "            questions[key][\"bi\"] = sorted(questions[key][\"bi\"], reverse=True)\n",
      "            questions[key][\"bi\"] = [unicode(str(i+1)) + u'. ' + item[1] for i, item in enumerate(questions[key][\"bi\"])]\n",
      "    return questions"
     ],
     "language": "python",
     "metadata": {},
     "outputs": [],
     "prompt_number": 24
    },
    {
     "cell_type": "code",
     "collapsed": false,
     "input": [
      "def get_popular_questions_by_tags(site, tags, votes):\n",
      "    \"\"\"\n",
      "    get the popluar questions with a vote over a threshold \n",
      "    \"\"\"\n",
      "    context = etree.iterparse(site_to_folder[site] + \"/Posts.xml\", tag='row' )\n",
      "    questions = fast_iter(context, process_element_by_tags, site, tags, votes)\n",
      "    questions = sort_quetions_by_votes(questions)\n",
      "    for tag in questions:\n",
      "        for info_type in [\"deprecation\", \"bi\"]:\n",
      "            with codecs.open(site + \"_\" + tag + \"_\" + info_type + \".md\", \"w+\", encoding='utf-8') as good_questions:\n",
      "                good_questions.write(\"\".join(questions[tag][info_type]))"
     ],
     "language": "python",
     "metadata": {},
     "outputs": [],
     "prompt_number": 21
    },
    {
     "cell_type": "code",
     "collapsed": false,
     "input": [
      "def deprecation_related(text):\n",
      "    keywords = [\"deprecated\", \"deprecation\", \"deprecate\"]\n",
      "    return any(keyword in text.lower() for keyword in keywords)\n",
      "def BI_related(text):\n",
      "    keywords = [\"compatibility\", \"incompatibility\", \"backwards\", \"compatible\"]\n",
      "    return any(keyword in text.lower() for keyword in keywords)"
     ],
     "language": "python",
     "metadata": {},
     "outputs": [],
     "prompt_number": 1
    },
    {
     "cell_type": "code",
     "collapsed": false,
     "input": [
      "get_popular_questions_by_tags(\"stackoverflow\", [\"junit\", \"jodatime\", \"apache-commons-io\", \"apache-commons-lang\", \n",
      "                                                \"jdom\", \"jsoup\", \"mockito\", \"logback\", \"jackson\", \"gson\", \"log4j\"], 0)"
     ],
     "language": "python",
     "metadata": {},
     "outputs": []
    }
   ],
   "metadata": {}
  }
 ]
}