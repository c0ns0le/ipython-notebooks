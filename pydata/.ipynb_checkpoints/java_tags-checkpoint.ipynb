{
 "metadata": {
  "name": "",
  "signature": "sha256:3554a8c4e3a484cd0480899881490d1d94db6bb0e5a5137d35a059ef2d0aad5d"
 },
 "nbformat": 3,
 "nbformat_minor": 0,
 "worksheets": [
  {
   "cells": [
    {
     "cell_type": "code",
     "collapsed": false,
     "input": [
      "# data from stackoverflow\n",
      "import codecs\n",
      "\n",
      "from lxml import etree\n",
      "\n",
      "from pymongo import MongoClient"
     ],
     "language": "python",
     "metadata": {},
     "outputs": [],
     "prompt_number": 4
    },
    {
     "cell_type": "code",
     "collapsed": false,
     "input": [
      "so_site = \"http://stackoverflow.com/\""
     ],
     "language": "python",
     "metadata": {},
     "outputs": [],
     "prompt_number": 6
    },
    {
     "cell_type": "code",
     "collapsed": false,
     "input": [
      "client = MongoClient('localhost', 27017)\n",
      "db = client.java_tags\n",
      "tags = db.tags"
     ],
     "language": "python",
     "metadata": {},
     "outputs": [],
     "prompt_number": 17
    },
    {
     "cell_type": "code",
     "collapsed": false,
     "input": [
      "def fast_iter(context, func, *args, **kwargs):\n",
      "    \"\"\"\n",
      "    http://lxml.de/parsing.html#modifying-the-tree\n",
      "    Based on Liza Daly's fast_iter\n",
      "    http://www.ibm.com/developerworks/xml/library/x-hiperfparse/\n",
      "    See also http://effbot.org/zone/element-iterparse.htm\n",
      "    \"\"\"\n",
      "    for event, elem in context:\n",
      "        func(elem, *args, **kwargs)\n",
      "        # It's safe to call clear() here because no descendants will be\n",
      "        # accessed\n",
      "        elem.clear()\n",
      "        # Also eliminate now-empty references from the root node to elem\n",
      "        for ancestor in elem.xpath('ancestor-or-self::*'):\n",
      "            while ancestor.getprevious() is not None:\n",
      "                del ancestor.getparent()[0]\n",
      "    del context\n",
      "\n",
      "\n",
      "def process_element(elem):\n",
      "    if elem.get('PostTypeId') == '1':\n",
      "        question_tags = elem.get('Tags')[1:-1].split(\"><\")\n",
      "        if \"java\" in tags:\n",
      "            tag_info = {}\n",
      "            tag_info['_id'] = elem.get(\"Id\")\n",
      "            tag_info['title'] = elem.get('Title')\n",
      "            tag_info['url'] = so_site + u\"questions/\" + elem.get(\"Id\")\n",
      "            tag_info['votes'] = int(elem.get('Score'))\n",
      "            tag_info['body'] = elem.get('Body')\n",
      "            tag_info['tags'] = question_tags\n",
      "            tags.save(tag_info)"
     ],
     "language": "python",
     "metadata": {},
     "outputs": [],
     "prompt_number": 1
    },
    {
     "cell_type": "code",
     "collapsed": false,
     "input": [
      "def getTags(library):\n",
      "    context = etree.iterparse(\"stackoverflow/Posts.xml\", tag='row' )\n",
      "    with codecs.open('so_deprecated_questions.md', 'w+', 'utf-8') as deprecated_question, codecs.open('so_bi_questions.md', 'w+', 'utf-8') as bi_question:\n",
      "        fast_iter(context,process_element)"
     ],
     "language": "python",
     "metadata": {},
     "outputs": [],
     "prompt_number": 7
    },
    {
     "cell_type": "code",
     "collapsed": false,
     "input": [
      "getTags(\"stackoverflow\")"
     ],
     "language": "python",
     "metadata": {},
     "outputs": [],
     "prompt_number": 18
    }
   ],
   "metadata": {}
  }
 ]
}