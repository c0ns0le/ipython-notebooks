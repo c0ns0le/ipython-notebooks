{
 "metadata": {
  "name": "",
  "signature": "sha256:e2f5726f04321e231ca5abc220f6d9e63800e319e4f4dd2110a2540b0a716226"
 },
 "nbformat": 3,
 "nbformat_minor": 0,
 "worksheets": [
  {
   "cells": [
    {
     "cell_type": "heading",
     "level": 1,
     "metadata": {},
     "source": [
      "Simple analysis based on data crawled from realjock.com"
     ]
    },
    {
     "cell_type": "code",
     "collapsed": false,
     "input": [
      "from pymongo import MongoClient\n",
      "import matplotlib.pyplot as plt\n",
      "%matplotlib inline"
     ],
     "language": "python",
     "metadata": {},
     "outputs": [],
     "prompt_number": 1
    },
    {
     "cell_type": "heading",
     "level": 2,
     "metadata": {},
     "source": [
      "Racial Distribution of Realjock Users"
     ]
    },
    {
     "cell_type": "markdown",
     "metadata": {},
     "source": [
      "**Note**: only part of all Realjock users disclosed their ethnicity."
     ]
    },
    {
     "cell_type": "code",
     "collapsed": false,
     "input": [
      "users = [\n",
      "{ \"_id\" : \"Pacific Islander\", \"avg_age\" : 29.61760840998686, \"number\" : 761 },\n",
      "{ \"_id\" : \"Other\", \"avg_age\" : 29.493714285714287, \"number\" : 3500 },\n",
      "{ \"_id\" : \"Mixed Race\", \"avg_age\" : 28.437042871610217, \"number\" : 8887 },\n",
      "{ \"_id\" : \"Middle Eastern\", \"avg_age\" : 29.201475025142475, \"number\" : 2983 },\n",
      "{ \"_id\" : \"South Asian\", \"avg_age\" : 28.555775904809124, \"number\" : 2017 },\n",
      "{ \"_id\" : \"Latino\", \"avg_age\" : 29.647808310354662, \"number\" : 10517 },\n",
      "{ \"_id\" : \"Black\", \"avg_age\" : 28.84354639175258, \"number\" : 12125 },\n",
      "{ \"_id\" : \"American Indian\", \"avg_age\" : 28.089638157894736, \"number\" : 1216 },\n",
      "{ \"_id\" : \"Asian\", \"avg_age\" : 27.30320058636697, \"number\" : 16372 },\n",
      "{ \"_id\" : \"White\", \"avg_age\" : 35.51026804123711, \"number\" : 72750 }\n",
      "]"
     ],
     "language": "python",
     "metadata": {},
     "outputs": [],
     "prompt_number": 4
    },
    {
     "cell_type": "heading",
     "level": 3,
     "metadata": {},
     "source": [
      "The total number of users who specified their ethnicity:"
     ]
    },
    {
     "cell_type": "code",
     "collapsed": false,
     "input": [
      "total_users = sum([user['number'] for user in users])\n",
      "total_users"
     ],
     "language": "python",
     "metadata": {},
     "outputs": [
      {
       "metadata": {},
       "output_type": "pyout",
       "prompt_number": 13,
       "text": [
        "131128"
       ]
      }
     ],
     "prompt_number": 13
    },
    {
     "cell_type": "heading",
     "level": 3,
     "metadata": {},
     "source": [
      "Racial Percentages"
     ]
    },
    {
     "cell_type": "code",
     "collapsed": false,
     "input": [
      "for user in sorted(users, key=lambda x: x['number'], reverse=True):\n",
      "    print user[\"_id\"], \":\", \"{0:.2f}\".format(user['number']/float(total_users)*100), \"%\""
     ],
     "language": "python",
     "metadata": {},
     "outputs": [
      {
       "output_type": "stream",
       "stream": "stdout",
       "text": [
        "White : 55.48 %\n",
        "Asian : 12.49 %\n",
        "Black : 9.25 %\n",
        "Latino : 8.02 %\n",
        "Mixed Race : 6.78 %\n",
        "Other : 2.67 %\n",
        "Middle Eastern : 2.27 %\n",
        "South Asian : 1.54 %\n",
        "American Indian : 0.93 %\n",
        "Pacific Islander : 0.58 %\n"
       ]
      }
     ],
     "prompt_number": 88
    },
    {
     "cell_type": "markdown",
     "metadata": {},
     "source": [
      "Now, most of the users on the site are White, which is not very surprising. The second largest group is Asian."
     ]
    },
    {
     "cell_type": "heading",
     "level": 3,
     "metadata": {},
     "source": [
      "Let's draw a crappy chart with colors of a rainbow and some colors of the iPhone."
     ]
    },
    {
     "cell_type": "code",
     "collapsed": false,
     "input": [
      "labels = [item['_id'] for item in sorted(users, key=lambda x: x['number'], reverse=True)]\n",
      "sizes = [item['number'] for item in sorted(users, key=lambda x: x['number'], reverse=True)]\n",
      "\n",
      "# let's use the colors of a rainbow plus Apple's silver, gold and space gray.\n",
      "colors = ['red', 'orange', 'yellow', 'green', 'blue', 'indigo', 'violet', 'silver', 'gold', '#a5adb0']\n",
      "\n",
      "explode = (0.1, 0, 0.1, 0.3, 0.2, 0.3, 0.1, 0.5, 0.3, 0.6)\n",
      "\n",
      "plt.pie(sizes,labels=labels,\n",
      "        autopct='%1.1f%%', explode=explode, colors=colors, shadow=True, startangle=90)\n",
      "\n",
      "# Set aspect ratio to be equal so that pie is drawn as a circle.\n",
      "plt.axis('equal')\n",
      "\n",
      "plt.show()"
     ],
     "language": "python",
     "metadata": {},
     "outputs": [
      {
       "metadata": {},
       "output_type": "display_data",
       "png": "[encoded data removed]",
       "text": [
        "<matplotlib.figure.Figure at 0x10ea5d590>"
       ]
      }
     ],
     "prompt_number": 76
    },
    {
     "cell_type": "heading",
     "level": 3,
     "metadata": {},
     "source": [
      "Average ages"
     ]
    },
    {
     "cell_type": "heading",
     "level": 4,
     "metadata": {},
     "source": [
      "1. All"
     ]
    },
    {
     "cell_type": "code",
     "collapsed": false,
     "input": [
      "print \"Average age of all users (who specified ethnicity) by race\"\n",
      "print \"----------------------------------------------------------\"\n",
      "print sum([user['number']*user['avg_age'] for user in users])/float(total_users)"
     ],
     "language": "python",
     "metadata": {},
     "outputs": [
      {
       "output_type": "stream",
       "stream": "stdout",
       "text": [
        "Average age of all users (who specified ethnicity) by race\n",
        "----------------------------------------------------------\n",
        "32.4054587884\n"
       ]
      }
     ],
     "prompt_number": 44
    },
    {
     "cell_type": "heading",
     "level": 4,
     "metadata": {},
     "source": [
      "2. By race"
     ]
    },
    {
     "cell_type": "code",
     "collapsed": false,
     "input": [
      "print \"Average age of users by race\"\n",
      "print \"----------------------------\"\n",
      "for user in sorted(users, key=lambda x: x['avg_age'], reverse=True):\n",
      "    print user[\"_id\"], \":\", \"{0:.2f}\".format(user['avg_age'])"
     ],
     "language": "python",
     "metadata": {},
     "outputs": [
      {
       "output_type": "stream",
       "stream": "stdout",
       "text": [
        "Average age of users by race\n",
        "----------------------------\n",
        "White : 35.51\n",
        "Latino : 29.65\n",
        "Pacific Islander : 29.62\n",
        "Other : 29.49\n",
        "Middle Eastern : 29.20\n",
        "Black : 28.84\n",
        "South Asian : 28.56\n",
        "Mixed Race : 28.44\n",
        "American Indian : 28.09\n",
        "Asian : 27.30\n"
       ]
      }
     ],
     "prompt_number": 38
    },
    {
     "cell_type": "heading",
     "level": 2,
     "metadata": {},
     "source": [
      "Racial Distribution of MOTD's in the past year"
     ]
    },
    {
     "cell_type": "markdown",
     "metadata": {},
     "source": [
      "**Note**: A lot of MOTD's didn't disclose their ethnicity. I went to their profile and did my best to classify them. There are still 5 people I'm not sure about. But they are either white or Latino. (Silly question, (white) people in Spain... are they white or Latino?)"
     ]
    },
    {
     "cell_type": "code",
     "collapsed": false,
     "input": [
      "motds = [\n",
      "{ \"_id\" : \"Other\", \"avg_age\" : 27, \"number\" : 2 },\n",
      "{ \"_id\" : \"Black\", \"avg_age\" : 33.36363636363637, \"number\" : 11 },\n",
      "{ \"_id\" : \"American Indian\", \"avg_age\" : 25, \"number\" : 1 },\n",
      "{ \"_id\" : \"Unspecified\", \"avg_age\" : 32.2, \"number\" : 5 },\n",
      "{ \"_id\" : \"Latino\", \"avg_age\" : 33.333333333333336, \"number\" : 6 },\n",
      "{ \"_id\" : \"Middle Eastern\", \"avg_age\" : 31.8, \"number\" : 5 },\n",
      "{ \"_id\" : \"Mixed Race\", \"avg_age\" : 33.77777777777778, \"number\" : 18 },\n",
      "{ \"_id\" : \"Asian\", \"avg_age\" : 30.833333333333332, \"number\" : 6 },\n",
      "{ \"_id\" : \"White\", \"avg_age\" : 35.72668810289389, \"number\" : 311 }\n",
      "]"
     ],
     "language": "python",
     "metadata": {},
     "outputs": [],
     "prompt_number": 10
    },
    {
     "cell_type": "code",
     "collapsed": false,
     "input": [
      "total_motds = sum([motd['number'] for motd in motds])\n",
      "total_motds"
     ],
     "language": "python",
     "metadata": {},
     "outputs": [
      {
       "metadata": {},
       "output_type": "pyout",
       "prompt_number": 17,
       "text": [
        "365"
       ]
      }
     ],
     "prompt_number": 17
    },
    {
     "cell_type": "heading",
     "level": 3,
     "metadata": {},
     "source": [
      "Racial Percentages of MOTD's"
     ]
    },
    {
     "cell_type": "code",
     "collapsed": false,
     "input": [
      "print \"Of the last 365 MOTDs:\"\n",
      "print \"----------------------\"\n",
      "for motd in sorted(motds, key=lambda x: x['number'], reverse=True):\n",
      "    print motd[\"_id\"], \":\", \"{0:.2f}\".format(motd['number']/float(total_motds)*100), \"%\""
     ],
     "language": "python",
     "metadata": {},
     "outputs": [
      {
       "output_type": "stream",
       "stream": "stdout",
       "text": [
        "Of the last 365 MOTDs:\n",
        "----------------------\n",
        "White : 85.21 %\n",
        "Mixed Race : 4.93 %\n",
        "Black : 3.01 %\n",
        "Latino : 1.64 %\n",
        "Asian : 1.64 %\n",
        "Unspecified : 1.37 %\n",
        "Middle Eastern : 1.37 %\n",
        "Other : 0.55 %\n",
        "American Indian : 0.27 %\n"
       ]
      }
     ],
     "prompt_number": 89
    },
    {
     "cell_type": "heading",
     "level": 3,
     "metadata": {},
     "source": [
      "Let's draw a crappy chart again"
     ]
    },
    {
     "cell_type": "code",
     "collapsed": false,
     "input": [
      "labels = [item['_id'] for item in sorted(motds, key=lambda x: x['number'], reverse=True)]\n",
      "sizes = [item['number'] for item in sorted(motds, key=lambda x: x['number'], reverse=True)]\n",
      "\n",
      "\n",
      "colors = ['red', 'orange', 'yellow', 'green', 'blue', 'indigo', 'violet', 'gold','silver']\n",
      "explode = (0.2, 0, 0.1, 0.3, 0.9, 0.4, 0.3, 0.5, 0.7)\n",
      "\n",
      "plt.pie(sizes,labels=labels,\n",
      "        autopct='%1.1f%%', explode=explode, colors=colors, shadow=True, startangle=90)\n",
      "# Set aspect ratio to be equal so that pie is drawn as a circle.\n",
      "plt.axis('equal')\n",
      "\n",
      "plt.show()"
     ],
     "language": "python",
     "metadata": {},
     "outputs": [
      {
       "metadata": {},
       "output_type": "display_data",
       "png": "[encoded data removed]",
       "text": [
        "<matplotlib.figure.Figure at 0x10e1a4890>"
       ]
      }
     ],
     "prompt_number": 87
    },
    {
     "cell_type": "heading",
     "level": 3,
     "metadata": {},
     "source": [
      "Average age of MOTD's"
     ]
    },
    {
     "cell_type": "heading",
     "level": 4,
     "metadata": {},
     "source": [
      "1. All"
     ]
    },
    {
     "cell_type": "code",
     "collapsed": false,
     "input": [
      "print \"Average age of MOTD's in the past year\"\n",
      "print \"--------------------------------------\"\n",
      "print sum([motd['number']*motd['avg_age'] for motd in motds])/float(total_motds)"
     ],
     "language": "python",
     "metadata": {},
     "outputs": [
      {
       "output_type": "stream",
       "stream": "stdout",
       "text": [
        "Average age of MOTD's in the past year\n",
        "--------------------------------------\n",
        "35.2602739726\n"
       ]
      }
     ],
     "prompt_number": 45
    },
    {
     "cell_type": "heading",
     "level": 4,
     "metadata": {},
     "source": [
      "2. By race"
     ]
    },
    {
     "cell_type": "code",
     "collapsed": false,
     "input": [
      "print \"Average age of MOTD's by race\"\n",
      "print \"----------------------------\"\n",
      "for user in sorted(motds, key=lambda x: x['avg_age'], reverse=True):\n",
      "    print user[\"_id\"], \":\", \"{0:.2f}\".format(user['avg_age'])"
     ],
     "language": "python",
     "metadata": {},
     "outputs": [
      {
       "output_type": "stream",
       "stream": "stdout",
       "text": [
        "Average age of MOTD's by race\n",
        "----------------------------\n",
        "White : 35.73\n",
        "Mixed Race : 33.78\n",
        "Black : 33.36\n",
        "Latino : 33.33\n",
        "Unspecified : 32.20\n",
        "Middle Eastern : 31.80\n",
        "Asian : 30.83\n",
        "Other : 27.00\n",
        "American Indian : 25.00\n"
       ]
      }
     ],
     "prompt_number": 46
    }
   ],
   "metadata": {}
  }
 ]
}