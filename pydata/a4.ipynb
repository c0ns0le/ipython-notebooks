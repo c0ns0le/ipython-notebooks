{
 "metadata": {
  "name": "",
  "signature": "sha256:08446f91ba16ee859c880b5e24f93111f34796dac264db1b1ac59ca6b003bc17"
 },
 "nbformat": 3,
 "nbformat_minor": 0,
 "worksheets": [
  {
   "cells": [
    {
     "cell_type": "code",
     "collapsed": false,
     "input": [
      "flights = {}\n",
      "with open('Flight-Information-for-20140101.dat.txt') as f:\n",
      "    for line in f:\n",
      "        record = line.strip().split()\n",
      "        source = record[3]\n",
      "        dest = record[5]\n",
      "        if source not in flights:\n",
      "            flights[source] = [dest]\n",
      "        else:\n",
      "            flights[source].append(dest)"
     ],
     "language": "python",
     "metadata": {},
     "outputs": [],
     "prompt_number": 1
    },
    {
     "cell_type": "code",
     "collapsed": false,
     "input": [
      "flights"
     ],
     "language": "python",
     "metadata": {},
     "outputs": [
      {
       "metadata": {},
       "output_type": "pyout",
       "prompt_number": 2,
       "text": [
        "{'Calgary': ['Montreal', 'Ottawa', 'Edmonton'],\n",
        " 'Ottawa': ['Toronto'],\n",
        " 'Toronto': ['Vancouver']}"
       ]
      }
     ],
     "prompt_number": 2
    }
   ],
   "metadata": {}
  }
 ]
}