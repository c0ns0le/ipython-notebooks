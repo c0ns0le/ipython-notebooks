{
 "metadata": {
  "name": "",
  "signature": "sha256:8b7d64d3942474c8c9d319eb2e523780ba8ce6ae5eee2a89975cd8d37f2df1f5"
 },
 "nbformat": 3,
 "nbformat_minor": 0,
 "worksheets": [
  {
   "cells": [
    {
     "cell_type": "code",
     "collapsed": false,
     "input": [
      "import pandas as pd\n",
      "from pandas import DataFrame, Series"
     ],
     "language": "python",
     "metadata": {},
     "outputs": [],
     "prompt_number": 2
    },
    {
     "cell_type": "code",
     "collapsed": false,
     "input": [
      "!ls names/"
     ],
     "language": "python",
     "metadata": {},
     "outputs": [
      {
       "output_type": "stream",
       "stream": "stdout",
       "text": [
        "\u001b[31mNationalReadMe.pdf\u001b[m\u001b[m \u001b[31myob1913.txt\u001b[m\u001b[m        \u001b[31myob1947.txt\u001b[m\u001b[m        \u001b[31myob1981.txt\u001b[m\u001b[m\r\n",
        "\u001b[31myob1880.txt\u001b[m\u001b[m        \u001b[31myob1914.txt\u001b[m\u001b[m        \u001b[31myob1948.txt\u001b[m\u001b[m        \u001b[31myob1982.txt\u001b[m\u001b[m\r\n",
        "\u001b[31myob1881.txt\u001b[m\u001b[m        \u001b[31myob1915.txt\u001b[m\u001b[m        \u001b[31myob1949.txt\u001b[m\u001b[m        \u001b[31myob1983.txt\u001b[m\u001b[m\r\n",
        "\u001b[31myob1882.txt\u001b[m\u001b[m        \u001b[31myob1916.txt\u001b[m\u001b[m        \u001b[31myob1950.txt\u001b[m\u001b[m        \u001b[31myob1984.txt\u001b[m\u001b[m\r\n",
        "\u001b[31myob1883.txt\u001b[m\u001b[m        \u001b[31myob1917.txt\u001b[m\u001b[m        \u001b[31myob1951.txt\u001b[m\u001b[m        \u001b[31myob1985.txt\u001b[m\u001b[m\r\n",
        "\u001b[31myob1884.txt\u001b[m\u001b[m        \u001b[31myob1918.txt\u001b[m\u001b[m        \u001b[31myob1952.txt\u001b[m\u001b[m        \u001b[31myob1986.txt\u001b[m\u001b[m\r\n",
        "\u001b[31myob1885.txt\u001b[m\u001b[m        \u001b[31myob1919.txt\u001b[m\u001b[m        \u001b[31myob1953.txt\u001b[m\u001b[m        \u001b[31myob1987.txt\u001b[m\u001b[m\r\n",
        "\u001b[31myob1886.txt\u001b[m\u001b[m        \u001b[31myob1920.txt\u001b[m\u001b[m        \u001b[31myob1954.txt\u001b[m\u001b[m        \u001b[31myob1988.txt\u001b[m\u001b[m\r\n",
        "\u001b[31myob1887.txt\u001b[m\u001b[m        \u001b[31myob1921.txt\u001b[m\u001b[m        \u001b[31myob1955.txt\u001b[m\u001b[m        \u001b[31myob1989.txt\u001b[m\u001b[m\r\n",
        "\u001b[31myob1888.txt\u001b[m\u001b[m        \u001b[31myob1922.txt\u001b[m\u001b[m        \u001b[31myob1956.txt\u001b[m\u001b[m        \u001b[31myob1990.txt\u001b[m\u001b[m\r\n",
        "\u001b[31myob1889.txt\u001b[m\u001b[m        \u001b[31myob1923.txt\u001b[m\u001b[m        \u001b[31myob1957.txt\u001b[m\u001b[m        \u001b[31myob1991.txt\u001b[m\u001b[m\r\n",
        "\u001b[31myob1890.txt\u001b[m\u001b[m        \u001b[31myob1924.txt\u001b[m\u001b[m        \u001b[31myob1958.txt\u001b[m\u001b[m        \u001b[31myob1992.txt\u001b[m\u001b[m\r\n",
        "\u001b[31myob1891.txt\u001b[m\u001b[m        \u001b[31myob1925.txt\u001b[m\u001b[m        \u001b[31myob1959.txt\u001b[m\u001b[m        \u001b[31myob1993.txt\u001b[m\u001b[m\r\n",
        "\u001b[31myob1892.txt\u001b[m\u001b[m        \u001b[31myob1926.txt\u001b[m\u001b[m        \u001b[31myob1960.txt\u001b[m\u001b[m        \u001b[31myob1994.txt\u001b[m\u001b[m\r\n",
        "\u001b[31myob1893.txt\u001b[m\u001b[m        \u001b[31myob1927.txt\u001b[m\u001b[m        \u001b[31myob1961.txt\u001b[m\u001b[m        \u001b[31myob1995.txt\u001b[m\u001b[m\r\n",
        "\u001b[31myob1894.txt\u001b[m\u001b[m        \u001b[31myob1928.txt\u001b[m\u001b[m        \u001b[31myob1962.txt\u001b[m\u001b[m        \u001b[31myob1996.txt\u001b[m\u001b[m\r\n",
        "\u001b[31myob1895.txt\u001b[m\u001b[m        \u001b[31myob1929.txt\u001b[m\u001b[m        \u001b[31myob1963.txt\u001b[m\u001b[m        \u001b[31myob1997.txt\u001b[m\u001b[m\r\n",
        "\u001b[31myob1896.txt\u001b[m\u001b[m        \u001b[31myob1930.txt\u001b[m\u001b[m        \u001b[31myob1964.txt\u001b[m\u001b[m        \u001b[31myob1998.txt\u001b[m\u001b[m\r\n",
        "\u001b[31myob1897.txt\u001b[m\u001b[m        \u001b[31myob1931.txt\u001b[m\u001b[m        \u001b[31myob1965.txt\u001b[m\u001b[m        \u001b[31myob1999.txt\u001b[m\u001b[m\r\n",
        "\u001b[31myob1898.txt\u001b[m\u001b[m        \u001b[31myob1932.txt\u001b[m\u001b[m        \u001b[31myob1966.txt\u001b[m\u001b[m        \u001b[31myob2000.txt\u001b[m\u001b[m\r\n",
        "\u001b[31myob1899.txt\u001b[m\u001b[m        \u001b[31myob1933.txt\u001b[m\u001b[m        \u001b[31myob1967.txt\u001b[m\u001b[m        \u001b[31myob2001.txt\u001b[m\u001b[m\r\n",
        "\u001b[31myob1900.txt\u001b[m\u001b[m        \u001b[31myob1934.txt\u001b[m\u001b[m        \u001b[31myob1968.txt\u001b[m\u001b[m        \u001b[31myob2002.txt\u001b[m\u001b[m\r\n",
        "\u001b[31myob1901.txt\u001b[m\u001b[m        \u001b[31myob1935.txt\u001b[m\u001b[m        \u001b[31myob1969.txt\u001b[m\u001b[m        \u001b[31myob2003.txt\u001b[m\u001b[m\r\n",
        "\u001b[31myob1902.txt\u001b[m\u001b[m        \u001b[31myob1936.txt\u001b[m\u001b[m        \u001b[31myob1970.txt\u001b[m\u001b[m        \u001b[31myob2004.txt\u001b[m\u001b[m\r\n",
        "\u001b[31myob1903.txt\u001b[m\u001b[m        \u001b[31myob1937.txt\u001b[m\u001b[m        \u001b[31myob1971.txt\u001b[m\u001b[m        \u001b[31myob2005.txt\u001b[m\u001b[m\r\n",
        "\u001b[31myob1904.txt\u001b[m\u001b[m        \u001b[31myob1938.txt\u001b[m\u001b[m        \u001b[31myob1972.txt\u001b[m\u001b[m        \u001b[31myob2006.txt\u001b[m\u001b[m\r\n",
        "\u001b[31myob1905.txt\u001b[m\u001b[m        \u001b[31myob1939.txt\u001b[m\u001b[m        \u001b[31myob1973.txt\u001b[m\u001b[m        \u001b[31myob2007.txt\u001b[m\u001b[m\r\n",
        "\u001b[31myob1906.txt\u001b[m\u001b[m        \u001b[31myob1940.txt\u001b[m\u001b[m        \u001b[31myob1974.txt\u001b[m\u001b[m        \u001b[31myob2008.txt\u001b[m\u001b[m\r\n",
        "\u001b[31myob1907.txt\u001b[m\u001b[m        \u001b[31myob1941.txt\u001b[m\u001b[m        \u001b[31myob1975.txt\u001b[m\u001b[m        \u001b[31myob2009.txt\u001b[m\u001b[m\r\n",
        "\u001b[31myob1908.txt\u001b[m\u001b[m        \u001b[31myob1942.txt\u001b[m\u001b[m        \u001b[31myob1976.txt\u001b[m\u001b[m        \u001b[31myob2010.txt\u001b[m\u001b[m\r\n",
        "\u001b[31myob1909.txt\u001b[m\u001b[m        \u001b[31myob1943.txt\u001b[m\u001b[m        \u001b[31myob1977.txt\u001b[m\u001b[m        \u001b[31myob2011.txt\u001b[m\u001b[m\r\n",
        "\u001b[31myob1910.txt\u001b[m\u001b[m        \u001b[31myob1944.txt\u001b[m\u001b[m        \u001b[31myob1978.txt\u001b[m\u001b[m        \u001b[31myob2012.txt\u001b[m\u001b[m\r\n",
        "\u001b[31myob1911.txt\u001b[m\u001b[m        \u001b[31myob1945.txt\u001b[m\u001b[m        \u001b[31myob1979.txt\u001b[m\u001b[m        \u001b[31myob2013.txt\u001b[m\u001b[m\r\n",
        "\u001b[31myob1912.txt\u001b[m\u001b[m        \u001b[31myob1946.txt\u001b[m\u001b[m        \u001b[31myob1980.txt\u001b[m\u001b[m\r\n"
       ]
      }
     ],
     "prompt_number": 4
    },
    {
     "cell_type": "code",
     "collapsed": false,
     "input": [
      "for year in range(1880, 2014):\n",
      "    df = pd.read_csv('names/yob' + str(year) + '.txt', names=['name', 'sex', 'freq'])\n",
      "    df = df[df['name'] == 'Jace']\n",
      "    if not df.empty:\n",
      "        print year, df"
     ],
     "language": "python",
     "metadata": {},
     "outputs": [
      {
       "output_type": "stream",
       "stream": "stdout",
       "text": [
        "1936       name sex  freq\n",
        "8650  Jace   M     5\n",
        "1941       name sex  freq\n",
        "7647  Jace   M     9\n",
        "1944"
       ]
      },
      {
       "output_type": "stream",
       "stream": "stdout",
       "text": [
        "       name sex  freq\n",
        "8898  Jace   M     5\n",
        "1950"
       ]
      },
      {
       "output_type": "stream",
       "stream": "stdout",
       "text": [
        "        name sex  freq\n",
        "10041  Jace   M     5\n",
        "1952       name sex  freq\n",
        "9164  Jace   M     9\n",
        "1954       name sex  freq\n",
        "9664  Jace   M     8\n",
        "1955"
       ]
      },
      {
       "output_type": "stream",
       "stream": "stdout",
       "text": [
        "       name sex  freq\n",
        "9583  Jace   M     9\n",
        "1956       name sex  freq\n",
        "7811  Jace   M    66\n",
        "1957       name sex  freq\n",
        "7943  Jace   M    66\n",
        "1958       name sex  freq\n",
        "7796  Jace   M    93\n",
        "1959       name sex  freq\n",
        "8270  Jace   M    52\n",
        "1960"
       ]
      },
      {
       "output_type": "stream",
       "stream": "stdout",
       "text": [
        "       name sex  freq\n",
        "8532  Jace   M    43\n",
        "1961       name sex  freq\n",
        "8752  Jace   M    42\n",
        "1962       name sex  freq\n",
        "8883  Jace   M    36\n",
        "1963       name sex  freq\n",
        "9378  Jace   M    22\n",
        "1964       name sex  freq\n",
        "9435  Jace   M    24\n",
        "1965"
       ]
      },
      {
       "output_type": "stream",
       "stream": "stdout",
       "text": [
        "       name sex  freq\n",
        "9652  Jace   M    15\n",
        "1966       name sex  freq\n",
        "9529  Jace   M    17\n",
        "1967       name sex  freq\n",
        "9371  Jace   M    26\n",
        "1968       name sex  freq\n",
        "9540  Jace   M    33\n",
        "1969        name sex  freq\n",
        "10157  Jace   M    31"
       ]
      },
      {
       "output_type": "stream",
       "stream": "stdout",
       "text": [
        "\n",
        "1970        name sex  freq\n",
        "10978  Jace   M    28\n",
        "1971        name sex  freq\n",
        "11469  Jace   M    24\n",
        "1972        name sex  freq\n",
        "10971  Jace   M    41\n",
        "1973"
       ]
      },
      {
       "output_type": "stream",
       "stream": "stdout",
       "text": [
        "        name sex  freq\n",
        "11511  Jace   M    27\n",
        "1974        name sex  freq\n",
        "11378  Jace   M    52\n",
        "1975        name sex  freq\n",
        "12145  Jace   M    34\n",
        "1976"
       ]
      },
      {
       "output_type": "stream",
       "stream": "stdout",
       "text": [
        "        name sex  freq\n",
        "12337  Jace   M    39\n",
        "1977        name sex  freq\n",
        "12466  Jace   M    58\n",
        "1978        name sex  freq\n",
        "12642  Jace   M    57\n",
        "1979        name sex  freq\n",
        "12673  Jace   M   145"
       ]
      },
      {
       "output_type": "stream",
       "stream": "stdout",
       "text": [
        "\n",
        "1980        name sex  freq\n",
        "13103  Jace   M    90\n",
        "1981        name sex  freq\n",
        "13197  Jace   M    80\n",
        "1982        name sex  freq\n",
        "11093  Jace   F     5\n",
        "13169  Jace   M   109"
       ]
      },
      {
       "output_type": "stream",
       "stream": "stdout",
       "text": [
        "\n",
        "1983        name sex  freq\n",
        "12809  Jace   M   133\n",
        "1984        name sex  freq\n",
        "12903  Jace   M   140\n",
        "1985"
       ]
      },
      {
       "output_type": "stream",
       "stream": "stdout",
       "text": [
        "        name sex  freq\n",
        "13163  Jace   M   176\n",
        "1986        name sex  freq\n",
        "9986   Jace   F     6\n",
        "13431  Jace   M   210\n",
        "1987        name sex  freq\n",
        "9142   Jace   F     7\n",
        "13866  Jace   M   217\n",
        "1988"
       ]
      },
      {
       "output_type": "stream",
       "stream": "stdout",
       "text": [
        "        name sex  freq\n",
        "9623   Jace   F     7\n",
        "14500  Jace   M   228\n",
        "1989        name sex  freq\n",
        "15141  Jace   M   264\n",
        "1990        name sex  freq\n",
        "13798  Jace   F     5\n",
        "15779  Jace   M   333\n",
        "1991"
       ]
      },
      {
       "output_type": "stream",
       "stream": "stdout",
       "text": [
        "        name sex  freq\n",
        "8868   Jace   F     9\n",
        "16018  Jace   M   331\n",
        "1992        name sex  freq\n",
        "9814   Jace   F     8\n",
        "16150  Jace   M   343\n",
        "1993        name sex  freq\n",
        "16348  Jace   M   333\n",
        "1994"
       ]
      },
      {
       "output_type": "stream",
       "stream": "stdout",
       "text": [
        "        name sex  freq\n",
        "14250  Jace   F     5\n",
        "16320  Jace   M   326\n",
        "1995        name sex  freq\n",
        "7713   Jace   F    11\n",
        "16275  Jace   M   376\n",
        "1996        name sex  freq\n",
        "7784   Jace   F    11\n",
        "16353  Jace   M   468\n",
        "1997"
       ]
      },
      {
       "output_type": "stream",
       "stream": "stdout",
       "text": [
        "        name sex  freq\n",
        "5713   Jace   F    17\n",
        "16561  Jace   M   568\n",
        "1998        name sex  freq\n",
        "4170   Jace   F    27\n",
        "16971  Jace   M   667\n",
        "1999"
       ]
      },
      {
       "output_type": "stream",
       "stream": "stdout",
       "text": [
        "        name sex  freq\n",
        "4925   Jace   F    22\n",
        "17273  Jace   M   788\n",
        "2000        name sex  freq\n",
        "4845   Jace   F    24\n",
        "17961  Jace   M   937\n",
        "2001"
       ]
      },
      {
       "output_type": "stream",
       "stream": "stdout",
       "text": [
        "        name sex  freq\n",
        "4247   Jace   F    29\n",
        "18264  Jace   M   976\n",
        "2002        name sex  freq\n",
        "4676   Jace   F    26\n",
        "18358  Jace   M  1070\n",
        "2003"
       ]
      },
      {
       "output_type": "stream",
       "stream": "stdout",
       "text": [
        "        name sex  freq\n",
        "4454   Jace   F    29\n",
        "18670  Jace   M  1328\n",
        "2004        name sex  freq\n",
        "4531   Jace   F    30\n",
        "19044  Jace   M  1487\n",
        "2005"
       ]
      },
      {
       "output_type": "stream",
       "stream": "stdout",
       "text": [
        "        name sex  freq\n",
        "5003   Jace   F    26\n",
        "19378  Jace   M  1796\n",
        "2006        name sex  freq\n",
        "4719   Jace   F    30\n",
        "20226  Jace   M  2138\n",
        "2007"
       ]
      },
      {
       "output_type": "stream",
       "stream": "stdout",
       "text": [
        "        name sex  freq\n",
        "6656   Jace   F    20\n",
        "20741  Jace   M  2030\n",
        "2008        name sex  freq\n",
        "6891   Jace   F    19\n",
        "20613  Jace   M  2190\n",
        "2009"
       ]
      },
      {
       "output_type": "stream",
       "stream": "stdout",
       "text": [
        "        name sex  freq\n",
        "5127   Jace   F    28\n",
        "20322  Jace   M  2337\n",
        "2010        name sex  freq\n",
        "5676   Jace   F    24\n",
        "19936  Jace   M  2672\n",
        "2011"
       ]
      },
      {
       "output_type": "stream",
       "stream": "stdout",
       "text": [
        "        name sex  freq\n",
        "3941   Jace   F    38\n",
        "19638  Jace   M  3713\n",
        "2012        name sex  freq\n",
        "4147   Jace   F    36\n",
        "19536  Jace   M  4692\n",
        "2013"
       ]
      },
      {
       "output_type": "stream",
       "stream": "stdout",
       "text": [
        "        name sex  freq\n",
        "3509   Jace   F    44\n",
        "19179  Jace   M  6341\n"
       ]
      }
     ],
     "prompt_number": 52
    },
    {
     "cell_type": "code",
     "collapsed": false,
     "input": [
      "df.columns"
     ],
     "language": "python",
     "metadata": {},
     "outputs": [
      {
       "metadata": {},
       "output_type": "pyout",
       "prompt_number": 37,
       "text": [
        "Index([u'name', u'sex', u'freq'], dtype='object')"
       ]
      }
     ],
     "prompt_number": 37
    },
    {
     "cell_type": "code",
     "collapsed": false,
     "input": [
      "df.shape"
     ],
     "language": "python",
     "metadata": {},
     "outputs": [
      {
       "metadata": {},
       "output_type": "pyout",
       "prompt_number": 38,
       "text": [
        "(2000, 3)"
       ]
      }
     ],
     "prompt_number": 38
    },
    {
     "cell_type": "code",
     "collapsed": false,
     "input": [
      "df[df['name'] == 'J']"
     ],
     "language": "python",
     "metadata": {},
     "outputs": [
      {
       "html": [
        "<div style=\"max-height:1000px;max-width:1500px;overflow:auto;\">\n",
        "<table border=\"1\" class=\"dataframe\">\n",
        "  <thead>\n",
        "    <tr style=\"text-align: right;\">\n",
        "      <th></th>\n",
        "      <th>name</th>\n",
        "      <th>sex</th>\n",
        "      <th>freq</th>\n",
        "    </tr>\n",
        "  </thead>\n",
        "  <tbody>\n",
        "  </tbody>\n",
        "</table>\n",
        "</div>"
       ],
       "metadata": {},
       "output_type": "pyout",
       "prompt_number": 44,
       "text": [
        "Empty DataFrame\n",
        "Columns: [name, sex, freq]\n",
        "Index: []"
       ]
      }
     ],
     "prompt_number": 44
    }
   ],
   "metadata": {}
  }
 ]
}