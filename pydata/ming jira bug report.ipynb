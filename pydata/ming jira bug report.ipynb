{
 "metadata": {
  "name": "",
  "signature": "sha256:b429145dc275298be777436b3aa44c6cba4c2e4b6954f9e8ba26aa96c045cb88"
 },
 "nbformat": 3,
 "nbformat_minor": 0,
 "worksheets": [
  {
   "cells": [
    {
     "cell_type": "code",
     "collapsed": false,
     "input": [
      "import pandas as pd\n",
      "\n",
      "from pandas import DataFrame, Series\n",
      "\n",
      "import matplotlib\n",
      "\n",
      "%matplotlib inline"
     ],
     "language": "python",
     "metadata": {},
     "outputs": [],
     "prompt_number": 5
    },
    {
     "cell_type": "code",
     "collapsed": false,
     "input": [
      "def deprecation_related(text):\n",
      "    keywords = [\"deprecated\", \"deprecation\", \"deprecate\"]\n",
      "    return any(keyword in text.lower() for keyword in keywords)\n",
      "def BI_related(text):\n",
      "    keywords = [\"break\", \"compatibility\", \"incompatibility\", \"backwards\", \"compatible\"]\n",
      "    return any(keyword in text.lower() for keyword in keywords)"
     ],
     "language": "python",
     "metadata": {},
     "outputs": [],
     "prompt_number": 67
    },
    {
     "cell_type": "code",
     "collapsed": false,
     "input": [
      "!ls"
     ],
     "language": "python",
     "metadata": {},
     "outputs": [
      {
       "output_type": "stream",
       "stream": "stdout",
       "text": [
        "dbcp_bug.xls               ming jira bug report.ipynb\r\n",
        "midterm.ipynb              mining github.ipynb\r\n",
        "midterm_all.csv\r\n"
       ]
      }
     ],
     "prompt_number": 4
    },
    {
     "cell_type": "code",
     "collapsed": false,
     "input": [
      "dbcp_bug = pd.read_html('dbcp_bug.xls')"
     ],
     "language": "python",
     "metadata": {},
     "outputs": [],
     "prompt_number": 51
    },
    {
     "cell_type": "code",
     "collapsed": false,
     "input": [
      "!open dbcp_bug.xls"
     ],
     "language": "python",
     "metadata": {},
     "outputs": [],
     "prompt_number": 23
    },
    {
     "cell_type": "code",
     "collapsed": false,
     "input": [
      "len(dbcp_bug)"
     ],
     "language": "python",
     "metadata": {},
     "outputs": [
      {
       "metadata": {},
       "output_type": "pyout",
       "prompt_number": 19,
       "text": [
        "3"
       ]
      }
     ],
     "prompt_number": 19
    },
    {
     "cell_type": "code",
     "collapsed": false,
     "input": [
      "dbcp_df = dbcp_bug[1]"
     ],
     "language": "python",
     "metadata": {},
     "outputs": [],
     "prompt_number": 41
    },
    {
     "cell_type": "code",
     "collapsed": false,
     "input": [
      "dbcp_df = dbcp_df.rename(columns=lambda x: x.strip().lower())"
     ],
     "language": "python",
     "metadata": {},
     "outputs": [],
     "prompt_number": 80
    },
    {
     "cell_type": "code",
     "collapsed": false,
     "input": [
      "dbcp_df.columns.values"
     ],
     "language": "python",
     "metadata": {},
     "outputs": [
      {
       "metadata": {},
       "output_type": "pyout",
       "prompt_number": 81,
       "text": [
        "array([u'project', u'key', u'summary', u'issue type', u'status',\n",
        "       u'priority', u'resolution', u'assignee', u'reporter', u'creator',\n",
        "       u'created', u'last viewed', u'updated', u'resolved',\n",
        "       u'affects version/s', u'fix version/s', u'component/s', u'due date',\n",
        "       u'votes', u'watchers', u'images', u'original estimate',\n",
        "       u'remaining estimate', u'time spent', u'work ratio', u'sub-tasks',\n",
        "       u'linked issues', u'environment', u'description', u'security level',\n",
        "       u'progress', u'\\u03c3 progress', u'\\u03c3 time spent',\n",
        "       u'\\u03c3 remaining estimate', u'\\u03c3 original estimate',\n",
        "       u'labels', u'business value', u'rank', u'date of first response',\n",
        "       u'epic status', u'epic name', u'rank (obsolete)', u'sprint',\n",
        "       u'epic colour', u'epic link', u'global rank', u'cloudstack-cvss',\n",
        "       u'attachment count', u'bugzilla id', u'machine readable info',\n",
        "       u'epic/theme', u'flagged'], dtype=object)"
       ]
      }
     ],
     "prompt_number": 81
    },
    {
     "cell_type": "code",
     "collapsed": false,
     "input": [
      "len(dbcp_df['Description'])"
     ],
     "language": "python",
     "metadata": {},
     "outputs": [
      {
       "metadata": {},
       "output_type": "pyout",
       "prompt_number": 66,
       "text": [
        "100"
       ]
      }
     ],
     "prompt_number": 66
    },
    {
     "cell_type": "code",
     "collapsed": false,
     "input": [
      "deprecated_issues = []\n",
      "BI_issues = []"
     ],
     "language": "python",
     "metadata": {},
     "outputs": [],
     "prompt_number": 85
    },
    {
     "cell_type": "code",
     "collapsed": false,
     "input": [
      "for index, row in dbcp_df.iterrows():\n",
      "    if deprecation_related(row['summary'] + row['description']):\n",
      "        deprecated_issues.append(row['key'])\n",
      "    if BI_related(row['summary'] + row['description']):\n",
      "        BI_issues.append(row['key'])"
     ],
     "language": "python",
     "metadata": {},
     "outputs": [],
     "prompt_number": 86
    },
    {
     "cell_type": "code",
     "collapsed": false,
     "input": [
      "print len(deprecated_issues)\n",
      "print len(BI_issues)"
     ],
     "language": "python",
     "metadata": {},
     "outputs": [
      {
       "output_type": "stream",
       "stream": "stdout",
       "text": [
        "1\n",
        "3\n"
       ]
      }
     ],
     "prompt_number": 87
    },
    {
     "cell_type": "code",
     "collapsed": false,
     "input": [
      "print deprecated_issues\n",
      "print BI_issues"
     ],
     "language": "python",
     "metadata": {},
     "outputs": [
      {
       "output_type": "stream",
       "stream": "stdout",
       "text": [
        "[u'DBCP-374']\n",
        "[u'DBCP-401', u'DBCP-400', u'DBCP-354']\n"
       ]
      }
     ],
     "prompt_number": 88
    },
    {
     "cell_type": "code",
     "collapsed": false,
     "input": [],
     "language": "python",
     "metadata": {},
     "outputs": []
    }
   ],
   "metadata": {}
  }
 ]
}