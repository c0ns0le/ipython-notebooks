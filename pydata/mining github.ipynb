{
 "metadata": {
  "name": "",
  "signature": "sha256:a089b10034f10d76c871c7c61c3cac4c2481b23396ed72e10541b3d8aec68dd1"
 },
 "nbformat": 3,
 "nbformat_minor": 0,
 "worksheets": [
  {
   "cells": [
    {
     "cell_type": "code",
     "collapsed": false,
     "input": [
      "import requests\n",
      "from getpass import getpass\n",
      "import json"
     ],
     "language": "python",
     "metadata": {},
     "outputs": [],
     "prompt_number": 8
    },
    {
     "cell_type": "code",
     "collapsed": false,
     "input": [
      "\n",
      "username = 'gnijuohz' # Your GitHub username\n",
      "password = '' # Your GitHub password\n",
      "\n",
      "# Note that credentials will be transmitted over a secure SSL connection\n",
      "url = 'https://api.github.com/authorizations'\n",
      "note = 'mining ideas'\n",
      "post_data = {'scopes':['repo'],'note': note }\n",
      "\n",
      "response = requests.post(\n",
      "    url,\n",
      "    auth = (username, password),\n",
      "    data = json.dumps(post_data),\n",
      "    )   \n",
      "\n",
      "print \"API response:\", response.text\n",
      "print\n",
      "AUTH_TOKEN = response.json()['token']\n",
      "print \"Your OAuth token is\", response.json()['token']"
     ],
     "language": "python",
     "metadata": {},
     "outputs": []
    },
    {
     "cell_type": "code",
     "collapsed": false,
     "input": [
      "libraries = {'junit': \"https://api.github.com/repos/junit-team/junit/issues\",\n",
      "             'jackson-core': 'https://api.github.com/repos/FasterXML/jackson-core/issues'}"
     ],
     "language": "python",
     "metadata": {},
     "outputs": [],
     "prompt_number": 3
    },
    {
     "cell_type": "code",
     "collapsed": false,
     "input": [
      "def deprecation_related(text):\n",
      "    keywords = [\"deprecated\", \"deprecation\", \"deprecate\"]\n",
      "    return any(keyword in text.lower() for keyword in keywords)"
     ],
     "language": "python",
     "metadata": {},
     "outputs": [],
     "prompt_number": 4
    },
    {
     "cell_type": "code",
     "collapsed": false,
     "input": [
      "def BI_related(text):\n",
      "    keywords = [\"break\", \"compatibility\", \"incompatibility\", \"backwards\", \"compatible\"]\n",
      "    return any(keyword in text.lower() for keyword in keywords)"
     ],
     "language": "python",
     "metadata": {},
     "outputs": [],
     "prompt_number": 5
    },
    {
     "cell_type": "code",
     "collapsed": false,
     "input": [
      "def getDeprecatedAndBI(library):\n",
      "    params = {'state':'all', 'per_page': 100}\n",
      "    response = requests.get(libraries[library], params=params)\n",
      "    issues = response.json()\n",
      "    deprecation_issues = []\n",
      "    BI_issues = []\n",
      "    for issue in response.json():\n",
      "        text = issue['title'] if 'title' in issue else \"\" + \" \" + issue['body'] if 'body' in issue else \"\"\n",
      "        if deprecation_related(text):\n",
      "            deprecation_issues.append(issue)\n",
      "        if BI_related(text):\n",
      "            BI_issues.append(issue)\n",
      "    while \"next\" in response.links:\n",
      "        url = response.links['next']['url']\n",
      "        response = requests.get(url)\n",
      "        for issue in response.json():\n",
      "            text = issue['title'] + \" \" + issue['body']\n",
      "            if deprecation_related(text):\n",
      "                deprecation_issues.append(issue)\n",
      "            if BI_related(text):\n",
      "                BI_issues.append(issue)\n",
      "    print \"There are\", len(deprecation_issues), \"deprecation related problems\"\n",
      "    for deprecation in sorted(deprecation_issues, key=lambda x: x['html_url']):\n",
      "        print deprecation['html_url']\n",
      "    print \"There are\", len(BI_issues), \"BI related issues\"\n",
      "    for bi_issue in sorted(BI_issues, key=lambda x: x['html_url']):\n",
      "        print bi_issue['html_url']"
     ],
     "language": "python",
     "metadata": {},
     "outputs": [],
     "prompt_number": 6
    },
    {
     "cell_type": "code",
     "collapsed": false,
     "input": [
      "getDeprecatedAndBI(\"jackson-core\")"
     ],
     "language": "python",
     "metadata": {},
     "outputs": [
      {
       "output_type": "stream",
       "stream": "stdout",
       "text": [
        "There are 1 deprecation related problems\n",
        "https://github.com/FasterXML/jackson-core/issues/25\n",
        "There are 7 BI related issues\n",
        "https://github.com/FasterXML/jackson-core/issues/139\n",
        "https://github.com/FasterXML/jackson-core/issues/142\n",
        "https://github.com/FasterXML/jackson-core/issues/178\n",
        "https://github.com/FasterXML/jackson-core/issues/76\n",
        "https://github.com/FasterXML/jackson-core/issues/83\n",
        "https://github.com/FasterXML/jackson-core/pull/124\n",
        "https://github.com/FasterXML/jackson-core/pull/126\n"
       ]
      }
     ],
     "prompt_number": 10
    },
    {
     "cell_type": "code",
     "collapsed": false,
     "input": [
      "url = \"https://api.github.com/repos/junit-team/junit/issues\"\n",
      "\n",
      "#url = \"https://api.github.com/repositories/106310/issues?per_page=100&state=all&page=11\"\n",
      "\n",
      "params = {'state':'all', 'per_page': 100}\n",
      "\n",
      "response = requests.get(url, params=params)\n",
      "\n",
      "issues = response.json()\n",
      "\n",
      "print \"There are \", len(issues), \"in total\""
     ],
     "language": "python",
     "metadata": {},
     "outputs": [
      {
       "output_type": "stream",
       "stream": "stdout",
       "text": [
        "There are  100 in total\n"
       ]
      }
     ],
     "prompt_number": 42
    },
    {
     "cell_type": "code",
     "collapsed": false,
     "input": [
      "response.links"
     ],
     "language": "python",
     "metadata": {},
     "outputs": [
      {
       "metadata": {},
       "output_type": "pyout",
       "prompt_number": 27,
       "text": [
        "{'last': {'rel': 'last',\n",
        "  'url': 'https://api.github.com/repositories/106310/issues?per_page=100&state=all&page=11'},\n",
        " 'next': {'rel': 'next',\n",
        "  'url': 'https://api.github.com/repositories/106310/issues?per_page=100&state=all&page=2'}}"
       ]
      }
     ],
     "prompt_number": 27
    },
    {
     "cell_type": "code",
     "collapsed": false,
     "input": [
      "response = response.json()"
     ],
     "language": "python",
     "metadata": {},
     "outputs": [
      {
       "ename": "NameError",
       "evalue": "name 'response' is not defined",
       "output_type": "pyerr",
       "traceback": [
        "\u001b[0;31m---------------------------------------------------------------------------\u001b[0m\n\u001b[0;31mNameError\u001b[0m                                 Traceback (most recent call last)",
        "\u001b[0;32m<ipython-input-9-11e1c4591a8e>\u001b[0m in \u001b[0;36m<module>\u001b[0;34m()\u001b[0m\n\u001b[0;32m----> 1\u001b[0;31m \u001b[0mresponse\u001b[0m \u001b[0;34m=\u001b[0m \u001b[0mresponse\u001b[0m\u001b[0;34m.\u001b[0m\u001b[0mjson\u001b[0m\u001b[0;34m(\u001b[0m\u001b[0;34m)\u001b[0m\u001b[0;34m\u001b[0m\u001b[0m\n\u001b[0m",
        "\u001b[0;31mNameError\u001b[0m: name 'response' is not defined"
       ]
      }
     ],
     "prompt_number": 9
    },
    {
     "cell_type": "code",
     "collapsed": false,
     "input": [
      "response.links['last']['url'].split('=')[-1]"
     ],
     "language": "python",
     "metadata": {},
     "outputs": [
      {
       "metadata": {},
       "output_type": "pyout",
       "prompt_number": 21,
       "text": [
        "'11'"
       ]
      }
     ],
     "prompt_number": 21
    },
    {
     "cell_type": "code",
     "collapsed": false,
     "input": [
      "pages = int(response.links['last']['url'].split('=')[-1])"
     ],
     "language": "python",
     "metadata": {},
     "outputs": [],
     "prompt_number": 22
    },
    {
     "cell_type": "code",
     "collapsed": false,
     "input": [
      "deprecation_issues = []\n",
      "BI_issues = []"
     ],
     "language": "python",
     "metadata": {},
     "outputs": [],
     "prompt_number": 43
    },
    {
     "cell_type": "code",
     "collapsed": false,
     "input": [
      "def deprecation_related(text):\n",
      "    keywords = [\"deprecated\", \"deprecation\", \"deprecate\"]\n",
      "    return any(keyword in text.lower() for keyword in keywords)"
     ],
     "language": "python",
     "metadata": {},
     "outputs": [],
     "prompt_number": 31
    },
    {
     "cell_type": "code",
     "collapsed": false,
     "input": [
      "def BI_related(text):\n",
      "    keywords = [\"binary\", \"compatibility\", \"incompatibility\", \"backwards\", \"compatible\"]\n",
      "    return any(keyword in text.lower() for keyword in keywords)"
     ],
     "language": "python",
     "metadata": {},
     "outputs": [],
     "prompt_number": 32
    },
    {
     "cell_type": "code",
     "collapsed": false,
     "input": [
      "for issue in response.json():\n",
      "    text = issue['title'] if 'title' in issue else \"\" + \" \" + issue['body'] if 'body' in issue else \"\"\n",
      "    if deprecation_related(text):\n",
      "        deprecation_issues.append(issue)\n",
      "    if BI_related(text):\n",
      "        BI_issues.append(issue)"
     ],
     "language": "python",
     "metadata": {},
     "outputs": [],
     "prompt_number": 44
    },
    {
     "cell_type": "code",
     "collapsed": false,
     "input": [
      "response.links"
     ],
     "language": "python",
     "metadata": {},
     "outputs": [
      {
       "metadata": {},
       "output_type": "pyout",
       "prompt_number": 41,
       "text": [
        "{'first': {'rel': 'first',\n",
        "  'url': 'https://api.github.com/repositories/106310/issues?per_page=100&state=all&page=1'},\n",
        " 'last': {'rel': 'last',\n",
        "  'url': 'https://api.github.com/repositories/106310/issues?per_page=100&state=all&page=11'},\n",
        " 'next': {'rel': 'next',\n",
        "  'url': 'https://api.github.com/repositories/106310/issues?per_page=100&state=all&page=11'},\n",
        " 'prev': {'rel': 'prev',\n",
        "  'url': 'https://api.github.com/repositories/106310/issues?per_page=100&state=all&page=9'}}"
       ]
      }
     ],
     "prompt_number": 41
    },
    {
     "cell_type": "code",
     "collapsed": false,
     "input": [
      "print len(deprecation_issues)\n",
      "print len(BI_issues)"
     ],
     "language": "python",
     "metadata": {},
     "outputs": [
      {
       "output_type": "stream",
       "stream": "stdout",
       "text": [
        "9\n",
        "9\n"
       ]
      }
     ],
     "prompt_number": 38
    },
    {
     "cell_type": "code",
     "collapsed": false,
     "input": [
      "while \"next\" in response.links:\n",
      "    url = response.links['next']['url']\n",
      "    response = requests.get(url)\n",
      "    print response.links\n",
      "    for issue in response.json():\n",
      "        text = issue['title'] + \" \" + issue['body']\n",
      "        if deprecation_related(text):\n",
      "            deprecation_issues.append(issue)\n",
      "        if BI_related(text):\n",
      "            BI_issues.append(issue)"
     ],
     "language": "python",
     "metadata": {},
     "outputs": [
      {
       "output_type": "stream",
       "stream": "stdout",
       "text": [
        "{'prev': {'url': 'https://api.github.com/repositories/106310/issues?per_page=100&state=all&page=1', 'rel': 'prev'}, 'first': {'url': 'https://api.github.com/repositories/106310/issues?per_page=100&state=all&page=1', 'rel': 'first'}, 'last': {'url': 'https://api.github.com/repositories/106310/issues?per_page=100&state=all&page=11', 'rel': 'last'}, 'next': {'url': 'https://api.github.com/repositories/106310/issues?per_page=100&state=all&page=3', 'rel': 'next'}}\n",
        "{'prev': {'url': 'https://api.github.com/repositories/106310/issues?per_page=100&state=all&page=2', 'rel': 'prev'}, 'first': {'url': 'https://api.github.com/repositories/106310/issues?per_page=100&state=all&page=1', 'rel': 'first'}, 'last': {'url': 'https://api.github.com/repositories/106310/issues?per_page=100&state=all&page=11', 'rel': 'last'}, 'next': {'url': 'https://api.github.com/repositories/106310/issues?per_page=100&state=all&page=4', 'rel': 'next'}}"
       ]
      },
      {
       "output_type": "stream",
       "stream": "stdout",
       "text": [
        "\n",
        "{'prev': {'url': 'https://api.github.com/repositories/106310/issues?per_page=100&state=all&page=3', 'rel': 'prev'}, 'first': {'url': 'https://api.github.com/repositories/106310/issues?per_page=100&state=all&page=1', 'rel': 'first'}, 'last': {'url': 'https://api.github.com/repositories/106310/issues?per_page=100&state=all&page=11', 'rel': 'last'}, 'next': {'url': 'https://api.github.com/repositories/106310/issues?per_page=100&state=all&page=5', 'rel': 'next'}}"
       ]
      },
      {
       "output_type": "stream",
       "stream": "stdout",
       "text": [
        "\n",
        "{'prev': {'url': 'https://api.github.com/repositories/106310/issues?per_page=100&state=all&page=4', 'rel': 'prev'}, 'first': {'url': 'https://api.github.com/repositories/106310/issues?per_page=100&state=all&page=1', 'rel': 'first'}, 'last': {'url': 'https://api.github.com/repositories/106310/issues?per_page=100&state=all&page=11', 'rel': 'last'}, 'next': {'url': 'https://api.github.com/repositories/106310/issues?per_page=100&state=all&page=6', 'rel': 'next'}}"
       ]
      },
      {
       "output_type": "stream",
       "stream": "stdout",
       "text": [
        "\n",
        "{'prev': {'url': 'https://api.github.com/repositories/106310/issues?per_page=100&state=all&page=5', 'rel': 'prev'}, 'first': {'url': 'https://api.github.com/repositories/106310/issues?per_page=100&state=all&page=1', 'rel': 'first'}, 'last': {'url': 'https://api.github.com/repositories/106310/issues?per_page=100&state=all&page=11', 'rel': 'last'}, 'next': {'url': 'https://api.github.com/repositories/106310/issues?per_page=100&state=all&page=7', 'rel': 'next'}}"
       ]
      },
      {
       "output_type": "stream",
       "stream": "stdout",
       "text": [
        "\n",
        "{'prev': {'url': 'https://api.github.com/repositories/106310/issues?per_page=100&state=all&page=6', 'rel': 'prev'}, 'first': {'url': 'https://api.github.com/repositories/106310/issues?per_page=100&state=all&page=1', 'rel': 'first'}, 'last': {'url': 'https://api.github.com/repositories/106310/issues?per_page=100&state=all&page=11', 'rel': 'last'}, 'next': {'url': 'https://api.github.com/repositories/106310/issues?per_page=100&state=all&page=8', 'rel': 'next'}}"
       ]
      },
      {
       "output_type": "stream",
       "stream": "stdout",
       "text": [
        "\n",
        "{'prev': {'url': 'https://api.github.com/repositories/106310/issues?per_page=100&state=all&page=7', 'rel': 'prev'}, 'first': {'url': 'https://api.github.com/repositories/106310/issues?per_page=100&state=all&page=1', 'rel': 'first'}, 'last': {'url': 'https://api.github.com/repositories/106310/issues?per_page=100&state=all&page=11', 'rel': 'last'}, 'next': {'url': 'https://api.github.com/repositories/106310/issues?per_page=100&state=all&page=9', 'rel': 'next'}}"
       ]
      },
      {
       "output_type": "stream",
       "stream": "stdout",
       "text": [
        "\n",
        "{'prev': {'url': 'https://api.github.com/repositories/106310/issues?per_page=100&state=all&page=8', 'rel': 'prev'}, 'first': {'url': 'https://api.github.com/repositories/106310/issues?per_page=100&state=all&page=1', 'rel': 'first'}, 'last': {'url': 'https://api.github.com/repositories/106310/issues?per_page=100&state=all&page=11', 'rel': 'last'}, 'next': {'url': 'https://api.github.com/repositories/106310/issues?per_page=100&state=all&page=10', 'rel': 'next'}}"
       ]
      },
      {
       "output_type": "stream",
       "stream": "stdout",
       "text": [
        "\n",
        "{'prev': {'url': 'https://api.github.com/repositories/106310/issues?per_page=100&state=all&page=9', 'rel': 'prev'}, 'first': {'url': 'https://api.github.com/repositories/106310/issues?per_page=100&state=all&page=1', 'rel': 'first'}, 'last': {'url': 'https://api.github.com/repositories/106310/issues?per_page=100&state=all&page=11', 'rel': 'last'}, 'next': {'url': 'https://api.github.com/repositories/106310/issues?per_page=100&state=all&page=11', 'rel': 'next'}}"
       ]
      },
      {
       "output_type": "stream",
       "stream": "stdout",
       "text": [
        "\n",
        "{'prev': {'url': 'https://api.github.com/repositories/106310/issues?per_page=100&state=all&page=10', 'rel': 'prev'}, 'first': {'url': 'https://api.github.com/repositories/106310/issues?per_page=100&state=all&page=1', 'rel': 'first'}}"
       ]
      },
      {
       "output_type": "stream",
       "stream": "stdout",
       "text": [
        "\n"
       ]
      }
     ],
     "prompt_number": 45
    },
    {
     "cell_type": "code",
     "collapsed": false,
     "input": [
      "len(deprecation_issues)"
     ],
     "language": "python",
     "metadata": {},
     "outputs": [
      {
       "metadata": {},
       "output_type": "pyout",
       "prompt_number": 46,
       "text": [
        "36"
       ]
      }
     ],
     "prompt_number": 46
    },
    {
     "cell_type": "code",
     "collapsed": false,
     "input": [
      "len(BI_issues)"
     ],
     "language": "python",
     "metadata": {},
     "outputs": [
      {
       "metadata": {},
       "output_type": "pyout",
       "prompt_number": 47,
       "text": [
        "39"
       ]
      }
     ],
     "prompt_number": 47
    },
    {
     "cell_type": "code",
     "collapsed": false,
     "input": [
      "for deprecation in sorted(deprecation_issues):\n",
      "    print deprecation['html_url']"
     ],
     "language": "python",
     "metadata": {},
     "outputs": [
      {
       "output_type": "stream",
       "stream": "stdout",
       "text": [
        "https://github.com/junit-team/junit/issues/198\n",
        "https://github.com/junit-team/junit/issues/206\n",
        "https://github.com/junit-team/junit/issues/350\n",
        "https://github.com/junit-team/junit/issues/689\n",
        "https://github.com/junit-team/junit/issues/1052\n",
        "https://github.com/junit-team/junit/issues/129\n",
        "https://github.com/junit-team/junit/issues/708\n",
        "https://github.com/junit-team/junit/issues/864\n",
        "https://github.com/junit-team/junit/issues/589\n",
        "https://github.com/junit-team/junit/issues/158\n",
        "https://github.com/junit-team/junit/issues/157\n",
        "https://github.com/junit-team/junit/issues/855\n",
        "https://github.com/junit-team/junit/issues/482\n",
        "https://github.com/junit-team/junit/issues/861\n",
        "https://github.com/junit-team/junit/issues/534\n",
        "https://github.com/junit-team/junit/pull/404\n",
        "https://github.com/junit-team/junit/pull/928\n",
        "https://github.com/junit-team/junit/pull/374\n",
        "https://github.com/junit-team/junit/pull/649\n",
        "https://github.com/junit-team/junit/pull/890\n",
        "https://github.com/junit-team/junit/pull/1048\n",
        "https://github.com/junit-team/junit/pull/678\n",
        "https://github.com/junit-team/junit/pull/353\n",
        "https://github.com/junit-team/junit/pull/352\n",
        "https://github.com/junit-team/junit/pull/519\n",
        "https://github.com/junit-team/junit/pull/820\n",
        "https://github.com/junit-team/junit/pull/550\n",
        "https://github.com/junit-team/junit/pull/1047\n",
        "https://github.com/junit-team/junit/pull/437\n",
        "https://github.com/junit-team/junit/pull/977\n",
        "https://github.com/junit-team/junit/pull/988\n",
        "https://github.com/junit-team/junit/pull/153\n",
        "https://github.com/junit-team/junit/pull/544\n",
        "https://github.com/junit-team/junit/pull/865\n",
        "https://github.com/junit-team/junit/pull/862\n",
        "https://github.com/junit-team/junit/pull/814\n"
       ]
      }
     ],
     "prompt_number": 50
    },
    {
     "cell_type": "code",
     "collapsed": false,
     "input": [
      "for bi_issue in sorted(BI_issues, key=lambda x: x['html_url']):\n",
      "    print bi_issue['html_url']"
     ],
     "language": "python",
     "metadata": {},
     "outputs": [
      {
       "output_type": "stream",
       "stream": "stdout",
       "text": [
        "https://github.com/junit-team/junit/issues/1073\n",
        "https://github.com/junit-team/junit/issues/1079\n",
        "https://github.com/junit-team/junit/issues/1083\n",
        "https://github.com/junit-team/junit/issues/135\n",
        "https://github.com/junit-team/junit/issues/163\n",
        "https://github.com/junit-team/junit/issues/27\n",
        "https://github.com/junit-team/junit/issues/336\n",
        "https://github.com/junit-team/junit/issues/357\n",
        "https://github.com/junit-team/junit/issues/37\n",
        "https://github.com/junit-team/junit/issues/408\n",
        "https://github.com/junit-team/junit/issues/44\n",
        "https://github.com/junit-team/junit/issues/441\n",
        "https://github.com/junit-team/junit/issues/531\n",
        "https://github.com/junit-team/junit/issues/676\n",
        "https://github.com/junit-team/junit/issues/703\n",
        "https://github.com/junit-team/junit/issues/74\n",
        "https://github.com/junit-team/junit/issues/746\n",
        "https://github.com/junit-team/junit/issues/838\n",
        "https://github.com/junit-team/junit/pull/1000\n",
        "https://github.com/junit-team/junit/pull/1025\n",
        "https://github.com/junit-team/junit/pull/145\n",
        "https://github.com/junit-team/junit/pull/203\n",
        "https://github.com/junit-team/junit/pull/402\n",
        "https://github.com/junit-team/junit/pull/454\n",
        "https://github.com/junit-team/junit/pull/533\n",
        "https://github.com/junit-team/junit/pull/544\n",
        "https://github.com/junit-team/junit/pull/548\n",
        "https://github.com/junit-team/junit/pull/565\n",
        "https://github.com/junit-team/junit/pull/662\n",
        "https://github.com/junit-team/junit/pull/705\n",
        "https://github.com/junit-team/junit/pull/759\n",
        "https://github.com/junit-team/junit/pull/768\n",
        "https://github.com/junit-team/junit/pull/770\n",
        "https://github.com/junit-team/junit/pull/814\n",
        "https://github.com/junit-team/junit/pull/841\n",
        "https://github.com/junit-team/junit/pull/890\n",
        "https://github.com/junit-team/junit/pull/956\n",
        "https://github.com/junit-team/junit/pull/982\n",
        "https://github.com/junit-team/junit/pull/994\n"
       ]
      }
     ],
     "prompt_number": 54
    },
    {
     "cell_type": "code",
     "collapsed": false,
     "input": [],
     "language": "python",
     "metadata": {},
     "outputs": []
    }
   ],
   "metadata": {}
  }
 ]
}