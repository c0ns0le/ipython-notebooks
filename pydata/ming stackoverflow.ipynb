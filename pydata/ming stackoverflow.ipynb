{
 "metadata": {
  "name": "",
  "signature": "sha256:0cb4b78947f5bec24fb6de3f9652b7d158fda310c4cc06cbced72390520f9d62"
 },
 "nbformat": 3,
 "nbformat_minor": 0,
 "worksheets": [
  {
   "cells": [
    {
     "cell_type": "code",
     "collapsed": false,
     "input": [
      "# data from stackoverflow\n",
      "from lxml import etree"
     ],
     "language": "python",
     "metadata": {},
     "outputs": [],
     "prompt_number": 1
    },
    {
     "cell_type": "code",
     "collapsed": false,
     "input": [
      "so_site = \"http://stackoverflow.com/\""
     ],
     "language": "python",
     "metadata": {},
     "outputs": [],
     "prompt_number": 5
    },
    {
     "cell_type": "code",
     "collapsed": false,
     "input": [
      "def deprecation_related(text):\n",
      "    keywords = [\"deprecated\", \"deprecation\", \"deprecate\"]\n",
      "    return any(keyword in text.lower() for keyword in keywords)\n",
      "def BI_related(text):\n",
      "    keywords = [\"break\", \"compatibility\", \"incompatibility\", \"backwards\", \"compatible\"]\n",
      "    return any(keyword in text.lower() for keyword in keywords)"
     ],
     "language": "python",
     "metadata": {},
     "outputs": [],
     "prompt_number": 2
    },
    {
     "cell_type": "code",
     "collapsed": false,
     "input": [
      "def fast_iter(context, func, *args, **kwargs):\n",
      "    \"\"\"\n",
      "    http://lxml.de/parsing.html#modifying-the-tree\n",
      "    Based on Liza Daly's fast_iter\n",
      "    http://www.ibm.com/developerworks/xml/library/x-hiperfparse/\n",
      "    See also http://effbot.org/zone/element-iterparse.htm\n",
      "    \"\"\"\n",
      "    for event, elem in context:\n",
      "        func(elem, *args, **kwargs)\n",
      "        # It's safe to call clear() here because no descendants will be\n",
      "        # accessed\n",
      "        elem.clear()\n",
      "        # Also eliminate now-empty references from the root node to elem\n",
      "        for ancestor in elem.xpath('ancestor-or-self::*'):\n",
      "            while ancestor.getprevious() is not None:\n",
      "                del ancestor.getparent()[0]\n",
      "    del context\n",
      "\n",
      "\n",
      "def process_element(elem, site, deprecated_question, bi_question):\n",
      "    if elem.get('PostTypeId') == '1':\n",
      "        text = elem.get('Title') + \" \" + elem.get('Body')\n",
      "        if deprecation_related(text):\n",
      "            deprecated_question.write(elem.get('Id') + \",\" + so_site + \"questions/\" + elem.get('Id') + \"  \\n\")\n",
      "            print site_to_url[site] + \"questions/\" + elem.get('Id')\n",
      "        if BI_related(text):\n",
      "            bi_question.write(elem.get('Id') + \",\" + so_site + \"questions/\" + elem.get('Id') + \"  \\n\")\n",
      "            print site_to_url[site] + \"questions/\" + elem.get('Id')"
     ],
     "language": "python",
     "metadata": {},
     "outputs": [],
     "prompt_number": 4
    },
    {
     "cell_type": "code",
     "collapsed": false,
     "input": [
      "def getDeprecatedAndBI(library):\n",
      "    context = etree.iterparse(\"JIng/stackoverflow/stackoverflow/Posts.xml\", tag='row' )\n",
      "    with open('so_deprecated_questions.md', 'w+') as deprecated_question, open('so_bi_questions.md', 'w+') as bi_question:\n",
      "        fast_iter(context,process_element, deprecated_question, bi_question)"
     ],
     "language": "python",
     "metadata": {},
     "outputs": []
    },
    {
     "cell_type": "code",
     "collapsed": false,
     "input": [],
     "language": "python",
     "metadata": {},
     "outputs": []
    }
   ],
   "metadata": {}
  }
 ]
}