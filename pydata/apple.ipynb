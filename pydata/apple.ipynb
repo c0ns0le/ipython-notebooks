{
 "metadata": {
  "name": "",
  "signature": "sha256:f42583861ed91f723cdd85f82609fb5c2d182b633052d2180e8d76ee724ceb50"
 },
 "nbformat": 3,
 "nbformat_minor": 0,
 "worksheets": [
  {
   "cells": [
    {
     "cell_type": "code",
     "collapsed": false,
     "input": [
      "# data from stackoverflow\n",
      "import codecs\n",
      "from lxml import etree"
     ],
     "language": "python",
     "metadata": {},
     "outputs": [],
     "prompt_number": 6
    },
    {
     "cell_type": "code",
     "collapsed": false,
     "input": [
      "site_to_url = {\n",
      "\"apple\": u\"http://apple.stackexchange.com/\",\n",
      "\"unix\": u\"http://unix.stackexchange.com/\",\n",
      "\"stackoverflow\": u\"http://stackoverflow.com/\"\n",
      "}\n",
      "\n",
      "site_to_folder = {\n",
      "\"apple\": \"apple.stackexchange.com\",\n",
      "\"unix\": \"unix.stackexchange.com\",\n",
      "\"stackoverflow\": \"stackoverflow\"\n",
      "}"
     ],
     "language": "python",
     "metadata": {},
     "outputs": [],
     "prompt_number": 19
    },
    {
     "cell_type": "code",
     "collapsed": false,
     "input": [
      "def fast_iter(context, func, *args, **kwargs):\n",
      "    \"\"\"\n",
      "    http://lxml.de/parsing.html#modifying-the-tree\n",
      "    Based on Liza Daly's fast_iter\n",
      "    http://www.ibm.com/developerworks/xml/library/x-hiperfparse/\n",
      "    See also http://effbot.org/zone/element-iterparse.htm\n",
      "    \"\"\"\n",
      "    questions = []\n",
      "    for event, elem in context:\n",
      "        func(elem, questions, *args, **kwargs)\n",
      "        # It's safe to call clear() here because no descendants will be\n",
      "        # accessed\n",
      "        elem.clear()\n",
      "        # Also eliminate now-empty references from the root node to elem\n",
      "        for ancestor in elem.xpath('ancestor-or-self::*'):\n",
      "            while ancestor.getprevious() is not None:\n",
      "                del ancestor.getparent()[0]\n",
      "    del context\n",
      "    questions.sort(reverse=True)\n",
      "    questions = [unicode(str(i+1)) + u'. ' + item[1] for i, item in enumerate(questions)]\n",
      "    return questions"
     ],
     "language": "python",
     "metadata": {},
     "outputs": [],
     "prompt_number": 8
    },
    {
     "cell_type": "code",
     "collapsed": false,
     "input": [
      "def process_element(elem, questions, site, votes):\n",
      "    if elem.get('PostTypeId') == '1' and int(elem.get('Score')) >= votes:\n",
      "        line = u\"[\" + unicode(elem.get('Title')) + u\"](\" + site_to_url[site]\n",
      "        line += u\"questions/\" + elem.get(\"Id\") + u\") (\" + elem.get('Score') + u' upvotes)  \\n'\n",
      "        questions.append([int(elem.get('Score')), line])"
     ],
     "language": "python",
     "metadata": {},
     "outputs": [],
     "prompt_number": 14
    },
    {
     "cell_type": "code",
     "collapsed": false,
     "input": [
      "def process_element_by_tag(elem, questions, site, tag, votes):\n",
      "    if elem.get('PostTypeId') == '1' and tag in elem.get('Tags') and int(elem.get('Score')) >= votes:\n",
      "        line = u\"[\" + unicode(elem.get('Title')) + u\"](\" + site_to_url[site]\n",
      "        line += u\"questions/\" + elem.get(\"Id\") + u\") (\" + elem.get('Score') + u' upvotes)  \\n'\n",
      "        questions.append([int(elem.get('Score')), line])"
     ],
     "language": "python",
     "metadata": {},
     "outputs": [],
     "prompt_number": 21
    },
    {
     "cell_type": "code",
     "collapsed": false,
     "input": [
      "def get_popular_questions(site, name, votes):\n",
      "    context = etree.iterparse(site_to_folder[site] + \"/Posts.xml\", tag='row' )\n",
      "    with codecs.open(site + \"_\" + name + \".md\", \"w+\", encoding='utf-8') as good_apple_question:\n",
      "        good_apple_question.write(\"\".join(fast_iter(context, process_element, site, votes)))"
     ],
     "language": "python",
     "metadata": {},
     "outputs": [],
     "prompt_number": 15
    },
    {
     "cell_type": "code",
     "collapsed": false,
     "input": [
      "def get_popular_questions_by_tag(site, name, tag, votes):\n",
      "    context = etree.iterparse(site_to_folder[site] + \"/Posts.xml\", tag='row' )\n",
      "    with codecs.open(site + \"_\" + name + \".md\", \"w+\", encoding='utf-8') as good_questions:\n",
      "        good_questions.write(\"\".join(fast_iter(context, process_element_by_tag, site, tag, votes)))"
     ],
     "language": "python",
     "metadata": {},
     "outputs": [],
     "prompt_number": 20
    },
    {
     "cell_type": "code",
     "collapsed": false,
     "input": [
      "# get_popular_questions(\"apple\")\n",
      "get_popular_questions(\"unix\")"
     ],
     "language": "python",
     "metadata": {},
     "outputs": [],
     "prompt_number": 88
    },
    {
     "cell_type": "code",
     "collapsed": false,
     "input": [
      "get_popular_questions_by_tag(\"stackoverflow\", \"algorithm\", \"algorithm\", 30)"
     ],
     "language": "python",
     "metadata": {},
     "outputs": [],
     "prompt_number": 23
    },
    {
     "cell_type": "code",
     "collapsed": false,
     "input": [
      "get_popular_questions(\"stackoverflow\", \"popular\", 800)"
     ],
     "language": "python",
     "metadata": {},
     "outputs": [],
     "prompt_number": 17
    }
   ],
   "metadata": {}
  }
 ]
}