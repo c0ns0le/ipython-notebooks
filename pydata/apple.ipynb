{
 "metadata": {
  "name": "",
  "signature": "sha256:cc0e6a9e97c6a9a26b1c247fba5e2302e615ccbeb1f988394e9690fae8dec532"
 },
 "nbformat": 3,
 "nbformat_minor": 0,
 "worksheets": [
  {
   "cells": [
    {
     "cell_type": "code",
     "collapsed": false,
     "input": [
      "# data from stackoverflow\n",
      "import codecs\n",
      "from lxml import etree"
     ],
     "language": "python",
     "metadata": {},
     "outputs": [],
     "prompt_number": 44
    },
    {
     "cell_type": "code",
     "collapsed": false,
     "input": [
      "site_to_url = {\n",
      "\"apple\": u\"http://apple.stackexchange.com/\"\n",
      "}"
     ],
     "language": "python",
     "metadata": {},
     "outputs": [],
     "prompt_number": 12
    },
    {
     "cell_type": "code",
     "collapsed": false,
     "input": [
      "def fast_iter(context, func, *args, **kwargs):\n",
      "    \"\"\"\n",
      "    http://lxml.de/parsing.html#modifying-the-tree\n",
      "    Based on Liza Daly's fast_iter\n",
      "    http://www.ibm.com/developerworks/xml/library/x-hiperfparse/\n",
      "    See also http://effbot.org/zone/element-iterparse.htm\n",
      "    \"\"\"\n",
      "    order = 1\n",
      "    for event, elem in context:\n",
      "        func(elem, order, *args, **kwargs)\n",
      "        # It's safe to call clear() here because no descendants will be\n",
      "        # accessed\n",
      "        elem.clear()\n",
      "        order += 1\n",
      "        # Also eliminate now-empty references from the root node to elem\n",
      "        for ancestor in elem.xpath('ancestor-or-self::*'):\n",
      "            while ancestor.getprevious() is not None:\n",
      "                del ancestor.getparent()[0]\n",
      "    del context\n",
      "\n",
      "\n",
      "def process_element(elem, order, site, good_apple_question):\n",
      "    if elem.get('PostTypeId') == '1' and int(elem.get('Score')) >= 30:\n",
      "        line = unicode(elem.get('Id')) + u\". [\" + unicode(elem.get('Title')) + u\"](\" + site_to_url[site]\n",
      "        line = line + u\"questions/\" + elem.get(\"Id\") + u\") (\" + elem.get('Score') + u'upvotes  \\n'\n",
      "        good_apple_question.write(line)"
     ],
     "language": "python",
     "metadata": {},
     "outputs": [],
     "prompt_number": 60
    },
    {
     "cell_type": "code",
     "collapsed": false,
     "input": [
      "def get_popular_questions(site):\n",
      "    context = etree.iterparse(\"apple.stackexchange.com/Posts.xml\", tag='row' )\n",
      "    with codecs.open(\"apple.md\", \"w+\", encoding='utf-8') as good_apple_question:\n",
      "        fast_iter(context,process_element, site, good_apple_question)"
     ],
     "language": "python",
     "metadata": {},
     "outputs": [],
     "prompt_number": 45
    },
    {
     "cell_type": "code",
     "collapsed": false,
     "input": [
      "get_popular_questions(\"apple\")"
     ],
     "language": "python",
     "metadata": {},
     "outputs": [],
     "prompt_number": 46
    }
   ],
   "metadata": {}
  }
 ]
}