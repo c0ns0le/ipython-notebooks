{
 "metadata": {
  "name": "",
  "signature": "sha256:6243da69648c4b22454aef36c56c61ea3594dcea2c94fb40284b92cd885aa421"
 },
 "nbformat": 3,
 "nbformat_minor": 0,
 "worksheets": [
  {
   "cells": [
    {
     "cell_type": "code",
     "collapsed": false,
     "input": [
      "# data from stackoverflow\n",
      "import codecs\n",
      "from lxml import etree"
     ],
     "language": "python",
     "metadata": {},
     "outputs": [],
     "prompt_number": 44
    },
    {
     "cell_type": "code",
     "collapsed": false,
     "input": [
      "site_to_url = {\n",
      "\"apple\": u\"http://apple.stackexchange.com/\"\n",
      "}"
     ],
     "language": "python",
     "metadata": {},
     "outputs": [],
     "prompt_number": 12
    },
    {
     "cell_type": "code",
     "collapsed": false,
     "input": [
      "def fast_iter(context, func, *args, **kwargs):\n",
      "    \"\"\"\n",
      "    http://lxml.de/parsing.html#modifying-the-tree\n",
      "    Based on Liza Daly's fast_iter\n",
      "    http://www.ibm.com/developerworks/xml/library/x-hiperfparse/\n",
      "    See also http://effbot.org/zone/element-iterparse.htm\n",
      "    \"\"\"\n",
      "    order = 1\n",
      "    for event, elem in context:\n",
      "        func(elem, order, *args, **kwargs)\n",
      "        # It's safe to call clear() here because no descendants will be\n",
      "        # accessed\n",
      "        elem.clear()\n",
      "        order += 1\n",
      "        # Also eliminate now-empty references from the root node to elem\n",
      "        for ancestor in elem.xpath('ancestor-or-self::*'):\n",
      "            while ancestor.getprevious() is not None:\n",
      "                del ancestor.getparent()[0]\n",
      "    del context\n",
      "\n",
      "\n",
      "def process_element(elem, order, site, good_apple_question):\n",
      "    if elem.get('PostTypeId') == '1' and int(elem.get('Score')) >= 30:\n",
      "        line = unicode(elem.get('Id')) + u\". [\" + unicode(elem.get('Title')) + u\"](\" + site_to_url[site]\n",
      "        line = line + u\"questions/\" + elem.get(\"Id\") + u\") (\" + elem.get('Score') + u' upvotes)  \\n'\n",
      "        good_apple_question.write(line)\n",
      "        print elem.get('Tags')"
     ],
     "language": "python",
     "metadata": {},
     "outputs": [],
     "prompt_number": 64
    },
    {
     "cell_type": "code",
     "collapsed": false,
     "input": [
      "def get_popular_questions(site):\n",
      "    context = etree.iterparse(\"apple.stackexchange.com/Posts.xml\", tag='row' )\n",
      "    with codecs.open(\"apple.md\", \"w+\", encoding='utf-8') as good_apple_question:\n",
      "        fast_iter(context,process_element, site, good_apple_question)"
     ],
     "language": "python",
     "metadata": {},
     "outputs": [],
     "prompt_number": 65
    },
    {
     "cell_type": "code",
     "collapsed": false,
     "input": [
      "get_popular_questions(\"apple\")"
     ],
     "language": "python",
     "metadata": {},
     "outputs": [
      {
       "output_type": "stream",
       "stream": "stdout",
       "text": [
        "<mac><audio><startup>\n",
        "<osx><keyboard><terminal>\n",
        "<osx><keyboard><security><screen-lock>\n",
        "<osx><software-recommendation>\n",
        "<osx><memory><activity-monitor>\n",
        "<osx><software><security><anti-virus>\n",
        "<osx><keyboard>\n",
        "<osx><hidden-features>"
       ]
      },
      {
       "output_type": "stream",
       "stream": "stdout",
       "text": [
        "\n",
        "<iphone><ipod-touch><applications>"
       ]
      },
      {
       "output_type": "stream",
       "stream": "stdout",
       "text": [
        "\n",
        "<osx><mac><hard-drive>"
       ]
      },
      {
       "output_type": "stream",
       "stream": "stdout",
       "text": [
        "\n",
        "<iphone><battery><iphone-4>\n",
        "<ipad><software-recommendation>"
       ]
      },
      {
       "output_type": "stream",
       "stream": "stdout",
       "text": [
        "\n",
        "<terminal><macports><permission><homebrew>\n",
        "<iphone><hidden-features>\n",
        "<osx><macbook><sleep-wake>"
       ]
      },
      {
       "output_type": "stream",
       "stream": "stdout",
       "text": [
        "\n",
        "<osx><window-manager><switching>\n",
        "<software-recommendation><applications><window-manager>\n",
        "<osx><software-recommendation><windows><remote-desktop>\n",
        "<osx><email><mail.app><gmail>"
       ]
      },
      {
       "output_type": "stream",
       "stream": "stdout",
       "text": [
        "\n",
        "<osx><launchd><permission><login-items>\n",
        "<osx><snow-leopard><firewall>\n",
        "<software-recommendation><merge>"
       ]
      },
      {
       "output_type": "stream",
       "stream": "stdout",
       "text": [
        "\n",
        "<osx><character><keyboard>\n",
        "<terminal><memory><command-line>"
       ]
      },
      {
       "output_type": "stream",
       "stream": "stdout",
       "text": [
        "\n",
        "<mac><hardware-recommendation><sharing><nas><compatibility>"
       ]
      },
      {
       "output_type": "stream",
       "stream": "stdout",
       "text": [
        "\n",
        "<finder><ssh><mount>\n",
        "<osx><disk-space><filevault>\n",
        "<osx><mac><terminal><hidden-features>\n",
        "<osx><software-recommendation><ui><drawing>"
       ]
      },
      {
       "output_type": "stream",
       "stream": "stdout",
       "text": [
        "\n",
        "<osx><photos><usb><spotlight><trash>\n",
        "<macbook><power>\n",
        "<osx><keyboard><mouse><ui>"
       ]
      },
      {
       "output_type": "stream",
       "stream": "stdout",
       "text": [
        "\n",
        "<hard-drive><performance><disk-format>\n",
        "<iphone><itunes><disk-space>"
       ]
      },
      {
       "output_type": "stream",
       "stream": "stdout",
       "text": [
        "\n",
        "<terminal><text-editor>"
       ]
      },
      {
       "output_type": "stream",
       "stream": "stdout",
       "text": [
        "\n",
        "<software-recommendation><window-manager><utilities>\n",
        "<software-recommendation><uti><comparison>"
       ]
      },
      {
       "output_type": "stream",
       "stream": "stdout",
       "text": [
        "\n",
        "<macports>\n",
        "<osx><finder><services><shortcut-menu>"
       ]
      },
      {
       "output_type": "stream",
       "stream": "stdout",
       "text": [
        "\n",
        "<osx><copy-paste>"
       ]
      },
      {
       "output_type": "stream",
       "stream": "stdout",
       "text": [
        "\n",
        "<terminal><finder>\n",
        "<osx><mac><terminal><utilities>"
       ]
      },
      {
       "output_type": "stream",
       "stream": "stdout",
       "text": [
        "\n",
        "<macbook><battery><charge>\n",
        "<osx><finder><switching><shortcut-menu>\n",
        "<terminal><command-line><bash>"
       ]
      },
      {
       "output_type": "stream",
       "stream": "stdout",
       "text": [
        "\n",
        "<osx><animation>"
       ]
      },
      {
       "output_type": "stream",
       "stream": "stdout",
       "text": [
        "\n",
        "<osx><file>"
       ]
      },
      {
       "output_type": "stream",
       "stream": "stdout",
       "text": [
        "\n",
        "<mac><applications><security><install><pkg>"
       ]
      },
      {
       "output_type": "stream",
       "stream": "stdout",
       "text": [
        "\n",
        "<osx><keyboard>"
       ]
      },
      {
       "output_type": "stream",
       "stream": "stdout",
       "text": [
        "\n",
        "<osx><safari>"
       ]
      },
      {
       "output_type": "stream",
       "stream": "stdout",
       "text": [
        "\n",
        "<macbook><hardware><charging><battery>"
       ]
      },
      {
       "output_type": "stream",
       "stream": "stdout",
       "text": [
        "\n",
        "<lion><settings><customization>\n",
        "<lion>"
       ]
      },
      {
       "output_type": "stream",
       "stream": "stdout",
       "text": [
        "\n",
        "<osx><upgrade><lion>\n",
        "<osx><finder><lion>\n",
        "<osx><lion><spaces>\n",
        "<osx><lion>\n",
        "<lion><spaces><mission-control>\n",
        "<macbook><lion><sleep-wake>\n",
        "<osx><lion><mission-control>\n",
        "<lion><scrolling>\n",
        "<windows><airdrop>"
       ]
      },
      {
       "output_type": "stream",
       "stream": "stdout",
       "text": [
        "\n",
        "<lion><migration>\n",
        "<lion><hidden-features>"
       ]
      },
      {
       "output_type": "stream",
       "stream": "stdout",
       "text": [
        "\n",
        "<lion><recovery>"
       ]
      },
      {
       "output_type": "stream",
       "stream": "stdout",
       "text": [
        "\n",
        "<lion><mac><sound-volume>\n",
        "<lion>\n",
        "<osx><terminal><finder><path>\n",
        "<brightness><multiple-displays>"
       ]
      },
      {
       "output_type": "stream",
       "stream": "stdout",
       "text": [
        "\n",
        "<osx><lion><keyboard><internationalization>\n",
        "<google-chrome><multi-touch>"
       ]
      },
      {
       "output_type": "stream",
       "stream": "stdout",
       "text": [
        "\n",
        "<terminal><bash>"
       ]
      },
      {
       "output_type": "stream",
       "stream": "stdout",
       "text": [
        "\n",
        "<iterm>\n",
        "<lion><spotlight><dictionary>"
       ]
      },
      {
       "output_type": "stream",
       "stream": "stdout",
       "text": [
        "\n",
        "<itunes>\n",
        "<osx><mac><networking><performance><internet>"
       ]
      },
      {
       "output_type": "stream",
       "stream": "stdout",
       "text": [
        "\n",
        "<osx><macbook><ssd><performance><virtual-memory>\n",
        "<lion><bash><homebrew>"
       ]
      },
      {
       "output_type": "stream",
       "stream": "stdout",
       "text": [
        "\n",
        "<terminal><command-line><iterm>"
       ]
      },
      {
       "output_type": "stream",
       "stream": "stdout",
       "text": [
        "\n",
        "<osx><snow-leopard><software-recommendation><ssh><ftp>"
       ]
      },
      {
       "output_type": "stream",
       "stream": "stdout",
       "text": [
        "\n",
        "<osx><command-line><terminal><textedit>\n",
        "<osx><macbook><snow-leopard><networking><dns>"
       ]
      },
      {
       "output_type": "stream",
       "stream": "stdout",
       "text": [
        "\n",
        "<osx><macbook><snow-leopard><mac>\n",
        "<ios><ios-5><imessage>"
       ]
      },
      {
       "output_type": "stream",
       "stream": "stdout",
       "text": [
        "\n",
        "<ios><ios-5>"
       ]
      },
      {
       "output_type": "stream",
       "stream": "stdout",
       "text": [
        "\n",
        "<osx><linux>"
       ]
      },
      {
       "output_type": "stream",
       "stream": "stdout",
       "text": [
        "\n",
        "<iphone><mac>"
       ]
      },
      {
       "output_type": "stream",
       "stream": "stdout",
       "text": [
        "\n",
        "<homebrew><macports><fink>\n",
        "<terminal>"
       ]
      },
      {
       "output_type": "stream",
       "stream": "stdout",
       "text": [
        "\n",
        "<ios><memory><multitasking>"
       ]
      },
      {
       "output_type": "stream",
       "stream": "stdout",
       "text": [
        "\n",
        "<osx><dock><animation>"
       ]
      },
      {
       "output_type": "stream",
       "stream": "stdout",
       "text": [
        "\n",
        "<osx><terminal>\n",
        "<windows><imessage>"
       ]
      },
      {
       "output_type": "stream",
       "stream": "stdout",
       "text": [
        "\n",
        "<osx><finder><folders><root>"
       ]
      },
      {
       "output_type": "stream",
       "stream": "stdout",
       "text": [
        "\n",
        "<icloud><sharing><apple-id>"
       ]
      },
      {
       "output_type": "stream",
       "stream": "stdout",
       "text": [
        "\n",
        "<lion><homebrew><xcode><gcc>"
       ]
      },
      {
       "output_type": "stream",
       "stream": "stdout",
       "text": [
        "\n",
        "<osx><time-machine><backup><time-capsule><maintenance>"
       ]
      },
      {
       "output_type": "stream",
       "stream": "stdout",
       "text": [
        "\n",
        "<lion><permission><homebrew><server.app>"
       ]
      },
      {
       "output_type": "stream",
       "stream": "stdout",
       "text": [
        "\n",
        "<keyboard><character><character-map>"
       ]
      },
      {
       "output_type": "stream",
       "stream": "stdout",
       "text": [
        "\n",
        "<lion><software-recommendation><adobe-photoshop>"
       ]
      },
      {
       "output_type": "stream",
       "stream": "stdout",
       "text": [
        "\n",
        "<osx><photos>"
       ]
      },
      {
       "output_type": "stream",
       "stream": "stdout",
       "text": [
        "\n",
        "<macbook><multiple-displays><thunderbolt><thunderbolt-display>"
       ]
      },
      {
       "output_type": "stream",
       "stream": "stdout",
       "text": [
        "\n",
        "<osx><macbook><startup>"
       ]
      },
      {
       "output_type": "stream",
       "stream": "stdout",
       "text": [
        "\n",
        "<security><malware>"
       ]
      },
      {
       "output_type": "stream",
       "stream": "stdout",
       "text": [
        "\n",
        "<terminal><iterm>"
       ]
      },
      {
       "output_type": "stream",
       "stream": "stdout",
       "text": [
        "\n",
        "<switching><web-browsing><internet-explorer>\n",
        "<lion><osx><mac><windows-7><window-manager>"
       ]
      },
      {
       "output_type": "stream",
       "stream": "stdout",
       "text": [
        "\n",
        "<osx><command-line>"
       ]
      },
      {
       "output_type": "stream",
       "stream": "stdout",
       "text": [
        "\n",
        "<osx><software-recommendation><image-editing>"
       ]
      },
      {
       "output_type": "stream",
       "stream": "stdout",
       "text": [
        "\n",
        "<windows><macbook><development><retina-display>"
       ]
      },
      {
       "output_type": "stream",
       "stream": "stdout",
       "text": [
        "\n",
        "<macbook>"
       ]
      },
      {
       "output_type": "stream",
       "stream": "stdout",
       "text": [
        "\n",
        "<macbook><development><ubuntu>"
       ]
      },
      {
       "output_type": "stream",
       "stream": "stdout",
       "text": [
        "\n",
        "<osx><keyboard>"
       ]
      },
      {
       "output_type": "stream",
       "stream": "stdout",
       "text": [
        "\n",
        "<terminal><command-line><bash><auto-complete><git>\n",
        "<osx><macbook><mac>"
       ]
      },
      {
       "output_type": "stream",
       "stream": "stdout",
       "text": [
        "\n",
        "<osx><hidden-features><mountain-lion>"
       ]
      },
      {
       "output_type": "stream",
       "stream": "stdout",
       "text": [
        "\n",
        "<mountain-lion><environment>\n",
        "<terminal><applescript><mountain-lion><notification-center><shell>\n",
        "<osx><battery><menu-bar><mountain-lion><hidden-features>\n",
        "<mountain-lion><java>"
       ]
      },
      {
       "output_type": "stream",
       "stream": "stdout",
       "text": [
        "\n",
        "<applications><mountain-lion>\n",
        "<finder><mountain-lion><ntfs>\n",
        "<mountain-lion><terminal><shell><geolocation>"
       ]
      },
      {
       "output_type": "stream",
       "stream": "stdout",
       "text": [
        "\n",
        "<mountain-lion><mac-appstore><software-update><notification-center>"
       ]
      },
      {
       "output_type": "stream",
       "stream": "stdout",
       "text": [
        "\n",
        "<osx><mountain-lion>"
       ]
      },
      {
       "output_type": "stream",
       "stream": "stdout",
       "text": [
        "\n",
        "<ios-6>\n",
        "<osx><mountain-lion><window-manager>"
       ]
      },
      {
       "output_type": "stream",
       "stream": "stdout",
       "text": [
        "\n",
        "<osx><external-disk><trash>\n",
        "<osx><mountain-lion><sharing><rename><hosts>\n",
        "<osx><mac><memory>"
       ]
      },
      {
       "output_type": "stream",
       "stream": "stdout",
       "text": [
        "\n",
        "<terminal><linux><utilities>"
       ]
      },
      {
       "output_type": "stream",
       "stream": "stdout",
       "text": [
        "\n",
        "<finder>\n",
        "<osx><ssd><filesystem><fusion-drive><core-storage>\n",
        "<keyboard><ms-office>"
       ]
      },
      {
       "output_type": "stream",
       "stream": "stdout",
       "text": [
        "\n",
        "<osx><keyboard>"
       ]
      },
      {
       "output_type": "stream",
       "stream": "stdout",
       "text": [
        "\n",
        "<iphone><ios><gmail><exchange-activesync><google-sync>"
       ]
      },
      {
       "output_type": "stream",
       "stream": "stdout",
       "text": [
        "\n",
        "<activity-monitor><process>\n",
        "<homebrew><git>"
       ]
      },
      {
       "output_type": "stream",
       "stream": "stdout",
       "text": [
        "\n",
        "<safari><ms-office><install><google-chrome><software>"
       ]
      },
      {
       "output_type": "stream",
       "stream": "stdout",
       "text": [
        "\n",
        "<applications><command-line><filesystem>"
       ]
      },
      {
       "output_type": "stream",
       "stream": "stdout",
       "text": [
        "\n",
        "<networking><wifi><ethernet>\n",
        "<homebrew>"
       ]
      },
      {
       "output_type": "stream",
       "stream": "stdout",
       "text": [
        "\n",
        "<ios><ios-7>\n",
        "<osx><applications><command-line>"
       ]
      },
      {
       "output_type": "stream",
       "stream": "stdout",
       "text": [
        "\n",
        "<mountain-lion><bootcamp><usb><boot><windows-8>"
       ]
      },
      {
       "output_type": "stream",
       "stream": "stdout",
       "text": [
        "\n",
        "<osx><hidden-features><mavericks>"
       ]
      },
      {
       "output_type": "stream",
       "stream": "stdout",
       "text": [
        "\n",
        "<mac><ibooks><mavericks>\n",
        "<osx><dock><mavericks><color><design>\n",
        "<mavericks>\n",
        "<keyboard><multiple-displays><mavericks>\n",
        "<osx><homebrew><mavericks><ntfs>\n",
        "<mavericks><window-manager><zoom>"
       ]
      },
      {
       "output_type": "stream",
       "stream": "stdout",
       "text": [
        "\n",
        "<osx><mavericks><multiple-displays><application-switcher>\n",
        "<osx><launchd><process>"
       ]
      },
      {
       "output_type": "stream",
       "stream": "stdout",
       "text": [
        "\n",
        "<keyboard><mavericks><hidden-file>"
       ]
      },
      {
       "output_type": "stream",
       "stream": "stdout",
       "text": [
        "\n",
        "<osx><terminal><file><symlink>"
       ]
      },
      {
       "output_type": "stream",
       "stream": "stdout",
       "text": [
        "\n",
        "<macbook><keyboard><usb>"
       ]
      },
      {
       "output_type": "stream",
       "stream": "stdout",
       "text": [
        "\n",
        "<homebrew>"
       ]
      },
      {
       "output_type": "stream",
       "stream": "stdout",
       "text": [
        "\n",
        "<google-chrome><menu-bar>"
       ]
      },
      {
       "output_type": "stream",
       "stream": "stdout",
       "text": [
        "\n",
        "<osx><windows><multiple-displays><window-manager><productivity>\n",
        "<security><software-update><openssl>"
       ]
      },
      {
       "output_type": "stream",
       "stream": "stdout",
       "text": [
        "\n",
        "<osx><openssl>\n",
        "<osx><fullscreen>"
       ]
      },
      {
       "output_type": "stream",
       "stream": "stdout",
       "text": [
        "\n",
        "<osx><yosemite><fullscreen>"
       ]
      },
      {
       "output_type": "stream",
       "stream": "stdout",
       "text": [
        "\n",
        "<ms-office><numbers>"
       ]
      },
      {
       "output_type": "stream",
       "stream": "stdout",
       "text": [
        "\n",
        "<osx><security><bash>"
       ]
      },
      {
       "output_type": "stream",
       "stream": "stdout",
       "text": [
        "\n",
        "<osx><security><bash>\n",
        "<xcode><crash><yosemite>"
       ]
      },
      {
       "output_type": "stream",
       "stream": "stdout",
       "text": [
        "\n",
        "<yosemite><window-manager><fullscreen><keybindings>\n",
        "<osx><yosemite><menu-bar>\n",
        "<osx><yosemite><performance>"
       ]
      },
      {
       "output_type": "stream",
       "stream": "stdout",
       "text": [
        "\n",
        "<homebrew>\n",
        "<osx><macbook><mavericks><yosemite><menu-bar>"
       ]
      },
      {
       "output_type": "stream",
       "stream": "stdout",
       "text": [
        "\n",
        "<iphone><screen-capture>"
       ]
      },
      {
       "output_type": "stream",
       "stream": "stdout",
       "text": [
        "\n",
        "<yosemite><iphoto>"
       ]
      },
      {
       "output_type": "stream",
       "stream": "stdout",
       "text": [
        "\n"
       ]
      }
     ],
     "prompt_number": 66
    }
   ],
   "metadata": {}
  }
 ]
}