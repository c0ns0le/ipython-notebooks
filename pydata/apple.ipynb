{
 "metadata": {
  "name": "",
  "signature": "sha256:ee428ec3da6db61fd749e60159e49cc990488464b7b4bede74cc958ca389448a"
 },
 "nbformat": 3,
 "nbformat_minor": 0,
 "worksheets": [
  {
   "cells": [
    {
     "cell_type": "code",
     "collapsed": false,
     "input": [
      "# data from stackoverflow\n",
      "import codecs\n",
      "from lxml import etree"
     ],
     "language": "python",
     "metadata": {},
     "outputs": [],
     "prompt_number": 75
    },
    {
     "cell_type": "code",
     "collapsed": false,
     "input": [
      "site_to_url = {\n",
      "\"apple\": u\"http://apple.stackexchange.com/\",\n",
      "\"unix\": u\"http://unix.stackexchange.com/\"\n",
      "}\n",
      "\n",
      "site_to_folder = {\n",
      "\"apple\": \"apple.stackexchange.com\",\n",
      "\"unix\": \"unix.stackexchange.com\"\n",
      "}"
     ],
     "language": "python",
     "metadata": {},
     "outputs": [],
     "prompt_number": 76
    },
    {
     "cell_type": "code",
     "collapsed": false,
     "input": [
      "def fast_iter(context, func, *args, **kwargs):\n",
      "    \"\"\"\n",
      "    http://lxml.de/parsing.html#modifying-the-tree\n",
      "    Based on Liza Daly's fast_iter\n",
      "    http://www.ibm.com/developerworks/xml/library/x-hiperfparse/\n",
      "    See also http://effbot.org/zone/element-iterparse.htm\n",
      "    \"\"\"\n",
      "    questions = []\n",
      "    for event, elem in context:\n",
      "        func(elem, questions, *args, **kwargs)\n",
      "        # It's safe to call clear() here because no descendants will be\n",
      "        # accessed\n",
      "        elem.clear()\n",
      "        # Also eliminate now-empty references from the root node to elem\n",
      "        for ancestor in elem.xpath('ancestor-or-self::*'):\n",
      "            while ancestor.getprevious() is not None:\n",
      "                del ancestor.getparent()[0]\n",
      "    del context\n",
      "    questions.sort(reverse=True)\n",
      "    questions = [unicode(str(i+1)) + u'. ' + item[1] for i, item in enumerate(questions)]\n",
      "    return questions\n",
      "    \n",
      "\n",
      "\n",
      "def process_element(elem, questions, site):\n",
      "    if elem.get('PostTypeId') == '1' and int(elem.get('Score')) >= 30:\n",
      "        line = u\"[\" + unicode(elem.get('Title')) + u\"](\" + site_to_url[site]\n",
      "        line += u\"questions/\" + elem.get(\"Id\") + u\") (\" + elem.get('Score') + u' upvotes)  \\n'\n",
      "        questions.append([int(elem.get('Score')), line])"
     ],
     "language": "python",
     "metadata": {},
     "outputs": [],
     "prompt_number": 86
    },
    {
     "cell_type": "code",
     "collapsed": false,
     "input": [
      "def get_popular_questions(site):\n",
      "    context = etree.iterparse(site_to_folder[site] + \"/Posts.xml\", tag='row' )\n",
      "    with codecs.open(site + \".md\", \"w+\", encoding='utf-8') as good_apple_question:\n",
      "        good_apple_question.write(\"\".join(fast_iter(context,process_element, site)))"
     ],
     "language": "python",
     "metadata": {},
     "outputs": [],
     "prompt_number": 80
    },
    {
     "cell_type": "code",
     "collapsed": false,
     "input": [
      "# get_popular_questions(\"apple\")\n",
      "get_popular_questions(\"unix\")"
     ],
     "language": "python",
     "metadata": {},
     "outputs": [],
     "prompt_number": 88
    },
    {
     "cell_type": "code",
     "collapsed": false,
     "input": [],
     "language": "python",
     "metadata": {},
     "outputs": []
    }
   ],
   "metadata": {}
  }
 ]
}