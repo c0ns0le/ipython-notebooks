{
 "metadata": {
  "name": "",
  "signature": "sha256:779c91132222b3b867983f42b8011bff22ce9327be7df21b72f63ea3555b2702"
 },
 "nbformat": 3,
 "nbformat_minor": 0,
 "worksheets": [
  {
   "cells": [
    {
     "cell_type": "code",
     "collapsed": false,
     "input": [
      "# data from stackoverflow\n",
      "import codecs\n",
      "from lxml import etree"
     ],
     "language": "python",
     "metadata": {},
     "outputs": [],
     "prompt_number": 44
    },
    {
     "cell_type": "code",
     "collapsed": false,
     "input": [
      "site_to_url = {\n",
      "\"apple\": u\"http://apple.stackexchange.com/\",\n",
      "\"unix\": u\"http://unix.stackexchange.com/\"\n",
      "}\n",
      "\n",
      "site_to_folder = {\n",
      "\"apple\": \"apple.stackexchange.com\",\n",
      "\"unix\": \"unix.stackexchange.com\"\n",
      "}"
     ],
     "language": "python",
     "metadata": {},
     "outputs": [],
     "prompt_number": 67
    },
    {
     "cell_type": "code",
     "collapsed": false,
     "input": [
      "def fast_iter(context, func, *args, **kwargs):\n",
      "    \"\"\"\n",
      "    http://lxml.de/parsing.html#modifying-the-tree\n",
      "    Based on Liza Daly's fast_iter\n",
      "    http://www.ibm.com/developerworks/xml/library/x-hiperfparse/\n",
      "    See also http://effbot.org/zone/element-iterparse.htm\n",
      "    \"\"\"\n",
      "    order = 1\n",
      "    for event, elem in context:\n",
      "        func(elem, order, *args, **kwargs)\n",
      "        # It's safe to call clear() here because no descendants will be\n",
      "        # accessed\n",
      "        elem.clear()\n",
      "        order += 1\n",
      "        # Also eliminate now-empty references from the root node to elem\n",
      "        for ancestor in elem.xpath('ancestor-or-self::*'):\n",
      "            while ancestor.getprevious() is not None:\n",
      "                del ancestor.getparent()[0]\n",
      "    del context\n",
      "\n",
      "\n",
      "def process_element(elem, order, site, good_apple_question):\n",
      "    if elem.get('PostTypeId') == '1' and int(elem.get('Score')) >= 30:\n",
      "        line = unicode(elem.get('Id')) + u\". [\" + unicode(elem.get('Title')) + u\"](\" + site_to_url[site]\n",
      "        line = line + u\"questions/\" + elem.get(\"Id\") + u\") (\" + elem.get('Score') + u' upvotes)  \\n'\n",
      "        good_apple_question.write(line)"
     ],
     "language": "python",
     "metadata": {},
     "outputs": [],
     "prompt_number": 70
    },
    {
     "cell_type": "code",
     "collapsed": false,
     "input": [
      "def get_popular_questions(site):\n",
      "    context = etree.iterparse(site_to_folder[site] + \"/Posts.xml\", tag='row' )\n",
      "    with codecs.open(site + \".md\", \"w+\", encoding='utf-8') as good_apple_question:\n",
      "        fast_iter(context,process_element, site, good_apple_question)"
     ],
     "language": "python",
     "metadata": {},
     "outputs": [],
     "prompt_number": 68
    },
    {
     "cell_type": "code",
     "collapsed": false,
     "input": [
      "# get_popular_questions(\"apple\")\n",
      "get_popular_questions(\"unix\")"
     ],
     "language": "python",
     "metadata": {},
     "outputs": [],
     "prompt_number": 72
    }
   ],
   "metadata": {}
  }
 ]
}