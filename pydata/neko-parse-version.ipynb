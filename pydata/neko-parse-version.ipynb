{
 "metadata": {
  "name": "",
  "signature": "sha256:02dea36add19a7ab161c4d95edcf9b349debf5a840ded36a199d53c0494e09e9"
 },
 "nbformat": 3,
 "nbformat_minor": 0,
 "worksheets": [
  {
   "cells": [
    {
     "cell_type": "code",
     "collapsed": false,
     "input": [
      "from lxml.html.clean import Cleaner\n",
      "import lxml.html\n",
      "import requests"
     ],
     "language": "python",
     "metadata": {},
     "outputs": [],
     "prompt_number": 1
    },
    {
     "cell_type": "code",
     "collapsed": false,
     "input": [
      "from datetime import datetime"
     ],
     "language": "python",
     "metadata": {},
     "outputs": [],
     "prompt_number": 17
    },
    {
     "cell_type": "code",
     "collapsed": false,
     "input": [
      "def get_doc_root(url):\n",
      "    html = requests.get(url).content\n",
      "    cleaner = Cleaner(page_structure=False)\n",
      "    cleaned_html = cleaner.clean_html(html)\n",
      "    root = lxml.html.fromstring(cleaned_html)\n",
      "    return root"
     ],
     "language": "python",
     "metadata": {},
     "outputs": [],
     "prompt_number": 5
    },
    {
     "cell_type": "code",
     "collapsed": false,
     "input": [
      "url = \"http://nekohtml.sourceforge.net/changes.html\"\n",
      "root = get_doc_root(url)"
     ],
     "language": "python",
     "metadata": {},
     "outputs": [],
     "prompt_number": 6
    },
    {
     "cell_type": "code",
     "collapsed": false,
     "input": [
      "def clean_info(version_info):\n",
      "    version_info = version_info.replace('(', '').replace(')', '').replace('Sept', 'Sep')\n",
      "    info_list = version_info.split()\n",
      "    version = info_list[1]\n",
      "    date = \" \".join(info_list[2:])\n",
      "    return version + \",\" + datetime.strptime(date, '%d %b %Y').strftime('%Y-%m-%d')"
     ],
     "language": "python",
     "metadata": {},
     "outputs": [],
     "prompt_number": 32
    },
    {
     "cell_type": "code",
     "collapsed": false,
     "input": [
      "info = []\n",
      "for dt in root.xpath('.//dt//text()'):\n",
      "    if \"(\" in dt:\n",
      "        version_info = dt.strip('[').strip()\n",
      "        info.append(clean_info(version_info))\n",
      "print(len(info))\n",
      "for line in reversed(info):\n",
      "    print line"
     ],
     "language": "python",
     "metadata": {},
     "outputs": [
      {
       "output_type": "stream",
       "stream": "stdout",
       "text": [
        "57\n",
        "0.1,2002-02-04\n",
        "0.2,2002-02-14\n",
        "0.2.1,2002-02-16\n",
        "0.2.2,2002-02-17\n",
        "0.2.3,2002-02-19\n",
        "0.3,2002-02-25\n",
        "0.3.1,2002-03-07\n",
        "0.3.2,2002-03-15\n",
        "0.3.3,2002-04-02\n",
        "0.4,2002-04-14\n",
        "0.4.1,2002-05-03\n",
        "0.5,2002-05-07\n",
        "0.6,2002-05-12\n",
        "0.6.1,2002-05-23\n",
        "0.6.2,2002-05-26\n",
        "0.6.3,2002-05-29\n",
        "0.6.4,2002-06-15\n",
        "0.6.5,2002-07-17\n",
        "0.6.6,2002-08-25\n",
        "0.6.7,2002-09-06\n",
        "0.6.8,2002-09-30\n",
        "0.7,2002-11-27\n",
        "0.7.1,2002-12-06\n",
        "0.7.2,2003-01-10\n",
        "0.7.3,2003-01-28\n",
        "0.7.4,2003-03-03\n",
        "0.7.5,2003-05-02\n",
        "0.7.6,2003-05-06\n",
        "0.7.7,2003-06-25\n",
        "0.8,2003-08-05\n",
        "0.8.1,2003-09-30\n",
        "0.8.2,2003-11-14\n",
        "0.8.3,2003-12-12\n",
        "0.9,2004-02-19\n",
        "0.9.1,2004-02-24\n",
        "0.9.2,2004-03-31\n",
        "0.9.3,2004-06-30\n",
        "0.9.4,2004-11-17\n",
        "0.9.5,2005-06-18\n",
        "1.9.6,2007-12-14\n",
        "1.9.6.1,2008-01-23\n",
        "1.9.6.2,2008-03-17\n",
        "1.9.7,2008-04-05\n",
        "1.9.8,2008-07-22\n",
        "1.9.9,2008-09-11\n",
        "1.9.10,2008-12-22\n",
        "1.9.11,2008-12-29\n",
        "1.9.12,2009-04-20\n",
        "1.9.13,2009-09-02\n",
        "1.9.14,2010-02-02\n",
        "1.9.15,2011-08-03\n",
        "1.9.16,2012-07-18\n",
        "1.9.17,2012-11-05\n",
        "1.9.18,2013-02-27\n",
        "1.9.19,2013-10-09\n",
        "1.9.20,2014-02-13\n",
        "1.9.21,2014-06-02\n"
       ]
      }
     ],
     "prompt_number": 34
    }
   ],
   "metadata": {}
  }
 ]
}