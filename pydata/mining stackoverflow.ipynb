{
 "metadata": {
  "name": "",
  "signature": "sha256:588435ecdd18e1eb6d7fb82be7b990b87e464bbcbbb05411f6087888f0dfcaaa"
 },
 "nbformat": 3,
 "nbformat_minor": 0,
 "worksheets": [
  {
   "cells": [
    {
     "cell_type": "code",
     "collapsed": false,
     "input": [
      "# data from stackoverflow\n",
      "from lxml import etree\n",
      "import codecs"
     ],
     "language": "python",
     "metadata": {},
     "outputs": [],
     "prompt_number": 4
    },
    {
     "cell_type": "code",
     "collapsed": false,
     "input": [
      "so_site = \"http://stackoverflow.com/\""
     ],
     "language": "python",
     "metadata": {},
     "outputs": [],
     "prompt_number": 5
    },
    {
     "cell_type": "code",
     "collapsed": false,
     "input": [
      "def deprecation_related(text):\n",
      "    keywords = [\"deprecated\", \"deprecation\", \"deprecate\"]\n",
      "    return any(keyword in text.lower() for keyword in keywords)\n",
      "def BI_related(text):\n",
      "    keywords = [\"compatibility\", \"incompatibility\", \"backwards\", \"compatible\"]\n",
      "    return any(keyword in text.lower() for keyword in keywords)"
     ],
     "language": "python",
     "metadata": {},
     "outputs": [],
     "prompt_number": 6
    },
    {
     "cell_type": "code",
     "collapsed": false,
     "input": [
      "def fast_iter(context, func, *args, **kwargs):\n",
      "    \"\"\"\n",
      "    http://lxml.de/parsing.html#modifying-the-tree\n",
      "    Based on Liza Daly's fast_iter\n",
      "    http://www.ibm.com/developerworks/xml/library/x-hiperfparse/\n",
      "    See also http://effbot.org/zone/element-iterparse.htm\n",
      "    \"\"\"\n",
      "    de_counter = BI_counter = 1\n",
      "    for event, elem in context:\n",
      "        func(elem, BI_counter, de_counter, *args, **kwargs)\n",
      "        # It's safe to call clear() here because no descendants will be\n",
      "        # accessed\n",
      "        elem.clear()\n",
      "        # Also eliminate now-empty references from the root node to elem\n",
      "        for ancestor in elem.xpath('ancestor-or-self::*'):\n",
      "            while ancestor.getprevious() is not None:\n",
      "                del ancestor.getparent()[0]\n",
      "    del context\n",
      "\n",
      "\n",
      "def process_element(elem, BI_counter, de_counter, deprecated_question, bi_question):\n",
      "    if elem.get('PostTypeId') == '1':\n",
      "        text = elem.get('Title') + \" \" + elem.get('Body')\n",
      "        text = text.lower()\n",
      "        tags = elem.get('Tags')\n",
      "        if \"javascript\" not in tags and \"java\" in tags and deprecation_related(text):\n",
      "            line = unicode(de_counter) + u\". [\" + unicode(elem.get('Title').replace('<', '').replace('>', '')) + u\"](\" + so_site\n",
      "            line += u\"questions/\" + elem.get(\"Id\") + u\") (\" + elem.get('Score') + u' upvotes)  \\n'\n",
      "            de_counter += 1\n",
      "            deprecated_question.write(line)\n",
      "        if \"javascript\" not in tags and \"java\" in tags and BI_related(text):\n",
      "            line = unicode(BI_counter) + u\". [\" + unicode(elem.get('Title').replace('<', '').replace('>', '')) + u\"](\" + so_site\n",
      "            line += u\"questions/\" + elem.get(\"Id\") + u\") (\" + elem.get('Score') + u' upvotes)  \\n'\n",
      "            bi_question.write(line)\n",
      "            BI_counter += 1\n"
     ],
     "language": "python",
     "metadata": {},
     "outputs": [],
     "prompt_number": 13
    },
    {
     "cell_type": "code",
     "collapsed": false,
     "input": [
      "def getDeprecatedAndBI(library):\n",
      "    context = etree.iterparse(\"stackoverflow/Posts.xml\", tag='row' )\n",
      "    with codecs.open('so_deprecated_questions.md', 'w+', 'utf-8') as deprecated_question, codecs.open('so_bi_questions.md', 'w+', 'utf-8') as bi_question:\n",
      "        fast_iter(context,process_element, deprecated_question, bi_question)"
     ],
     "language": "python",
     "metadata": {},
     "outputs": [],
     "prompt_number": 11
    },
    {
     "cell_type": "code",
     "collapsed": false,
     "input": [
      "getDeprecatedAndBI(\"stackoverflow\")"
     ],
     "language": "python",
     "metadata": {},
     "outputs": [],
     "prompt_number": 14
    }
   ],
   "metadata": {}
  }
 ]
}