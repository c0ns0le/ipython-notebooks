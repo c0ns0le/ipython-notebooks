{
 "metadata": {
  "name": "",
  "signature": "sha256:e01847c3fa563b1321f9cae945275acceedc7d38e637aad9ab7638dda5cbdbd1"
 },
 "nbformat": 3,
 "nbformat_minor": 0,
 "worksheets": [
  {
   "cells": [
    {
     "cell_type": "code",
     "collapsed": false,
     "input": [
      "# data from stackoverflow\n",
      "from lxml import etree\n",
      "import codecs\n",
      "\n",
      "from pymongo import MongoClient"
     ],
     "language": "python",
     "metadata": {},
     "outputs": [],
     "prompt_number": 1
    },
    {
     "cell_type": "markdown",
     "metadata": {},
     "source": [
      "Mongodb collections. databse: deprecation_bi\n",
      "\n",
      "1. deprecation: SO_question_url, title, votes, library, class, type, entity, relevant\n",
      "2. bi: SO_question_url, title, votes, library, class, type, entity, relevant"
     ]
    },
    {
     "cell_type": "code",
     "collapsed": false,
     "input": [
      "so_site = \"http://stackoverflow.com/\""
     ],
     "language": "python",
     "metadata": {},
     "outputs": [],
     "prompt_number": 2
    },
    {
     "cell_type": "code",
     "collapsed": false,
     "input": [
      "client = MongoClient('localhost', 27017)\n",
      "db = client.deprecation_bi\n",
      "deprecations = db.deprecation\n",
      "bis = db.bi"
     ],
     "language": "python",
     "metadata": {},
     "outputs": [],
     "prompt_number": 5
    },
    {
     "cell_type": "code",
     "collapsed": false,
     "input": [
      "def deprecation_related(text):\n",
      "    keywords = [\"deprecated\", \"deprecation\", \"deprecate\"]\n",
      "    return any(keyword in text.lower() for keyword in keywords)\n",
      "def BI_related(text):\n",
      "    keywords = [\"compatibility\", \"incompatibility\", \"backwards\", \"compatible\"]\n",
      "    return any(keyword in text.lower() for keyword in keywords)"
     ],
     "language": "python",
     "metadata": {},
     "outputs": [],
     "prompt_number": 3
    },
    {
     "cell_type": "code",
     "collapsed": false,
     "input": [
      "def fast_iter(context, func, *args, **kwargs):\n",
      "    \"\"\"\n",
      "    http://lxml.de/parsing.html#modifying-the-tree\n",
      "    Based on Liza Daly's fast_iter\n",
      "    http://www.ibm.com/developerworks/xml/library/x-hiperfparse/\n",
      "    See also http://effbot.org/zone/element-iterparse.htm\n",
      "    \"\"\"\n",
      "    de_counter = BI_counter = 1\n",
      "    for event, elem in context:\n",
      "        func(elem, BI_counter, de_counter, *args, **kwargs)\n",
      "        # It's safe to call clear() here because no descendants will be\n",
      "        # accessed\n",
      "        elem.clear()\n",
      "        # Also eliminate now-empty references from the root node to elem\n",
      "        for ancestor in elem.xpath('ancestor-or-self::*'):\n",
      "            while ancestor.getprevious() is not None:\n",
      "                del ancestor.getparent()[0]\n",
      "    del context\n",
      "\n",
      "\n",
      "def process_element(elem, BI_counter, de_counter, deprecated_question, bi_question):\n",
      "    if elem.get('PostTypeId') == '1':\n",
      "        text = elem.get('Title') + \" \" + elem.get('Body')\n",
      "        text = text.lower()\n",
      "        tags = elem.get('Tags')\n",
      "        if \"javascript\" not in tags and \"java\" in tags and deprecation_related(text):\n",
      "            deprecation = {}\n",
      "            deprecation['_id'] = elem.get(\"Id\")\n",
      "            deprecation['title'] = elem.get('Title')\n",
      "            deprecation['url'] = so_site + u\"questions/\" + elem.get(\"Id\")\n",
      "            deprecation['votes'] = int(elem.get('Score'))\n",
      "            deprecations.insert(deprecation)\n",
      "            line = unicode(de_counter) + u\". [\" + unicode(elem.get('Title').replace('<', '').replace('>', '')) + u\"](\" + so_site\n",
      "            line += u\"questions/\" + elem.get(\"Id\") + u\") (\" + elem.get('Score') + u' upvotes)  \\n'\n",
      "            de_counter += 1\n",
      "            deprecated_question.write(line)\n",
      "        if \"javascript\" not in tags and \"java\" in tags and BI_related(text):\n",
      "            bi = {}\n",
      "            bi['_id'] = elem.get(\"Id\")\n",
      "            bi['title'] = elem.get('Title')\n",
      "            bi['url'] = so_site + u\"questions/\" + elem.get(\"Id\")\n",
      "            bi['votes'] = int(elem.get('Score'))\n",
      "            bis.insert(bi)\n",
      "            line = unicode(BI_counter) + u\". [\" + unicode(elem.get('Title').replace('<', '').replace('>', '')) + u\"](\" + so_site\n",
      "            line += u\"questions/\" + elem.get(\"Id\") + u\") (\" + elem.get('Score') + u' upvotes)  \\n'\n",
      "            bi_question.write(line)\n",
      "            BI_counter += 1\n"
     ],
     "language": "python",
     "metadata": {},
     "outputs": [],
     "prompt_number": 6
    },
    {
     "cell_type": "code",
     "collapsed": false,
     "input": [
      "def getDeprecatedAndBI(library):\n",
      "    context = etree.iterparse(\"/Volumes/JIng/stackoverflow/stackoverflow/Posts.xml\", tag='row' )\n",
      "    with codecs.open('so_deprecated_questions.md', 'w+', 'utf-8') as deprecated_question, codecs.open('so_bi_questions.md', 'w+', 'utf-8') as bi_question:\n",
      "        fast_iter(context,process_element, deprecated_question, bi_question)"
     ],
     "language": "python",
     "metadata": {},
     "outputs": [],
     "prompt_number": 8
    },
    {
     "cell_type": "code",
     "collapsed": false,
     "input": [
      "getDeprecatedAndBI(\"stackoverflow\")"
     ],
     "language": "python",
     "metadata": {},
     "outputs": [],
     "prompt_number": 9
    }
   ],
   "metadata": {}
  }
 ]
}